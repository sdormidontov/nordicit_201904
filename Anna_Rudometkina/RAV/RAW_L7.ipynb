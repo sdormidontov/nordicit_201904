{
 "cells": [
  {
   "cell_type": "code",
   "execution_count": 26,
   "metadata": {},
   "outputs": [
    {
     "name": "stdout",
     "output_type": "stream",
     "text": [
      "31\n",
      "Число является простым\n"
     ]
    }
   ],
   "source": [
    "#Проверить является ли число простым\n",
    "a = int(input())\n",
    "def fun2(a):\n",
    "    for i in range(2, a):\n",
    "        if a % i == 0:\n",
    "            print('Число является составным')\n",
    "            return\n",
    "    print('Число является простым')\n",
    "fun2(a)\n",
    "        "
   ]
  },
  {
   "cell_type": "code",
   "execution_count": 50,
   "metadata": {},
   "outputs": [
    {
     "name": "stdout",
     "output_type": "stream",
     "text": [
      "[0, 1, 2, 3, 4, 5, 7, 8, 9]\n"
     ]
    }
   ],
   "source": [
    "# Отсортировать список без исп-я библиотечных функций по возрастанию \n",
    "lst = [1, 8, 7, 5, 4, 9, 3, 2, 0]\n",
    "def swap(lst, i1, i2):\n",
    "    t = lst[i1]\n",
    "    lst[i1] = lst[i2]\n",
    "    lst[i2] = t\n",
    "    return lst\n",
    "for i in range(0, len(lst)):\n",
    "    for j in range(1, len(lst)):\n",
    "        if lst[j] < lst[j-1]:\n",
    "            lst = swap(lst, j, j-1)\n",
    "print(lst)"
   ]
  },
  {
   "cell_type": "code",
   "execution_count": 27,
   "metadata": {},
   "outputs": [
    {
     "name": "stdout",
     "output_type": "stream",
     "text": [
      "ОК\n"
     ]
    }
   ],
   "source": [
    "# \n",
    "word = 'radar'\n",
    "def is_palindrom(word):\n",
    "    b = 0\n",
    "    c = len(word)\n",
    "    for i in range(b, c):\n",
    "        if word[i] != word[-i-1]:\n",
    "            print ('NO')\n",
    "            return\n",
    "    print('ОК')\n",
    "is_palindrom('radar')    "
   ]
  },
  {
   "cell_type": "code",
   "execution_count": 62,
   "metadata": {},
   "outputs": [],
   "source": [
    "lst = [(1,2), (5,2), (4,4), (2,4)]\n",
    "a = []\n",
    "for r in lst:\n",
    "    a.append(r[0])\n",
    "min_x = min(a)\n",
    "max_x = max(a)    \n",
    "avg = (min_x + max_x)/2\n",
    "avg\n",
    "b = []\n"
   ]
  },
  {
   "cell_type": "code",
   "execution_count": null,
   "metadata": {},
   "outputs": [],
   "source": []
  }
 ],
 "metadata": {
  "kernelspec": {
   "display_name": "Python 3",
   "language": "python",
   "name": "python3"
  },
  "language_info": {
   "codemirror_mode": {
    "name": "ipython",
    "version": 3
   },
   "file_extension": ".py",
   "mimetype": "text/x-python",
   "name": "python",
   "nbconvert_exporter": "python",
   "pygments_lexer": "ipython3",
   "version": "3.7.0"
  }
 },
 "nbformat": 4,
 "nbformat_minor": 2
}
