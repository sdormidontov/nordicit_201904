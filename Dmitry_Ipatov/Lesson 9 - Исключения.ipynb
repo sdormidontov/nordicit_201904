{
 "cells": [
  {
   "cell_type": "code",
   "execution_count": 1,
   "metadata": {},
   "outputs": [],
   "source": [
    "class EvenException(Exception):\n",
    "    def __init__(self, i):\n",
    "        self.i = i\n",
    "        \n",
    "    def __str__(self):\n",
    "        return 'Число {} является четным'.format(self.i)"
   ]
  },
  {
   "cell_type": "code",
   "execution_count": 3,
   "metadata": {},
   "outputs": [
    {
     "name": "stdout",
     "output_type": "stream",
     "text": [
      "0\n"
     ]
    },
    {
     "ename": "EvenException",
     "evalue": "Число 0 является четным",
     "output_type": "error",
     "traceback": [
      "\u001b[1;31m---------------------------------------------------------------------------\u001b[0m",
      "\u001b[1;31mEvenException\u001b[0m                             Traceback (most recent call last)",
      "\u001b[1;32m<ipython-input-3-b9a979514da4>\u001b[0m in \u001b[0;36m<module>\u001b[1;34m()\u001b[0m\n\u001b[0;32m      2\u001b[0m     \u001b[0mprint\u001b[0m\u001b[1;33m(\u001b[0m\u001b[0mi\u001b[0m\u001b[1;33m)\u001b[0m\u001b[1;33m\u001b[0m\u001b[0m\n\u001b[0;32m      3\u001b[0m     \u001b[1;32mif\u001b[0m \u001b[0mi\u001b[0m \u001b[1;33m%\u001b[0m \u001b[1;36m2\u001b[0m \u001b[1;33m==\u001b[0m \u001b[1;36m0\u001b[0m\u001b[1;33m:\u001b[0m\u001b[1;33m\u001b[0m\u001b[0m\n\u001b[1;32m----> 4\u001b[1;33m         \u001b[1;32mraise\u001b[0m \u001b[0mEvenException\u001b[0m\u001b[1;33m(\u001b[0m\u001b[0mi\u001b[0m\u001b[1;33m)\u001b[0m\u001b[1;33m\u001b[0m\u001b[0m\n\u001b[0m",
      "\u001b[1;31mEvenException\u001b[0m: Число 0 является четным"
     ]
    }
   ],
   "source": [
    "for i in range(10):\n",
    "    print(i)\n",
    "    if i % 2 == 0:\n",
    "        raise EvenException(i)"
   ]
  },
  {
   "cell_type": "code",
   "execution_count": 20,
   "metadata": {},
   "outputs": [
    {
     "name": "stdout",
     "output_type": "stream",
     "text": [
      "0\n",
      "0\n",
      "Итерация завершена\n",
      "1\n",
      "Итерация завершена\n",
      "2\n",
      "8\n",
      "Итерация завершена\n",
      "3\n",
      "Итерация завершена\n",
      "4\n",
      "64\n",
      "Итерация завершена\n",
      "5\n",
      "Итерация завершена\n",
      "6\n",
      "216\n",
      "Итерация завершена\n",
      "7\n",
      "Итерация завершена\n",
      "8\n",
      "512\n",
      "Итерация завершена\n",
      "9\n",
      "Итерация завершена\n"
     ]
    }
   ],
   "source": [
    "for i in range(10):\n",
    "    print(i)\n",
    "    try:\n",
    "        if i % 2 == 0:\n",
    "            raise EvenException(i)\n",
    "    except EvenException:\n",
    "        print (i**3)\n",
    "    except:\n",
    "        print ('Исключение не является EvenException')\n",
    "        \n",
    "    finally: print ('Итерация завершена')"
   ]
  },
  {
   "cell_type": "markdown",
   "metadata": {},
   "source": [
    "#### генератор - это функция, которая знает, какое значение она выведет в следующий раз, но всех значений она не знает.\n",
    "#### yield - это типа return\n",
    "преимущество в том, что не надо хранить весь массив в памяти, может не влезть в оператив память.\n",
    "в этом случае сделать через for не получится, а yield отработает\n"
   ]
  },
  {
   "cell_type": "code",
   "execution_count": 25,
   "metadata": {},
   "outputs": [],
   "source": [
    "# множитель прогрессии\n",
    "def get_multiplier(lst):\n",
    "    return lst[1]/lst[0]\n",
    "\n",
    "# Сумма геометрической прогрессии\n",
    "def get_progression_sum(lst, multiplier):\n",
    "    q = multiplier\n",
    "    result = (lst[0] * (1 - q**len(lst)))/(1 - q)\n",
    "    return result\n",
    "    \n",
    "\n",
    "def is_progression(lst):\n",
    "    progression_sum = 0\n",
    "    if 0 in lst:\n",
    "        #print ('found zero')\n",
    "        result = 'NO'\n",
    "    else:\n",
    "        multiplier = get_multiplier(lst)\n",
    "        if multiplier == 1:\n",
    "            result = None\n",
    "        \n",
    "        for i in range(len(lst) - 1): #борьба с index out of range\n",
    "                if multiplier != lst[i+1]/lst[i]:\n",
    "                    result = 'NO'\n",
    "                    break\n",
    "                else:\n",
    "                    x = get_progression_sum(lst, multiplier)\n",
    "                    if x is not None:\n",
    "                        result = 'SUM = ' + str(x)\n",
    "    return result"
   ]
  },
  {
   "cell_type": "code",
   "execution_count": 26,
   "metadata": {},
   "outputs": [],
   "source": [
    "import numpy as np"
   ]
  },
  {
   "cell_type": "code",
   "execution_count": 30,
   "metadata": {},
   "outputs": [],
   "source": [
    "b = np.array([[1.5, 2, 3], [4, 5, 6]], dtype = complex)"
   ]
  },
  {
   "cell_type": "code",
   "execution_count": 31,
   "metadata": {},
   "outputs": [
    {
     "name": "stdout",
     "output_type": "stream",
     "text": [
      "[[1.5+0.j 2. +0.j 3. +0.j]\n",
      " [4. +0.j 5. +0.j 6. +0.j]]\n"
     ]
    }
   ],
   "source": [
    "print (b)"
   ]
  },
  {
   "cell_type": "code",
   "execution_count": 34,
   "metadata": {},
   "outputs": [
    {
     "name": "stdout",
     "output_type": "stream",
     "text": [
      "[[ 2.  0.]\n",
      " [ 3. 12.]]\n"
     ]
    }
   ],
   "source": [
    "a = np.array([[1, 2], [3, 4]], float)\n",
    "b = np.array([[2, 0], [1, 3]], float)\n",
    "\n",
    "print(a * b)"
   ]
  },
  {
   "cell_type": "code",
   "execution_count": 35,
   "metadata": {},
   "outputs": [
    {
     "name": "stdout",
     "output_type": "stream",
     "text": [
      "[2. 4.]\n"
     ]
    }
   ],
   "source": [
    "print (a[:, 1]) # столбец"
   ]
  },
  {
   "cell_type": "code",
   "execution_count": 36,
   "metadata": {},
   "outputs": [
    {
     "name": "stdout",
     "output_type": "stream",
     "text": [
      "[0.5  0.25 0.  ]\n"
     ]
    }
   ],
   "source": [
    "a = np.array([1,3,0])\n",
    "print(np.where(a!=0, 1/(a+1),a))"
   ]
  },
  {
   "cell_type": "code",
   "execution_count": 37,
   "metadata": {},
   "outputs": [
    {
     "data": {
      "text/plain": [
       "array([3])"
      ]
     },
     "execution_count": 37,
     "metadata": {},
     "output_type": "execute_result"
    }
   ],
   "source": [
    "a[a>2] # фильтр"
   ]
  },
  {
   "cell_type": "code",
   "execution_count": null,
   "metadata": {},
   "outputs": [],
   "source": []
  }
 ],
 "metadata": {
  "kernelspec": {
   "display_name": "Python 3",
   "language": "python",
   "name": "python3"
  },
  "language_info": {
   "codemirror_mode": {
    "name": "ipython",
    "version": 3
   },
   "file_extension": ".py",
   "mimetype": "text/x-python",
   "name": "python",
   "nbconvert_exporter": "python",
   "pygments_lexer": "ipython3",
   "version": "3.7.0"
  }
 },
 "nbformat": 4,
 "nbformat_minor": 2
}
