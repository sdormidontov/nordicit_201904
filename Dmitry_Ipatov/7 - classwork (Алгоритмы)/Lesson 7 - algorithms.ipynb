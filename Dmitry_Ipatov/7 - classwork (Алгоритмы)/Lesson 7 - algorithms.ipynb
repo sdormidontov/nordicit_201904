{
 "cells": [
  {
   "cell_type": "markdown",
   "metadata": {},
   "source": [
    "##  Проверить, простое ли число"
   ]
  },
  {
   "cell_type": "code",
   "execution_count": 54,
   "metadata": {},
   "outputs": [
    {
     "name": "stdout",
     "output_type": "stream",
     "text": [
      "enter number: 9\n",
      "не простое\n"
     ]
    }
   ],
   "source": [
    "x = int(input(\"enter number: \"))\n",
    "\n",
    "result = ''\n",
    "for i in range(2, x-1):\n",
    "    if x%i == 0:\n",
    "        result = \"не простое\"\n",
    "        break\n",
    "    else:\n",
    "        result = \"простое\"\n",
    "        \n",
    "print(result)\n"
   ]
  },
  {
   "cell_type": "code",
   "execution_count": 53,
   "metadata": {},
   "outputs": [
    {
     "name": "stdout",
     "output_type": "stream",
     "text": [
      "2 True\n",
      "3 False\n",
      "4 False\n",
      "5 True\n",
      "6 False\n",
      "7 False\n",
      "8 False\n",
      "9 False\n"
     ]
    }
   ],
   "source": [
    "x = list(range(2,10))\n",
    "for i in x:\n",
    "    print (i, 10%i==0)"
   ]
  },
  {
   "cell_type": "markdown",
   "metadata": {},
   "source": [
    "## Отсортировать список по возрастанию "
   ]
  },
  {
   "cell_type": "code",
   "execution_count": 160,
   "metadata": {},
   "outputs": [],
   "source": [
    "lst = [40, 5, 2, 4, 6, 10, 3, 3]"
   ]
  },
  {
   "cell_type": "code",
   "execution_count": 156,
   "metadata": {},
   "outputs": [
    {
     "data": {
      "text/plain": [
       "[40, 2, 4, 6, 10, 3, 3]"
      ]
     },
     "execution_count": 156,
     "metadata": {},
     "output_type": "execute_result"
    }
   ],
   "source": [
    "ll = [40, 5, 2, 4, 6, 10, 3, 3]\n",
    "ll.remove(5)\n",
    "ll"
   ]
  },
  {
   "cell_type": "code",
   "execution_count": 163,
   "metadata": {},
   "outputs": [
    {
     "name": "stdout",
     "output_type": "stream",
     "text": [
      "5\n",
      "4\n",
      "3\n",
      "[40, 5, 4, 6, 10, 3, 3]\n",
      "[3, 3, 3, 3, 3, 3, 3]\n"
     ]
    }
   ],
   "source": [
    "lst1 = []\n",
    "minimum = lst[0]\n",
    "\n",
    "for i in range(len(lst)):\n",
    "    for i in lst:\n",
    "        if i < minimum:\n",
    "            minimum = i\n",
    "            print (minimum)\n",
    "    lst1.append(minimum) \n",
    "    #lst.remove(minimum)\n",
    "\n",
    "print(lst)\n",
    "print(lst1)\n",
    "       "
   ]
  },
  {
   "cell_type": "code",
   "execution_count": 100,
   "metadata": {},
   "outputs": [],
   "source": [
    "lst = [40, 5, 2, 4, 6, 10, 3, 3]"
   ]
  },
  {
   "cell_type": "code",
   "execution_count": 101,
   "metadata": {},
   "outputs": [],
   "source": [
    "def swap(lst, i1, i2):\n",
    "    t = lst[i1]\n",
    "    lst[i1] = lst[i2]\n",
    "    lst[i2] = t\n",
    "    return lst"
   ]
  },
  {
   "cell_type": "code",
   "execution_count": 108,
   "metadata": {},
   "outputs": [
    {
     "data": {
      "text/plain": [
       "[2, 3, 3, 4, 5, 6, 10, 40]"
      ]
     },
     "execution_count": 108,
     "metadata": {},
     "output_type": "execute_result"
    }
   ],
   "source": [
    "for i in range(len(lst)):\n",
    "    for j in range(1, len(lst)):\n",
    "        if lst[j] < lst[j-1]:\n",
    "            lst = swap(lst, j, j-1)\n",
    "#         print(j)\n",
    "             \n",
    "lst"
   ]
  },
  {
   "cell_type": "markdown",
   "metadata": {},
   "source": [
    "## Палиндром"
   ]
  },
  {
   "cell_type": "code",
   "execution_count": 149,
   "metadata": {},
   "outputs": [],
   "source": [
    "s = 'radar'\n",
    "\n",
    "def is_palidrome(word):\n",
    "    result = ''\n",
    "    for i in range(len(word)):\n",
    "        if (word[i] != word[-1-i]):\n",
    "            result = 'NO'\n",
    "            break\n",
    "        else:\n",
    "            result = \"YES\"\n",
    "    return result   \n",
    "    \n",
    "        \n",
    "    \n",
    "    "
   ]
  },
  {
   "cell_type": "code",
   "execution_count": 150,
   "metadata": {},
   "outputs": [
    {
     "name": "stdout",
     "output_type": "stream",
     "text": [
      "YES\n"
     ]
    }
   ],
   "source": [
    "print (is_palidrome(s))"
   ]
  },
  {
   "cell_type": "code",
   "execution_count": 138,
   "metadata": {},
   "outputs": [
    {
     "name": "stdout",
     "output_type": "stream",
     "text": [
      "True\n",
      "True\n",
      "True\n"
     ]
    }
   ],
   "source": [
    "print ( (s[0]) == (s[-1]) )\n",
    "\n",
    "print ( (s[1]) ==(s[-1-1]) )\n",
    "\n",
    "print ( (s[2]) == (s[-1-2]) )\n",
    "\n"
   ]
  },
  {
   "cell_type": "markdown",
   "metadata": {},
   "source": [
    "## координаты"
   ]
  },
  {
   "cell_type": "code",
   "execution_count": 180,
   "metadata": {},
   "outputs": [],
   "source": [
    "lst2 = [[1, 2], [5,2], [4,4], [2,4]]"
   ]
  },
  {
   "cell_type": "code",
   "execution_count": 181,
   "metadata": {},
   "outputs": [
    {
     "data": {
      "text/plain": [
       "[[1, 2], [5, 2], [4, 4], [2, 4]]"
      ]
     },
     "execution_count": 181,
     "metadata": {},
     "output_type": "execute_result"
    }
   ],
   "source": [
    "lst2"
   ]
  },
  {
   "cell_type": "code",
   "execution_count": 208,
   "metadata": {},
   "outputs": [
    {
     "name": "stdout",
     "output_type": "stream",
     "text": [
      "минимум:  1\n",
      "максимум:  5\n",
      "ось:  3\n",
      "[[2, 2], [2, 2], [1, 4], [1, 4]]\n",
      "[(2, 2), (2, 2), (1, 4), (1, 4)]\n",
      "True\n"
     ]
    },
    {
     "data": {
      "text/plain": [
       "{(2, 2): 2, (1, 4): 2}"
      ]
     },
     "execution_count": 208,
     "metadata": {},
     "output_type": "execute_result"
    }
   ],
   "source": [
    "minx = lst2[0][0]\n",
    "maxx = lst2[0][0]\n",
    "\n",
    "for i in lst2:\n",
    "    if i[0] < minx:\n",
    "        minx = i[0] \n",
    "print ('минимум: ', minx)\n",
    "\n",
    "\n",
    "for i in lst2:\n",
    "    if i[0] > maxx:\n",
    "        maxx = i[0] \n",
    "print ('максимум: ', maxx)\n",
    "\n",
    "axis = int((minx + maxx) / 2) \n",
    "print ('ось: ', axis)\n",
    "\n",
    "\n",
    "# arr = [abs(lst2[0][0]-axis), lst2[0][1]]\n",
    "# points.append(arr)\n",
    "# print (points)\n",
    "\n",
    "# преобразование точек\n",
    "points = []\n",
    "for i in lst2:\n",
    "    arr = [abs(i[0]-axis), i[1]]\n",
    "    points.append(arr)\n",
    "    \n",
    "print (points)\n",
    "\n",
    "points1 = []\n",
    "for i in points:\n",
    "    points1.append(tuple(i))\n",
    "\n",
    "print (points1)\n",
    "\n",
    "print(points1[0]==points1[1])\n",
    "\n",
    "points_dict = {}\n",
    "for i in points1:\n",
    "    points_dict.update({i : points1.count(i)})\n",
    "\n",
    "points_dict "
   ]
  },
  {
   "cell_type": "code",
   "execution_count": null,
   "metadata": {},
   "outputs": [],
   "source": []
  },
  {
   "cell_type": "code",
   "execution_count": null,
   "metadata": {},
   "outputs": [],
   "source": []
  }
 ],
 "metadata": {
  "kernelspec": {
   "display_name": "Python 3",
   "language": "python",
   "name": "python3"
  },
  "language_info": {
   "codemirror_mode": {
    "name": "ipython",
    "version": 3
   },
   "file_extension": ".py",
   "mimetype": "text/x-python",
   "name": "python",
   "nbconvert_exporter": "python",
   "pygments_lexer": "ipython3",
   "version": "3.7.0"
  }
 },
 "nbformat": 4,
 "nbformat_minor": 2
}
