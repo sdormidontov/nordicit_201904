{
 "cells": [
  {
   "cell_type": "code",
   "execution_count": 2,
   "metadata": {},
   "outputs": [],
   "source": [
    "from bs4 import BeautifulSoup"
   ]
  },
  {
   "cell_type": "code",
   "execution_count": 3,
   "metadata": {},
   "outputs": [
    {
     "data": {
      "text/plain": [
       "'\\n<html>\\n    <head>\\n        <meta charset=\"UTF-8\">\\n        <title>Заголовок страницы</title>\\n    </head>\\n    <body>\\n        <h1>Это заголовок</h1>\\n        <p align = \"justify\">Это параграф</p>\\n        <a class=\"1\" href=\"https://yandex.ru/\">Ссылка на Яндекс</a>\\n        <a class=\"2\" href=\"https://www.google.ru/\">Ссылка на Google</a>\\n        <a class=\"3\" href=\"https://yandex.ru/\">Яндекс</a>\\n    </body>\\n</html>\\n'"
      ]
     },
     "execution_count": 3,
     "metadata": {},
     "output_type": "execute_result"
    }
   ],
   "source": [
    "doc = \"\"\"\n",
    "<html>\n",
    "    <head>\n",
    "        <meta charset=\"UTF-8\">\n",
    "        <title>Заголовок страницы</title>\n",
    "    </head>\n",
    "    <body>\n",
    "        <h1>Это заголовок</h1>\n",
    "        <p align = \"justify\">Это параграф</p>\n",
    "        <a class=\"1\" href=\"https://yandex.ru/\">Ссылка на Яндекс</a>\n",
    "        <a class=\"2\" href=\"https://www.google.ru/\">Ссылка на Google</a>\n",
    "        <a class=\"3\" href=\"https://yandex.ru/\">Яндекс</a>\n",
    "    </body>\n",
    "</html>\n",
    "\"\"\"\n",
    "\n",
    "doc"
   ]
  },
  {
   "cell_type": "code",
   "execution_count": 4,
   "metadata": {},
   "outputs": [],
   "source": [
    "doc = doc.replace('\\n', '')"
   ]
  },
  {
   "cell_type": "code",
   "execution_count": 7,
   "metadata": {},
   "outputs": [],
   "source": [
    "doc = doc.replace('        ', '')\n",
    "doc = doc.replace('    ', '')"
   ]
  },
  {
   "cell_type": "code",
   "execution_count": 8,
   "metadata": {},
   "outputs": [
    {
     "data": {
      "text/plain": [
       "'<html><head><meta charset=\"UTF-8\"><title>Заголовок страницы</title></head><body><h1>Это заголовок</h1><p align = \"justify\">Это параграф</p><a class=\"1\" href=\"https://yandex.ru/\">Ссылка на Яндекс</a><a class=\"2\" href=\"https://www.google.ru/\">Ссылка на Google</a><a class=\"3\" href=\"https://yandex.ru/\">Яндекс</a></body></html>'"
      ]
     },
     "execution_count": 8,
     "metadata": {},
     "output_type": "execute_result"
    }
   ],
   "source": [
    "doc"
   ]
  },
  {
   "cell_type": "code",
   "execution_count": 9,
   "metadata": {},
   "outputs": [
    {
     "data": {
      "text/plain": [
       "<html><head><meta charset=\"utf-8\"/><title>Заголовок страницы</title></head><body><h1>Это заголовок</h1><p align=\"justify\">Это параграф</p><a class=\"1\" href=\"https://yandex.ru/\">Ссылка на Яндекс</a><a class=\"2\" href=\"https://www.google.ru/\">Ссылка на Google</a><a class=\"3\" href=\"https://yandex.ru/\">Яндекс</a></body></html>"
      ]
     },
     "execution_count": 9,
     "metadata": {},
     "output_type": "execute_result"
    }
   ],
   "source": [
    "soup = BeautifulSoup(doc, 'lxml')\n",
    "soup"
   ]
  },
  {
   "cell_type": "code",
   "execution_count": 10,
   "metadata": {},
   "outputs": [
    {
     "data": {
      "text/plain": [
       "['ASCII_SPACES',\n",
       " 'DEFAULT_BUILDER_FEATURES',\n",
       " 'HTML_FORMATTERS',\n",
       " 'NO_PARSER_SPECIFIED_WARNING',\n",
       " 'ROOT_TAG_NAME',\n",
       " 'XML_FORMATTERS',\n",
       " '__bool__',\n",
       " '__call__',\n",
       " '__class__',\n",
       " '__contains__',\n",
       " '__copy__',\n",
       " '__delattr__',\n",
       " '__delitem__',\n",
       " '__dict__',\n",
       " '__dir__',\n",
       " '__doc__',\n",
       " '__eq__',\n",
       " '__format__',\n",
       " '__ge__',\n",
       " '__getattr__',\n",
       " '__getattribute__',\n",
       " '__getitem__',\n",
       " '__getstate__',\n",
       " '__gt__',\n",
       " '__hash__',\n",
       " '__init__',\n",
       " '__init_subclass__',\n",
       " '__iter__',\n",
       " '__le__',\n",
       " '__len__',\n",
       " '__lt__',\n",
       " '__module__',\n",
       " '__ne__',\n",
       " '__new__',\n",
       " '__reduce__',\n",
       " '__reduce_ex__',\n",
       " '__repr__',\n",
       " '__setattr__',\n",
       " '__setitem__',\n",
       " '__sizeof__',\n",
       " '__str__',\n",
       " '__subclasshook__',\n",
       " '__unicode__',\n",
       " '__weakref__',\n",
       " '_all_strings',\n",
       " '_attr_value_as_string',\n",
       " '_attribute_checker',\n",
       " '_check_markup_is_url',\n",
       " '_feed',\n",
       " '_find_all',\n",
       " '_find_one',\n",
       " '_formatter_for_name',\n",
       " '_is_xml',\n",
       " '_lastRecursiveChild',\n",
       " '_last_descendant',\n",
       " '_most_recent_element',\n",
       " '_popToTag',\n",
       " '_select_debug',\n",
       " '_selector_combinators',\n",
       " '_should_pretty_print',\n",
       " '_tag_name_matches_and',\n",
       " 'append',\n",
       " 'attribselect_re',\n",
       " 'attrs',\n",
       " 'builder',\n",
       " 'can_be_empty_element',\n",
       " 'childGenerator',\n",
       " 'children',\n",
       " 'clear',\n",
       " 'contains_replacement_characters',\n",
       " 'contents',\n",
       " 'currentTag',\n",
       " 'current_data',\n",
       " 'declared_html_encoding',\n",
       " 'decode',\n",
       " 'decode_contents',\n",
       " 'decompose',\n",
       " 'descendants',\n",
       " 'encode',\n",
       " 'encode_contents',\n",
       " 'endData',\n",
       " 'extract',\n",
       " 'fetchNextSiblings',\n",
       " 'fetchParents',\n",
       " 'fetchPrevious',\n",
       " 'fetchPreviousSiblings',\n",
       " 'find',\n",
       " 'findAll',\n",
       " 'findAllNext',\n",
       " 'findAllPrevious',\n",
       " 'findChild',\n",
       " 'findChildren',\n",
       " 'findNext',\n",
       " 'findNextSibling',\n",
       " 'findNextSiblings',\n",
       " 'findParent',\n",
       " 'findParents',\n",
       " 'findPrevious',\n",
       " 'findPreviousSibling',\n",
       " 'findPreviousSiblings',\n",
       " 'find_all',\n",
       " 'find_all_next',\n",
       " 'find_all_previous',\n",
       " 'find_next',\n",
       " 'find_next_sibling',\n",
       " 'find_next_siblings',\n",
       " 'find_parent',\n",
       " 'find_parents',\n",
       " 'find_previous',\n",
       " 'find_previous_sibling',\n",
       " 'find_previous_siblings',\n",
       " 'format_string',\n",
       " 'get',\n",
       " 'getText',\n",
       " 'get_attribute_list',\n",
       " 'get_text',\n",
       " 'handle_data',\n",
       " 'handle_endtag',\n",
       " 'handle_starttag',\n",
       " 'has_attr',\n",
       " 'has_key',\n",
       " 'hidden',\n",
       " 'index',\n",
       " 'insert',\n",
       " 'insert_after',\n",
       " 'insert_before',\n",
       " 'isSelfClosing',\n",
       " 'is_empty_element',\n",
       " 'is_xml',\n",
       " 'known_xml',\n",
       " 'markup',\n",
       " 'name',\n",
       " 'namespace',\n",
       " 'new_string',\n",
       " 'new_tag',\n",
       " 'next',\n",
       " 'nextGenerator',\n",
       " 'nextSibling',\n",
       " 'nextSiblingGenerator',\n",
       " 'next_element',\n",
       " 'next_elements',\n",
       " 'next_sibling',\n",
       " 'next_siblings',\n",
       " 'object_was_parsed',\n",
       " 'original_encoding',\n",
       " 'parent',\n",
       " 'parentGenerator',\n",
       " 'parents',\n",
       " 'parse_only',\n",
       " 'parserClass',\n",
       " 'parser_class',\n",
       " 'popTag',\n",
       " 'prefix',\n",
       " 'preserve_whitespace_tag_stack',\n",
       " 'preserve_whitespace_tags',\n",
       " 'prettify',\n",
       " 'previous',\n",
       " 'previousGenerator',\n",
       " 'previousSibling',\n",
       " 'previousSiblingGenerator',\n",
       " 'previous_element',\n",
       " 'previous_elements',\n",
       " 'previous_sibling',\n",
       " 'previous_siblings',\n",
       " 'pushTag',\n",
       " 'quoted_colon',\n",
       " 'recursiveChildGenerator',\n",
       " 'renderContents',\n",
       " 'replaceWith',\n",
       " 'replaceWithChildren',\n",
       " 'replace_with',\n",
       " 'replace_with_children',\n",
       " 'reset',\n",
       " 'select',\n",
       " 'select_one',\n",
       " 'setup',\n",
       " 'string',\n",
       " 'strings',\n",
       " 'stripped_strings',\n",
       " 'tagStack',\n",
       " 'tag_name_re',\n",
       " 'text',\n",
       " 'unwrap',\n",
       " 'wrap']"
      ]
     },
     "execution_count": 10,
     "metadata": {},
     "output_type": "execute_result"
    }
   ],
   "source": [
    "dir(soup)"
   ]
  },
  {
   "cell_type": "code",
   "execution_count": 11,
   "metadata": {},
   "outputs": [
    {
     "name": "stdout",
     "output_type": "stream",
     "text": [
      "<html>\n",
      " <head>\n",
      "  <meta charset=\"utf-8\"/>\n",
      "  <title>\n",
      "   Заголовок страницы\n",
      "  </title>\n",
      " </head>\n",
      " <body>\n",
      "  <h1>\n",
      "   Это заголовок\n",
      "  </h1>\n",
      "  <p align=\"justify\">\n",
      "   Это параграф\n",
      "  </p>\n",
      "  <a class=\"1\" href=\"https://yandex.ru/\">\n",
      "   Ссылка на Яндекс\n",
      "  </a>\n",
      "  <a class=\"2\" href=\"https://www.google.ru/\">\n",
      "   Ссылка на Google\n",
      "  </a>\n",
      "  <a class=\"3\" href=\"https://yandex.ru/\">\n",
      "   Яндекс\n",
      "  </a>\n",
      " </body>\n",
      "</html>\n"
     ]
    }
   ],
   "source": [
    "print(soup.prettify())"
   ]
  },
  {
   "cell_type": "code",
   "execution_count": 12,
   "metadata": {},
   "outputs": [
    {
     "data": {
      "text/plain": [
       "[<html><head><meta charset=\"utf-8\"/><title>Заголовок страницы</title></head><body><h1>Это заголовок</h1><p align=\"justify\">Это параграф</p><a class=\"1\" href=\"https://yandex.ru/\">Ссылка на Яндекс</a><a class=\"2\" href=\"https://www.google.ru/\">Ссылка на Google</a><a class=\"3\" href=\"https://yandex.ru/\">Яндекс</a></body></html>]"
      ]
     },
     "execution_count": 12,
     "metadata": {},
     "output_type": "execute_result"
    }
   ],
   "source": [
    "soup.contents"
   ]
  },
  {
   "cell_type": "code",
   "execution_count": 13,
   "metadata": {},
   "outputs": [
    {
     "data": {
      "text/plain": [
       "<html><head><meta charset=\"utf-8\"/><title>Заголовок страницы</title></head><body><h1>Это заголовок</h1><p align=\"justify\">Это параграф</p><a class=\"1\" href=\"https://yandex.ru/\">Ссылка на Яндекс</a><a class=\"2\" href=\"https://www.google.ru/\">Ссылка на Google</a><a class=\"3\" href=\"https://yandex.ru/\">Яндекс</a></body></html>"
      ]
     },
     "execution_count": 13,
     "metadata": {},
     "output_type": "execute_result"
    }
   ],
   "source": [
    "soup.contents[0]"
   ]
  },
  {
   "cell_type": "code",
   "execution_count": 14,
   "metadata": {},
   "outputs": [
    {
     "data": {
      "text/plain": [
       "'html'"
      ]
     },
     "execution_count": 14,
     "metadata": {},
     "output_type": "execute_result"
    }
   ],
   "source": [
    "soup.contents[0].name"
   ]
  },
  {
   "cell_type": "code",
   "execution_count": 15,
   "metadata": {},
   "outputs": [
    {
     "data": {
      "text/plain": [
       "[<head><meta charset=\"utf-8\"/><title>Заголовок страницы</title></head>,\n",
       " <body><h1>Это заголовок</h1><p align=\"justify\">Это параграф</p><a class=\"1\" href=\"https://yandex.ru/\">Ссылка на Яндекс</a><a class=\"2\" href=\"https://www.google.ru/\">Ссылка на Google</a><a class=\"3\" href=\"https://yandex.ru/\">Яндекс</a></body>]"
      ]
     },
     "execution_count": 15,
     "metadata": {},
     "output_type": "execute_result"
    }
   ],
   "source": [
    "soup.contents[0].contents"
   ]
  },
  {
   "cell_type": "code",
   "execution_count": 16,
   "metadata": {},
   "outputs": [
    {
     "data": {
      "text/plain": [
       "<title>Заголовок страницы</title>"
      ]
     },
     "execution_count": 16,
     "metadata": {},
     "output_type": "execute_result"
    }
   ],
   "source": [
    "soup.title"
   ]
  },
  {
   "cell_type": "code",
   "execution_count": 17,
   "metadata": {},
   "outputs": [
    {
     "data": {
      "text/plain": [
       "'Заголовок страницы'"
      ]
     },
     "execution_count": 17,
     "metadata": {},
     "output_type": "execute_result"
    }
   ],
   "source": [
    "soup.title.text"
   ]
  },
  {
   "cell_type": "code",
   "execution_count": 18,
   "metadata": {},
   "outputs": [
    {
     "data": {
      "text/plain": [
       "'Заголовок страницы'"
      ]
     },
     "execution_count": 18,
     "metadata": {},
     "output_type": "execute_result"
    }
   ],
   "source": [
    "soup.title.string"
   ]
  },
  {
   "cell_type": "code",
   "execution_count": 19,
   "metadata": {},
   "outputs": [
    {
     "data": {
      "text/plain": [
       "<head><meta charset=\"utf-8\"/><title>Заголовок страницы</title></head>"
      ]
     },
     "execution_count": 19,
     "metadata": {},
     "output_type": "execute_result"
    }
   ],
   "source": [
    "soup.contents[0].contents[0]"
   ]
  },
  {
   "cell_type": "code",
   "execution_count": 22,
   "metadata": {},
   "outputs": [
    {
     "data": {
      "text/plain": [
       "[<head><meta charset=\"utf-8\"/><title>Заголовок страницы</title></head>,\n",
       " <body><h1>Это заголовок</h1><p align=\"justify\">Это параграф</p><a class=\"1\" href=\"https://yandex.ru/\">Ссылка на Яндекс</a><a class=\"2\" href=\"https://www.google.ru/\">Ссылка на Google</a><a class=\"3\" href=\"https://yandex.ru/\">Яндекс</a></body>]"
      ]
     },
     "execution_count": 22,
     "metadata": {},
     "output_type": "execute_result"
    }
   ],
   "source": [
    "list(soup.head.parent)"
   ]
  },
  {
   "cell_type": "code",
   "execution_count": 23,
   "metadata": {},
   "outputs": [
    {
     "data": {
      "text/plain": [
       "[<html><head><meta charset=\"utf-8\"/><title>Заголовок страницы</title></head><body><h1>Это заголовок</h1><p align=\"justify\">Это параграф</p><a class=\"1\" href=\"https://yandex.ru/\">Ссылка на Яндекс</a><a class=\"2\" href=\"https://www.google.ru/\">Ссылка на Google</a><a class=\"3\" href=\"https://yandex.ru/\">Яндекс</a></body></html>,\n",
       " <html><head><meta charset=\"utf-8\"/><title>Заголовок страницы</title></head><body><h1>Это заголовок</h1><p align=\"justify\">Это параграф</p><a class=\"1\" href=\"https://yandex.ru/\">Ссылка на Яндекс</a><a class=\"2\" href=\"https://www.google.ru/\">Ссылка на Google</a><a class=\"3\" href=\"https://yandex.ru/\">Яндекс</a></body></html>]"
      ]
     },
     "execution_count": 23,
     "metadata": {},
     "output_type": "execute_result"
    }
   ],
   "source": [
    "list(soup.head.parents)"
   ]
  },
  {
   "cell_type": "code",
   "execution_count": 24,
   "metadata": {},
   "outputs": [],
   "source": [
    "body = soup.body  #== body = soup.contents[0].contents[1] contents[0] -это html, у него 2 потомка: 0 - head, 1 - body"
   ]
  },
  {
   "cell_type": "code",
   "execution_count": 26,
   "metadata": {},
   "outputs": [
    {
     "data": {
      "text/plain": [
       "<body><h1>Это заголовок</h1><p align=\"justify\">Это параграф</p><a class=\"1\" href=\"https://yandex.ru/\">Ссылка на Яндекс</a><a class=\"2\" href=\"https://www.google.ru/\">Ссылка на Google</a><a class=\"3\" href=\"https://yandex.ru/\">Яндекс</a></body>"
      ]
     },
     "execution_count": 26,
     "metadata": {},
     "output_type": "execute_result"
    }
   ],
   "source": [
    "body"
   ]
  },
  {
   "cell_type": "code",
   "execution_count": 27,
   "metadata": {},
   "outputs": [
    {
     "data": {
      "text/plain": [
       "[<h1>Это заголовок</h1>,\n",
       " <p align=\"justify\">Это параграф</p>,\n",
       " <a class=\"1\" href=\"https://yandex.ru/\">Ссылка на Яндекс</a>,\n",
       " <a class=\"2\" href=\"https://www.google.ru/\">Ссылка на Google</a>,\n",
       " <a class=\"3\" href=\"https://yandex.ru/\">Яндекс</a>]"
      ]
     },
     "execution_count": 27,
     "metadata": {},
     "output_type": "execute_result"
    }
   ],
   "source": [
    "list(body.children)"
   ]
  },
  {
   "cell_type": "code",
   "execution_count": 28,
   "metadata": {},
   "outputs": [
    {
     "data": {
      "text/plain": [
       "<h1>Это заголовок</h1>"
      ]
     },
     "execution_count": 28,
     "metadata": {},
     "output_type": "execute_result"
    }
   ],
   "source": [
    "it = body.children\n",
    "next(it)"
   ]
  },
  {
   "cell_type": "code",
   "execution_count": 29,
   "metadata": {},
   "outputs": [
    {
     "data": {
      "text/plain": [
       "<p align=\"justify\">Это параграф</p>"
      ]
     },
     "execution_count": 29,
     "metadata": {},
     "output_type": "execute_result"
    }
   ],
   "source": [
    "next(it)"
   ]
  },
  {
   "cell_type": "code",
   "execution_count": 30,
   "metadata": {},
   "outputs": [],
   "source": [
    "lst = list(soup.title.parents)"
   ]
  },
  {
   "cell_type": "code",
   "execution_count": 31,
   "metadata": {},
   "outputs": [
    {
     "data": {
      "text/plain": [
       "<body><h1>Это заголовок</h1><p align=\"justify\">Это параграф</p><a class=\"1\" href=\"https://yandex.ru/\">Ссылка на Яндекс</a><a class=\"2\" href=\"https://www.google.ru/\">Ссылка на Google</a><a class=\"3\" href=\"https://yandex.ru/\">Яндекс</a></body>"
      ]
     },
     "execution_count": 31,
     "metadata": {},
     "output_type": "execute_result"
    }
   ],
   "source": [
    "soup.head.next_sibling"
   ]
  },
  {
   "cell_type": "code",
   "execution_count": 32,
   "metadata": {},
   "outputs": [],
   "source": [
    "soup.body.next_sibling"
   ]
  },
  {
   "cell_type": "code",
   "execution_count": 33,
   "metadata": {},
   "outputs": [
    {
     "name": "stdout",
     "output_type": "stream",
     "text": [
      "(0, <p align=\"justify\">Это параграф</p>)\n",
      "(1, <a class=\"1\" href=\"https://yandex.ru/\">Ссылка на Яндекс</a>)\n",
      "(2, <a class=\"2\" href=\"https://www.google.ru/\">Ссылка на Google</a>)\n",
      "(3, <a class=\"3\" href=\"https://yandex.ru/\">Яндекс</a>)\n"
     ]
    }
   ],
   "source": [
    "gen = soup.h1.next_siblings\n",
    "\n",
    "for elem in enumerate(gen):\n",
    "    print(elem)"
   ]
  },
  {
   "cell_type": "code",
   "execution_count": 34,
   "metadata": {},
   "outputs": [
    {
     "data": {
      "text/plain": [
       "<a class=\"1\" href=\"https://yandex.ru/\">Ссылка на Яндекс</a>"
      ]
     },
     "execution_count": 34,
     "metadata": {},
     "output_type": "execute_result"
    }
   ],
   "source": [
    "soup.find('a')"
   ]
  },
  {
   "cell_type": "code",
   "execution_count": 37,
   "metadata": {},
   "outputs": [],
   "source": [
    "soup.find?"
   ]
  },
  {
   "cell_type": "code",
   "execution_count": 36,
   "metadata": {},
   "outputs": [
    {
     "data": {
      "text/plain": [
       "[<a class=\"1\" href=\"https://yandex.ru/\">Ссылка на Яндекс</a>,\n",
       " <a class=\"2\" href=\"https://www.google.ru/\">Ссылка на Google</a>,\n",
       " <a class=\"3\" href=\"https://yandex.ru/\">Яндекс</a>]"
      ]
     },
     "execution_count": 36,
     "metadata": {},
     "output_type": "execute_result"
    }
   ],
   "source": [
    "soup.findAll('a')"
   ]
  },
  {
   "cell_type": "code",
   "execution_count": 38,
   "metadata": {},
   "outputs": [
    {
     "data": {
      "text/plain": [
       "<a class=\"2\" href=\"https://www.google.ru/\">Ссылка на Google</a>"
      ]
     },
     "execution_count": 38,
     "metadata": {},
     "output_type": "execute_result"
    }
   ],
   "source": [
    "soup.findAll('a')[1]"
   ]
  },
  {
   "cell_type": "code",
   "execution_count": 39,
   "metadata": {},
   "outputs": [
    {
     "data": {
      "text/plain": [
       "[<a class=\"1\" href=\"https://yandex.ru/\">Ссылка на Яндекс</a>,\n",
       " <a class=\"3\" href=\"https://yandex.ru/\">Яндекс</a>]"
      ]
     },
     "execution_count": 39,
     "metadata": {},
     "output_type": "execute_result"
    }
   ],
   "source": [
    "soup.findAll('a', href=\"https://yandex.ru/\")"
   ]
  },
  {
   "cell_type": "code",
   "execution_count": 42,
   "metadata": {},
   "outputs": [
    {
     "data": {
      "text/plain": [
       "[<a class=\"1\" href=\"https://yandex.ru/\">Ссылка на Яндекс</a>]"
      ]
     },
     "execution_count": 42,
     "metadata": {},
     "output_type": "execute_result"
    }
   ],
   "source": [
    "soup.findAll('a', class_=\"1\")"
   ]
  },
  {
   "cell_type": "code",
   "execution_count": 43,
   "metadata": {},
   "outputs": [
    {
     "data": {
      "text/plain": [
       "<a class=\"1\" href=\"https://yandex.ru/\">Ссылка на Яндекс</a>"
      ]
     },
     "execution_count": 43,
     "metadata": {},
     "output_type": "execute_result"
    }
   ],
   "source": [
    "soup.findAll('a', class_=\"1\")[0]"
   ]
  },
  {
   "cell_type": "code",
   "execution_count": 47,
   "metadata": {},
   "outputs": [
    {
     "data": {
      "text/plain": [
       "'https://yandex.ru/'"
      ]
     },
     "execution_count": 47,
     "metadata": {},
     "output_type": "execute_result"
    }
   ],
   "source": [
    "soup.findAll('a', class_=\"3\")[0].attrs"
   ]
  },
  {
   "cell_type": "code",
   "execution_count": 48,
   "metadata": {},
   "outputs": [
    {
     "data": {
      "text/plain": [
       "'https://yandex.ru/'"
      ]
     },
     "execution_count": 48,
     "metadata": {},
     "output_type": "execute_result"
    }
   ],
   "source": [
    "soup.findAll('a', class_=\"3\")[0].attrs['href']"
   ]
  },
  {
   "cell_type": "code",
   "execution_count": 50,
   "metadata": {},
   "outputs": [],
   "source": [
    "import requests"
   ]
  },
  {
   "cell_type": "code",
   "execution_count": 52,
   "metadata": {},
   "outputs": [],
   "source": [
    "url = 'https://yandex.ru'\n",
    "r = requests.get(url)\n",
    "if r.ok:\n",
    "    soup = BeautifulSoup(r.text, 'lxml')\n",
    "else:\n",
    "    print('Bad request')"
   ]
  },
  {
   "cell_type": "code",
   "execution_count": 55,
   "metadata": {},
   "outputs": [
    {
     "name": "stdout",
     "output_type": "stream",
     "text": [
      "<!DOCTYPE html>\n",
      "<html class=\"i-ua_js_no i-ua_css_standart i-ua_browser_unknown i-ua_browser_desktop document_streamnow-tabs_yes i-ua_platform_other\" lang=\"ru\">\n",
      " <head xmlns:og=\"http://ogp.me/ns#\">\n",
      "  <meta content=\"text/html;charset=utf-8\" http-equiv=\"Content-Type\"/>\n",
      "  <meta content=\"IE=edge\" http-equiv=\"X-UA-Compatible\"/>\n",
      "  <title>\n",
      "   Яндекс\n",
      "  </title>\n",
      "  <link href=\"//yastatic.net/iconostasis/_/8lFaTHLDzmsEZz-5XaQg9iTWZGE.png\" rel=\"shortcut icon\"/>\n",
      "  <link href=\"//yastatic.net/iconostasis/_/5mdPq4V7ghRgzBvMkCaTzd2fjYg.png\" rel=\"apple-touch-icon\" sizes=\"76x76\"/>\n",
      "  <link href=\"//yastatic.net/iconostasis/_/s-hGoCQMUosTziuARBks08IUxmc.png\" rel=\"apple-touch-icon\" sizes=\"120x120\"/>\n",
      "  <link href=\"//yastatic.net/iconostasis/_/KnU823iWwj_vrPra7x9aQ-4yjRw.png\" rel=\"apple-touch-icon\" sizes=\"152x152\"/>\n",
      "  <link href=\"//yastatic.net/iconostasis/_/wT9gfGZZ80sP0VsoR6dgDyXJf2Y.png\" rel=\"apple-touch-icon\" sizes=\"180x180\"/>\n",
      "  <link href=\"https://yandex.ru/company/press_releases/news.rss\" rel=\"alternate\" \n"
     ]
    }
   ],
   "source": [
    "print(soup.prettify()[:1000])"
   ]
  },
  {
   "cell_type": "code",
   "execution_count": 57,
   "metadata": {},
   "outputs": [],
   "source": [
    "import re"
   ]
  },
  {
   "cell_type": "code",
   "execution_count": 65,
   "metadata": {},
   "outputs": [
    {
     "name": "stdout",
     "output_type": "stream",
     "text": [
      "<a class=\"home-link home-link_black_yes region__link\" href=\"https://yandex.ru/metro/moscow\">Метро</a>\n",
      "https://yandex.ru/metro/moscow\n"
     ]
    }
   ],
   "source": [
    "for a_ in soup.findAll('a'):\n",
    "    res = re.search(\".*Метро.*\", a_.text)\n",
    "    if res is not None:\n",
    "        print(a_)\n",
    "        print(a_.attrs['href'])"
   ]
  },
  {
   "cell_type": "code",
   "execution_count": 69,
   "metadata": {},
   "outputs": [
    {
     "name": "stdout",
     "output_type": "stream",
     "text": [
      "https://yandex.ru/metro/moscow\n"
     ]
    }
   ],
   "source": [
    "print(soup.findAll('a', class_=\"home-link home-link_black_yes region__link\")[0].attrs['href'])"
   ]
  },
  {
   "cell_type": "code",
   "execution_count": 71,
   "metadata": {},
   "outputs": [
    {
     "name": "stdout",
     "output_type": "stream",
     "text": [
      "https://market.yandex.ru/search?text=%D1%82%D0%B5%D0%BB%D0%B5%D0%B2%D0%B8%D0%B7%D0%BE%D1%80&clid=545\n"
     ]
    }
   ],
   "source": [
    "url = 'https://market.yandex.ru/search'\n",
    "\n",
    "params = {\n",
    "    'text':'телевизор',\n",
    "    'clid':'545'    \n",
    "}\n",
    "\n",
    "r = requests.get(url, params=params)\n",
    "\n",
    "if r.ok:\n",
    "    print(r.url)\n",
    "    soup = BeautifulSoup(r.text, 'lxml')\n",
    "else:\n",
    "    print('Bad request')\n",
    "    "
   ]
  },
  {
   "cell_type": "code",
   "execution_count": 72,
   "metadata": {},
   "outputs": [
    {
     "name": "stdout",
     "output_type": "stream",
     "text": [
      "<!DOCTYPE html>\n",
      "<!--BEGIN [@MarketNode/Root] / static-->\n",
      "<html class=\"i-ua_js_no i-ua_css_standard i-ua_os-family_unknown i-ua_browser-engine_unknown i-ua_browser-name_unknown i-ua_placeholder_yes\" lang=\"ru\" prefix=\"og: http://ogp.me/ns#\">\n",
      " <head>\n",
      "  <script nonce=\"+T5bmGUDkqPdlVVHZPg23A==\">\n",
      "   document.cookie = 'js=1;path=/';\n",
      "  </script>\n",
      "  <link href=\"//yastatic.net/market-skubi/_/vendor.859a5004e9221a4565a280f7aa4a6976.css\" rel=\"stylesheet\"/>\n",
      "  <link href=\"//yastatic.net/market-skubi/_/SearchPage.516d13a07b9a8e34e31379e813ae876b.css\" rel=\"stylesheet\"/>\n",
      "  <link href=\"//yastatic.net/market-skubi/_/dFP0DNEjrXo9ukNq4ZWHC93YcSM.css\" rel=\"stylesheet\"/>\n",
      "  <link href=\"//yastatic.net/market-skubi/_/searchFeedbackForm.e5a04c26730a6c952ef5ea6f8d24b576.css\" rel=\"stylesheet\"/>\n",
      "  <link href=\"//yastatic.net/market-skubi/_/userProfilePopupSnippet.e0af5a925083b4d2686bf319e95f12a9.css\" rel=\"stylesheet\"/>\n",
      "  <link href=\"//yastatic.net/market-skubi/_/searchBeruGallery.793f799fe68e50887c9a29479acc1baf.css\"\n"
     ]
    }
   ],
   "source": [
    "print(soup.prettify()[:1000])"
   ]
  },
  {
   "cell_type": "code",
   "execution_count": 84,
   "metadata": {},
   "outputs": [
    {
     "name": "stdout",
     "output_type": "stream",
     "text": [
      "<a class=\"link n-link_theme_blue\" href=\"/product--televizor-lg-24mt49s-pz/1725511808?show-uid=15604472671770537941316001&amp;nid=59601&amp;context=search\" title=\"Телевизор LG 24MT49S-PZ\"><strong>Телевизор</strong> LG 24MT49S-PZ</a>\n"
     ]
    }
   ],
   "source": [
    "for a_ in soup.findAll('a'):\n",
    "    res = re.search(\".*Телевизор \", a_.text)\n",
    "    if res is not None:\n",
    "        print(a_) #print(a_.text)\n",
    "        break"
   ]
  },
  {
   "cell_type": "code",
   "execution_count": 86,
   "metadata": {},
   "outputs": [
    {
     "data": {
      "text/plain": [
       "['Телевизор LG 24MT49S-PZ',\n",
       " 'Телевизор Samsung UE43N5000AU',\n",
       " 'Телевизор LG 22MT49VF',\n",
       " 'Телевизор LG 32LJ510U',\n",
       " 'Телевизор LG 43UK6300',\n",
       " 'Телевизор LG 20MT48VF',\n",
       " 'Телевизор LG 32LK519B',\n",
       " 'Телевизор BBK 20LEM-1056/T2C',\n",
       " 'Телевизор JVC LT-55M780',\n",
       " 'Телевизор LG 32LJ500V',\n",
       " 'Телевизор LG 22MT58VF-PZ',\n",
       " 'Телевизор Samsung UE24H4080AU',\n",
       " 'Телевизор TCL L43P6US',\n",
       " 'Телевизор TELEFUNKEN TF-LED22S49T2',\n",
       " 'Телевизор LG 24TK410V-PZ',\n",
       " 'Телевизор Thomson T32RTE1160',\n",
       " 'Телевизор JVC LT-50M780',\n",
       " 'Телевизор Erisson 50ULEA99T2 Smart',\n",
       " 'Телевизор Samsung UE32N5000AU',\n",
       " 'Телевизор Kivi 40FR50BR',\n",
       " 'Телевизор LG 32LK540B',\n",
       " 'Телевизор LG 43LK5000',\n",
       " 'Телевизор BBK 28LEM-1050/T2C',\n",
       " 'Телевизор BBK 32LEM-1027/TS2C',\n",
       " 'Телевизор Samsung T24H390SI',\n",
       " 'Телевизор LG 50UK6510',\n",
       " 'Телевизор LG 43UK6510',\n",
       " 'Телевизор LG 43LK6000',\n",
       " 'Телевизор Samsung UE43N5500AU',\n",
       " 'Телевизор Kivi 32HB50GR',\n",
       " 'Телевизор LG 24MT58VF-PZ',\n",
       " 'Телевизор Samsung UE40NU7100U',\n",
       " 'Телевизор JVC LT-24M585W',\n",
       " 'Телевизор Samsung UE32M5500AU',\n",
       " 'Телевизор Hitachi 40HB6T62',\n",
       " 'Телевизор LG 50UK6710',\n",
       " 'Телевизор Mystery MTV-5032LTA2',\n",
       " 'Телевизор BBK 32LEM-1045/T2C',\n",
       " 'Телевизор LG 32LJ600U',\n",
       " 'Телевизор Philips 22PFS4022',\n",
       " 'Телевизор LG 43LJ510V',\n",
       " 'Телевизор Samsung T32E310EX',\n",
       " 'Телевизор Mystery MTV-5031LTA2',\n",
       " 'Телевизор Samsung UE40NU7140U',\n",
       " 'Телевизор AMCV LE-39ZTHS17',\n",
       " 'Телевизор Samsung UE49NU7300U',\n",
       " 'Телевизор BBK 32LEM-1037/TS2C']"
      ]
     },
     "execution_count": 86,
     "metadata": {},
     "output_type": "execute_result"
    }
   ],
   "source": [
    "list(map(lambda x: x.text, soup.findAll('a', class_=\"link n-link_theme_blue\")))"
   ]
  },
  {
   "cell_type": "code",
   "execution_count": 92,
   "metadata": {},
   "outputs": [
    {
     "name": "stdout",
     "output_type": "stream",
     "text": [
      "11 770 ₽\n"
     ]
    }
   ],
   "source": [
    "print (soup.findAll('div', class_=\"price\")[0].text)"
   ]
  },
  {
   "cell_type": "code",
   "execution_count": 96,
   "metadata": {},
   "outputs": [
    {
     "name": "stdout",
     "output_type": "stream",
     "text": [
      "11 770 ₽\n",
      "12 370 ₽\n",
      "19 450 ₽\n",
      "9 985 ₽\n",
      "11 990 ₽\n",
      "23 800 ₽\n",
      "7 945 ₽\n",
      "12 200 ₽\n",
      "6 300 ₽\n",
      "30 080 ₽\n",
      "14 525 ₽\n",
      "10 335 ₽\n",
      "11 250 ₽\n",
      "9 990 ₽\n",
      "23 950 ₽\n",
      "6 250 ₽\n",
      "6 989 ₽\n",
      "10 150 ₽\n",
      "8 815 ₽\n",
      "25 730 ₽\n",
      "23 321 ₽\n",
      "14 990 ₽\n",
      "20 990 ₽\n",
      "13 730 ₽\n",
      "17 800 ₽\n",
      "8 035 ₽\n",
      "8 640 ₽\n",
      "14 990 ₽\n",
      "34 870 ₽\n",
      "36 530 ₽\n",
      "28 490 ₽\n",
      "24 400 ₽\n",
      "23 490 ₽\n",
      "11 270 ₽\n",
      "11 620 ₽\n",
      "23 750 ₽\n",
      "9 750 ₽\n",
      "13 360 ₽\n",
      "19 690 ₽\n",
      "19 900 ₽\n",
      "37 590 ₽\n",
      "23 225 ₽\n",
      "8 360 ₽\n",
      "14 250 ₽\n",
      "15 065 ₽\n",
      "9 670 ₽\n",
      "10 390 ₽\n",
      "17 900 ₽\n",
      "13 470 ₽\n",
      "21 040 ₽\n",
      "27 990 ₽\n",
      "33 990 ₽\n",
      "15 990 ₽\n",
      "33 250 ₽\n",
      "8 800 ₽\n",
      "9 400 ₽\n"
     ]
    }
   ],
   "source": [
    "for i in soup.findAll('div', class_=\"price\"):\n",
    "    print (i.text)"
   ]
  },
  {
   "cell_type": "code",
   "execution_count": 101,
   "metadata": {},
   "outputs": [
    {
     "name": "stdout",
     "output_type": "stream",
     "text": [
      "наименование: Телевизор LG 24MT49S-PZ, цена: 11 770 ₽\n",
      "наименование: Телевизор Samsung UE43N5000AU, цена: 19 450 ₽\n",
      "наименование: Телевизор LG 22MT49VF, цена: 9 985 ₽\n",
      "наименование: Телевизор LG 32LJ510U, цена: 11 990 ₽\n",
      "наименование: Телевизор LG 43UK6300, цена: 23 800 ₽\n",
      "наименование: Телевизор LG 20MT48VF, цена: 7 945 ₽\n",
      "наименование: Телевизор LG 32LK519B, цена: 12 200 ₽\n",
      "наименование: Телевизор BBK 20LEM-1056/T2C, цена: 6 300 ₽\n",
      "наименование: Телевизор JVC LT-55M780, цена: 30 080 ₽\n",
      "наименование: Телевизор LG 32LJ500V, цена: 14 525 ₽\n",
      "наименование: Телевизор LG 22MT58VF-PZ, цена: 10 335 ₽\n",
      "наименование: Телевизор Samsung UE24H4080AU, цена: 9 990 ₽\n",
      "наименование: Телевизор TCL L43P6US, цена: 23 950 ₽\n",
      "наименование: Телевизор TELEFUNKEN TF-LED22S49T2, цена: 6 250 ₽\n",
      "наименование: Телевизор LG 24TK410V-PZ, цена: 10 150 ₽\n",
      "наименование: Телевизор Thomson T32RTE1160, цена: 8 815 ₽\n",
      "наименование: Телевизор JVC LT-50M780, цена: 25 730 ₽\n",
      "наименование: Телевизор Erisson 50ULEA99T2 Smart, цена: 23 321 ₽\n",
      "наименование: Телевизор Samsung UE32N5000AU, цена: 14 990 ₽\n",
      "наименование: Телевизор Kivi 40FR50BR, цена: 20 990 ₽\n",
      "наименование: Телевизор LG 32LK540B, цена: 13 730 ₽\n",
      "наименование: Телевизор LG 43LK5000, цена: 17 800 ₽\n",
      "наименование: Телевизор BBK 28LEM-1050/T2C, цена: 8 035 ₽\n",
      "наименование: Телевизор BBK 32LEM-1027/TS2C, цена: 8 640 ₽\n",
      "наименование: Телевизор Samsung T24H390SI, цена: 14 990 ₽\n",
      "наименование: Телевизор LG 50UK6510, цена: 34 870 ₽\n",
      "наименование: Телевизор LG 43UK6510, цена: 28 490 ₽\n",
      "наименование: Телевизор LG 43LK6000, цена: 24 400 ₽\n",
      "наименование: Телевизор Samsung UE43N5500AU, цена: 23 490 ₽\n",
      "наименование: Телевизор Kivi 32HB50GR, цена: 11 270 ₽\n",
      "наименование: Телевизор LG 24MT58VF-PZ, цена: 11 620 ₽\n",
      "наименование: Телевизор Samsung UE40NU7100U, цена: 23 750 ₽\n",
      "наименование: Телевизор JVC LT-24M585W, цена: 9 750 ₽\n",
      "наименование: Телевизор Samsung UE32M5500AU, цена: 13 360 ₽\n",
      "наименование: Телевизор Hitachi 40HB6T62, цена: 19 690 ₽\n",
      "наименование: Телевизор LG 50UK6710, цена: 19 900 ₽\n",
      "наименование: Телевизор Mystery MTV-5032LTA2, цена: 37 590 ₽\n",
      "наименование: Телевизор BBK 32LEM-1045/T2C, цена: 23 225 ₽\n",
      "наименование: Телевизор LG 32LJ600U, цена: 8 360 ₽\n",
      "наименование: Телевизор Philips 22PFS4022, цена: 14 250 ₽\n",
      "наименование: Телевизор LG 43LJ510V, цена: 9 670 ₽\n",
      "наименование: Телевизор Samsung T32E310EX, цена: 17 900 ₽\n",
      "наименование: Телевизор Mystery MTV-5031LTA2, цена: 13 470 ₽\n",
      "наименование: Телевизор Samsung UE40NU7140U, цена: 21 040 ₽\n",
      "наименование: Телевизор AMCV LE-39ZTHS17, цена: 27 990 ₽\n",
      "наименование: Телевизор Samsung UE49NU7300U, цена: 15 990 ₽\n",
      "наименование: Телевизор BBK 32LEM-1037/TS2C, цена: 33 250 ₽\n"
     ]
    }
   ],
   "source": [
    "tv_name = soup.findAll('a', class_=\"link n-link_theme_blue\")\n",
    "price = filter(lambda x: x.find('span') is None, soup.findAll('div', class_=\"price\"))\n",
    "\n",
    "for tag_name, tag_price in zip(tv_name, price):\n",
    "    print('наименование: {}, цена: {}'.format(tag_name.attrs['title'], tag_price.string))"
   ]
  },
  {
   "cell_type": "code",
   "execution_count": 107,
   "metadata": {},
   "outputs": [],
   "source": [
    "def get_html(url, params={}):\n",
    "    r = requests.get(url, params=params)\n",
    "\n",
    "    if r.ok:\n",
    "        print(r.url)\n",
    "        soup = BeautifulSoup(r.text, 'lxml')\n",
    "        return soup\n",
    "    else:\n",
    "        raise('Bad request')"
   ]
  },
  {
   "cell_type": "code",
   "execution_count": 108,
   "metadata": {},
   "outputs": [
    {
     "name": "stdout",
     "output_type": "stream",
     "text": [
      "https://www.kinopoisk.ru/top/lists/1/\n"
     ]
    }
   ],
   "source": [
    "soup = get_html('https://www.kinopoisk.ru/top/lists/1/')"
   ]
  },
  {
   "cell_type": "code",
   "execution_count": 119,
   "metadata": {},
   "outputs": [
    {
     "name": "stdout",
     "output_type": "stream",
     "text": [
      "Побег из Шоушенка https://www.kinopoisk.ru/film/326/\n",
      "Зеленая миля https://www.kinopoisk.ru/film/435/\n",
      "Форрест Гамп https://www.kinopoisk.ru/film/448/\n",
      "Список Шиндлера https://www.kinopoisk.ru/film/329/\n",
      "1+1 https://www.kinopoisk.ru/film/535341/\n",
      "Леон https://www.kinopoisk.ru/film/389/\n",
      "Начало https://www.kinopoisk.ru/film/447301/\n",
      "Король Лев https://www.kinopoisk.ru/film/2360/\n",
      "Бойцовский клуб https://www.kinopoisk.ru/film/361/\n",
      "Иван Васильевич меняет профессию https://www.kinopoisk.ru/film/42664/\n",
      "Жизнь прекрасна https://www.kinopoisk.ru/film/381/\n",
      "Достучаться до небес https://www.kinopoisk.ru/film/32898/\n",
      "Крестный отец https://www.kinopoisk.ru/film/325/\n",
      "Криминальное чтиво https://www.kinopoisk.ru/film/342/\n",
      "Престиж https://www.kinopoisk.ru/film/195334/\n",
      "Операция «Ы» и другие приключения Шурика https://www.kinopoisk.ru/film/42782/\n",
      "Игры разума https://www.kinopoisk.ru/film/530/\n",
      "Интерстеллар https://www.kinopoisk.ru/film/258687/\n",
      "Гладиатор https://www.kinopoisk.ru/film/474/\n",
      "Властелин колец: Возвращение Короля https://www.kinopoisk.ru/film/3498/\n",
      "Назад в будущее https://www.kinopoisk.ru/film/476/\n",
      "Карты, деньги, два ствола https://www.kinopoisk.ru/film/522/\n",
      "Бриллиантовая рука https://www.kinopoisk.ru/film/46225/\n",
      "Матрица https://www.kinopoisk.ru/film/301/\n",
      "Отступники https://www.kinopoisk.ru/film/81314/\n"
     ]
    }
   ],
   "source": [
    "films_list = []\n",
    "for film in soup.findAll('tr', class_='js-film-list-item'):\n",
    "    title = film.findAll('a', class_= 'all')[0].text\n",
    "    \n",
    "    link = 'https://www.kinopoisk.ru' + film.findAll('a', class_='all')[0].attrs['href']\n",
    "    print(title, link)\n",
    "    films_list.append((title, link))"
   ]
  },
  {
   "cell_type": "code",
   "execution_count": 120,
   "metadata": {},
   "outputs": [
    {
     "data": {
      "text/plain": [
       "[('Побег из Шоушенка', 'https://www.kinopoisk.ru/film/326/'),\n",
       " ('Зеленая миля', 'https://www.kinopoisk.ru/film/435/'),\n",
       " ('Форрест Гамп', 'https://www.kinopoisk.ru/film/448/'),\n",
       " ('Список Шиндлера', 'https://www.kinopoisk.ru/film/329/'),\n",
       " ('1+1', 'https://www.kinopoisk.ru/film/535341/'),\n",
       " ('Леон', 'https://www.kinopoisk.ru/film/389/'),\n",
       " ('Начало', 'https://www.kinopoisk.ru/film/447301/'),\n",
       " ('Король Лев', 'https://www.kinopoisk.ru/film/2360/'),\n",
       " ('Бойцовский клуб', 'https://www.kinopoisk.ru/film/361/'),\n",
       " ('Иван Васильевич меняет профессию', 'https://www.kinopoisk.ru/film/42664/'),\n",
       " ('Жизнь прекрасна', 'https://www.kinopoisk.ru/film/381/'),\n",
       " ('Достучаться до небес', 'https://www.kinopoisk.ru/film/32898/'),\n",
       " ('Крестный отец', 'https://www.kinopoisk.ru/film/325/'),\n",
       " ('Криминальное чтиво', 'https://www.kinopoisk.ru/film/342/'),\n",
       " ('Престиж', 'https://www.kinopoisk.ru/film/195334/'),\n",
       " ('Операция «Ы» и другие приключения Шурика',\n",
       "  'https://www.kinopoisk.ru/film/42782/'),\n",
       " ('Игры разума', 'https://www.kinopoisk.ru/film/530/'),\n",
       " ('Интерстеллар', 'https://www.kinopoisk.ru/film/258687/'),\n",
       " ('Гладиатор', 'https://www.kinopoisk.ru/film/474/'),\n",
       " ('Властелин колец: Возвращение Короля',\n",
       "  'https://www.kinopoisk.ru/film/3498/'),\n",
       " ('Назад в будущее', 'https://www.kinopoisk.ru/film/476/'),\n",
       " ('Карты, деньги, два ствола', 'https://www.kinopoisk.ru/film/522/'),\n",
       " ('Бриллиантовая рука', 'https://www.kinopoisk.ru/film/46225/'),\n",
       " ('Матрица', 'https://www.kinopoisk.ru/film/301/'),\n",
       " ('Отступники', 'https://www.kinopoisk.ru/film/81314/')]"
      ]
     },
     "execution_count": 120,
     "metadata": {},
     "output_type": "execute_result"
    }
   ],
   "source": [
    "films_list"
   ]
  },
  {
   "cell_type": "code",
   "execution_count": 121,
   "metadata": {},
   "outputs": [
    {
     "name": "stdout",
     "output_type": "stream",
     "text": [
      "https://www.kinopoisk.ru/film/326/\n"
     ]
    }
   ],
   "source": [
    "soup_f1 = get_html(films_list[0][1])"
   ]
  },
  {
   "cell_type": "code",
   "execution_count": 123,
   "metadata": {},
   "outputs": [
    {
     "name": "stdout",
     "output_type": "stream",
     "text": [
      "Бухгалтер Энди Дюфрейн обвинен в убийстве собственной жены и ее любовника. Оказавшись в тюрьме под названием Шоушенк, он сталкивается с жестокостью и беззаконием, царящими по обе стороны решетки. Каждый, кто попадает в эти стены, становится их рабом до конца жизни. Но Энди, обладающий живым умом и доброй душой, находит подход как к заключенным, так и к охранникам, добиваясь их особого к себе расположения.\n"
     ]
    }
   ],
   "source": [
    "print(soup_f1.findAll('div', class_='film-synopsys')[0].text)"
   ]
  },
  {
   "cell_type": "code",
   "execution_count": 124,
   "metadata": {},
   "outputs": [
    {
     "name": "stdout",
     "output_type": "stream",
     "text": [
      "https://www.kinopoisk.ru/film/326/\n",
      "Побег из Шоушенка\n",
      "https://www.kinopoisk.ru/showcaptcha?cc=1&retpath=https%3A//www.kinopoisk.ru/film/435%3F_2d191a60b4e3decf060f3677feecc81e&t=0/1560451383/8cfadc38ec211d20bf5e9763f1ef4869&s=06568a0bc2eda048dc3e092faeadab34\n",
      "Зеленая миля\n"
     ]
    },
    {
     "ename": "IndexError",
     "evalue": "list index out of range",
     "output_type": "error",
     "traceback": [
      "\u001b[1;31m---------------------------------------------------------------------------\u001b[0m",
      "\u001b[1;31mIndexError\u001b[0m                                Traceback (most recent call last)",
      "\u001b[1;32m<ipython-input-124-a3567cca8ef8>\u001b[0m in \u001b[0;36m<module>\u001b[1;34m()\u001b[0m\n\u001b[0;32m      3\u001b[0m     \u001b[0msoup_f1\u001b[0m \u001b[1;33m=\u001b[0m \u001b[0mget_html\u001b[0m\u001b[1;33m(\u001b[0m\u001b[0mf_link\u001b[0m\u001b[1;33m)\u001b[0m\u001b[1;33m\u001b[0m\u001b[0m\n\u001b[0;32m      4\u001b[0m     \u001b[0mprint\u001b[0m\u001b[1;33m(\u001b[0m\u001b[0mf_title\u001b[0m\u001b[1;33m)\u001b[0m\u001b[1;33m\u001b[0m\u001b[0m\n\u001b[1;32m----> 5\u001b[1;33m     \u001b[0mfilms_descriptions\u001b[0m\u001b[1;33m[\u001b[0m\u001b[1;33m(\u001b[0m\u001b[0mf_title\u001b[0m\u001b[1;33m,\u001b[0m \u001b[0mf_link\u001b[0m\u001b[1;33m)\u001b[0m\u001b[1;33m]\u001b[0m \u001b[1;33m=\u001b[0m \u001b[0msoup_f1\u001b[0m\u001b[1;33m.\u001b[0m\u001b[0mfindAll\u001b[0m\u001b[1;33m(\u001b[0m\u001b[1;34m'div'\u001b[0m\u001b[1;33m,\u001b[0m \u001b[0mclass_\u001b[0m\u001b[1;33m=\u001b[0m\u001b[1;34m'film-synopsys'\u001b[0m\u001b[1;33m)\u001b[0m\u001b[1;33m[\u001b[0m\u001b[1;36m0\u001b[0m\u001b[1;33m]\u001b[0m\u001b[1;33m.\u001b[0m\u001b[0mtext\u001b[0m\u001b[1;33m\u001b[0m\u001b[0m\n\u001b[0m\u001b[0;32m      6\u001b[0m \u001b[1;33m\u001b[0m\u001b[0m\n",
      "\u001b[1;31mIndexError\u001b[0m: list index out of range"
     ]
    }
   ],
   "source": [
    "films_descriptions = {}\n",
    "for f_title, f_link in films_list:\n",
    "    soup_f1 = get_html(f_link)\n",
    "    print(f_title)\n",
    "    films_descriptions[(f_title, f_link)] = soup_f1.findAll('div', class_='film-synopsys')[0].text\n",
    "    "
   ]
  },
  {
   "cell_type": "code",
   "execution_count": null,
   "metadata": {},
   "outputs": [],
   "source": []
  }
 ],
 "metadata": {
  "kernelspec": {
   "display_name": "Python 3",
   "language": "python",
   "name": "python3"
  },
  "language_info": {
   "codemirror_mode": {
    "name": "ipython",
    "version": 3
   },
   "file_extension": ".py",
   "mimetype": "text/x-python",
   "name": "python",
   "nbconvert_exporter": "python",
   "pygments_lexer": "ipython3",
   "version": "3.6.5"
  }
 },
 "nbformat": 4,
 "nbformat_minor": 2
}
