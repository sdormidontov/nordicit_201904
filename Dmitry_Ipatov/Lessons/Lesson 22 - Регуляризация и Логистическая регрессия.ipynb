{
 "cells": [
  {
   "cell_type": "markdown",
   "metadata": {},
   "source": [
    "### Состояние обучение\n",
    "\n",
    "Недообучение - алгоритм не смоделировал процесс, не уловил тренд.\n",
    "Оно менее опасно, чем переобучение (пример торговлей на бирже 5 $ или 50 $)\n",
    "То есть будет не очень, но это ожидаемо.\n",
    "Feature engineering помогает бороться с недообучением - для этого хорошо помогает знания в предметной области.\n",
    "\n",
    "\n",
    "Переобучение - алгоритм не смоделировал процесс, он подстроился под данные\n",
    "То есть будет не очень, и НЕОЖИДАННО\n"
   ]
  },
  {
   "cell_type": "markdown",
   "metadata": {},
   "source": [
    "Способ борьбы с переобучением\n",
    "1. Регуляризация"
   ]
  },
  {
   "cell_type": "markdown",
   "metadata": {},
   "source": [
    "Чем больше сумма коэфф-тов, тем выше вероятность переобучения - так сказал Тихонов.\n",
    "То если у нас много коэфф-тов по 1000, 20000 и т д , то модель скорее всего переобучена\n"
   ]
  },
  {
   "cell_type": "markdown",
   "metadata": {},
   "source": [
    "Соотвественно, мы должны модель наказывать, если она дает большие веса.\n",
    "Влиять на то, как сильно мы наказываем модель за высокие коэф-ты, можно с помощью параметра гамма (Г) - это вес наказывающего коэф-та\n",
    "\n",
    "Гамма - это регуляризационный параметр\n",
    "\n",
    "Если увеличиваем наказание, то увеличивается ошибка, то есть недообучение.\n",
    "Если уменьшаем гамму, то коэф-ты растут, то есть смещаемся в переобучение\n",
    "\n"
   ]
  },
  {
   "cell_type": "markdown",
   "metadata": {},
   "source": [
    "Ridge - это регрессия с регуляирзационным параметром"
   ]
  },
  {
   "cell_type": "markdown",
   "metadata": {},
   "source": [
    "Машинное обучение\n",
    "1. регрессия (какое-то число, например кол-во убытков) - это ЛИНЕЙНАЯ регрессия\n",
    "2. классификация (конечное дискретное значение, например отток - ушел/ не ушел) - это ЛОГИСТИЧЕСКАЯ регрессия\n",
    "\n",
    "обычно задачи регрессии можно свести к классификации.\n",
    "например предсказание цены можно свести к классификации Дорого-Дешево или к диапазонам\n"
   ]
  },
  {
   "cell_type": "markdown",
   "metadata": {},
   "source": [
    "### Логистическая регрессия\n",
    "\n",
    "\n",
    "На выходе - возвращается вероятность принадлежности к классу.\n",
    "Например отток: 0 - оставшиеся, 1 - ушедшие.\n",
    "Для каждого набдюдения на выходе получаем это:\n",
    "[0.35, 0.65]\n",
    "то есть 35% - останется, 65% - уйдет"
   ]
  },
  {
   "cell_type": "markdown",
   "metadata": {},
   "source": [
    "Сигмоида (асимптотическая функция) - строит вероятность принадлежности к классу"
   ]
  },
  {
   "cell_type": "markdown",
   "metadata": {},
   "source": [
    "Вероятность невозврата кредита - используется логистическая регрессия. Тут как раз применяется вероятность.\n",
    "И можно управлять решением, при какой вероятности невозврата отказывать в выдаче кредита (15% или 10% и т д) "
   ]
  },
  {
   "cell_type": "code",
   "execution_count": 6,
   "metadata": {},
   "outputs": [],
   "source": [
    "from sklearn import linear_model\n",
    "import pandas as pd\n",
    "import matplotlib.pyplot as plt\n",
    "import seaborn as sns\n",
    "import numpy as np\n",
    "%matplotlib inline"
   ]
  },
  {
   "cell_type": "code",
   "execution_count": 8,
   "metadata": {},
   "outputs": [],
   "source": [
    "df_admit = pd.read_csv('enroll.csv', names=['gre','gpa','admit'])"
   ]
  },
  {
   "cell_type": "code",
   "execution_count": 9,
   "metadata": {},
   "outputs": [
    {
     "data": {
      "text/html": [
       "<div>\n",
       "<style scoped>\n",
       "    .dataframe tbody tr th:only-of-type {\n",
       "        vertical-align: middle;\n",
       "    }\n",
       "\n",
       "    .dataframe tbody tr th {\n",
       "        vertical-align: top;\n",
       "    }\n",
       "\n",
       "    .dataframe thead th {\n",
       "        text-align: right;\n",
       "    }\n",
       "</style>\n",
       "<table border=\"1\" class=\"dataframe\">\n",
       "  <thead>\n",
       "    <tr style=\"text-align: right;\">\n",
       "      <th></th>\n",
       "      <th>gre</th>\n",
       "      <th>gpa</th>\n",
       "      <th>admit</th>\n",
       "    </tr>\n",
       "  </thead>\n",
       "  <tbody>\n",
       "    <tr>\n",
       "      <th>0</th>\n",
       "      <td>218.0</td>\n",
       "      <td>5.69</td>\n",
       "      <td>1.0</td>\n",
       "    </tr>\n",
       "    <tr>\n",
       "      <th>1</th>\n",
       "      <td>401.0</td>\n",
       "      <td>0.35</td>\n",
       "      <td>0.0</td>\n",
       "    </tr>\n",
       "    <tr>\n",
       "      <th>2</th>\n",
       "      <td>497.0</td>\n",
       "      <td>4.99</td>\n",
       "      <td>1.0</td>\n",
       "    </tr>\n",
       "    <tr>\n",
       "      <th>3</th>\n",
       "      <td>509.0</td>\n",
       "      <td>4.99</td>\n",
       "      <td>1.0</td>\n",
       "    </tr>\n",
       "    <tr>\n",
       "      <th>4</th>\n",
       "      <td>297.0</td>\n",
       "      <td>5.34</td>\n",
       "      <td>1.0</td>\n",
       "    </tr>\n",
       "  </tbody>\n",
       "</table>\n",
       "</div>"
      ],
      "text/plain": [
       "     gre   gpa  admit\n",
       "0  218.0  5.69    1.0\n",
       "1  401.0  0.35    0.0\n",
       "2  497.0  4.99    1.0\n",
       "3  509.0  4.99    1.0\n",
       "4  297.0  5.34    1.0"
      ]
     },
     "execution_count": 9,
     "metadata": {},
     "output_type": "execute_result"
    }
   ],
   "source": [
    "df_admit.head()"
   ]
  },
  {
   "cell_type": "code",
   "execution_count": 10,
   "metadata": {},
   "outputs": [
    {
     "name": "stdout",
     "output_type": "stream",
     "text": [
      "<class 'pandas.core.frame.DataFrame'>\n",
      "RangeIndex: 100 entries, 0 to 99\n",
      "Data columns (total 3 columns):\n",
      "gre      100 non-null float64\n",
      "gpa      100 non-null float64\n",
      "admit    100 non-null float64\n",
      "dtypes: float64(3)\n",
      "memory usage: 2.4 KB\n"
     ]
    }
   ],
   "source": [
    "df_admit.info()"
   ]
  },
  {
   "cell_type": "code",
   "execution_count": 11,
   "metadata": {},
   "outputs": [
    {
     "name": "stderr",
     "output_type": "stream",
     "text": [
      "C:\\ProgramData\\Anaconda3\\lib\\site-packages\\scipy\\stats\\stats.py:1713: FutureWarning: Using a non-tuple sequence for multidimensional indexing is deprecated; use `arr[tuple(seq)]` instead of `arr[seq]`. In the future this will be interpreted as an array index, `arr[np.array(seq)]`, which will result either in an error or a different result.\n",
      "  return np.add.reduce(sorted[indexer] * weights, axis=axis) / sumval\n"
     ]
    },
    {
     "data": {
      "text/plain": [
       "<matplotlib.axes._subplots.AxesSubplot at 0x26077458f98>"
      ]
     },
     "execution_count": 11,
     "metadata": {},
     "output_type": "execute_result"
    },
    {
     "data": {
      "image/png": "[encoded data removed]",
      "text/plain": [
       "<Figure size 432x288 with 1 Axes>"
      ]
     },
     "metadata": {
      "needs_background": "light"
     },
     "output_type": "display_data"
    }
   ],
   "source": [
    "sns.distplot(df_admit.gre, kde=False)"
   ]
  },
  {
   "cell_type": "code",
   "execution_count": 12,
   "metadata": {},
   "outputs": [
    {
     "name": "stderr",
     "output_type": "stream",
     "text": [
      "C:\\ProgramData\\Anaconda3\\lib\\site-packages\\scipy\\stats\\stats.py:1713: FutureWarning: Using a non-tuple sequence for multidimensional indexing is deprecated; use `arr[tuple(seq)]` instead of `arr[seq]`. In the future this will be interpreted as an array index, `arr[np.array(seq)]`, which will result either in an error or a different result.\n",
      "  return np.add.reduce(sorted[indexer] * weights, axis=axis) / sumval\n"
     ]
    },
    {
     "data": {
      "text/plain": [
       "<matplotlib.axes._subplots.AxesSubplot at 0x260787b8358>"
      ]
     },
     "execution_count": 12,
     "metadata": {},
     "output_type": "execute_result"
    },
    {
     "data": {
      "image/png": "[encoded data removed]",
      "text/plain": [
       "<Figure size 432x288 with 1 Axes>"
      ]
     },
     "metadata": {
      "needs_background": "light"
     },
     "output_type": "display_data"
    }
   ],
   "source": [
    "sns.distplot(df_admit['gpa'], kde=False)"
   ]
  },
  {
   "cell_type": "markdown",
   "metadata": {},
   "source": [
    "Видим, что факторы разного масштаба. У одного значения типа 300-600, а у второго 1-6\n",
    "По-хорошему, данные НОРМИРУЮТ вначале.\n"
   ]
  },
  {
   "cell_type": "code",
   "execution_count": 19,
   "metadata": {},
   "outputs": [
    {
     "data": {
      "image/png": "[encoded data removed]",
      "text/plain": [
       "<Figure size 1080x720 with 1 Axes>"
      ]
     },
     "metadata": {
      "needs_background": "light"
     },
     "output_type": "display_data"
    }
   ],
   "source": [
    "plt.figure(figsize=[15,10])\n",
    "plt.scatter(df_admit[df_admit.admit == 1]['gre'], # ось х\n",
    "           df_admit[df_admit.admit == 1]['gpa'], # ось y\n",
    "           c='green', label='Зачислен')\n",
    "\n",
    "plt.scatter(df_admit[df_admit.admit == 0]['gre'],\n",
    "           df_admit[df_admit.admit == 0]['gpa'],\n",
    "           c='red', label='Не прошел')\n",
    "\n",
    "plt.xlabel('GRE')\n",
    "plt.ylabel('GPA')\n",
    "plt.title('Поступление в унивеситет')\n",
    "plt.legend();\n",
    "plt.show()"
   ]
  },
  {
   "cell_type": "code",
   "execution_count": 24,
   "metadata": {},
   "outputs": [],
   "source": [
    "X = df_admit[['gre', 'gpa']].values\n",
    "y = df_admit['admit']"
   ]
  },
  {
   "cell_type": "code",
   "execution_count": 25,
   "metadata": {},
   "outputs": [
    {
     "data": {
      "text/plain": [
       "LogisticRegression(C=1.0, class_weight=None, dual=False, fit_intercept=True,\n",
       "          intercept_scaling=1, max_iter=100, multi_class='ovr', n_jobs=1,\n",
       "          penalty='l2', random_state=17, solver='lbfgs', tol=0.0001,\n",
       "          verbose=0, warm_start=False)"
      ]
     },
     "execution_count": 25,
     "metadata": {},
     "output_type": "execute_result"
    }
   ],
   "source": [
    "logit = linear_model.LogisticRegression(C=1.0, random_state=17, solver='lbfgs')\n",
    "# solver - это алгоримт\n",
    "# C - это параметр, обратный регуляризации. Чем больше значение, тем больше вероятность переобучение.\n",
    "logit.fit(X, y)"
   ]
  },
  {
   "cell_type": "code",
   "execution_count": 26,
   "metadata": {},
   "outputs": [
    {
     "data": {
      "text/plain": [
       "array([[-0.00427424,  1.87817315]])"
      ]
     },
     "execution_count": 26,
     "metadata": {},
     "output_type": "execute_result"
    }
   ],
   "source": [
    "logit.coef_"
   ]
  },
  {
   "cell_type": "markdown",
   "metadata": {},
   "source": [
    "коэф-ты разного масштаба, потому что у нас не нормированы исходные данные.\n",
    "также надо смотреть на знак фактора.\n",
    "мы получили отрицательный. То есть вывод - чем больше баллов по gre, тем меньше вероятность поступления - это какая-то хрень..."
   ]
  },
  {
   "cell_type": "code",
   "execution_count": 62,
   "metadata": {},
   "outputs": [],
   "source": [
    "def plot_boundary(logit, X_poly, y, grid_step=.01, poly_featurizer=False):\n",
    "    x_min, x_max = X_poly[:, 0].min() - .1, X_poly[:, 0].max() + .1\n",
    "    y_min, y_max = X_poly[:, 1].min() - .1, X_poly[:, 1].max() + .1\n",
    "    xx, yy = np.meshgrid(np.arange(x_min, x_max, grid_step),\n",
    "    np.arange(y_min, y_max, grid_step))\n",
    "    grid_X = np.c_[xx.ravel(), yy.ravel()]\n",
    "\n",
    "    if poly_featurizer:\n",
    "        grid_X_poly = np.c_[grid_X[:, 0], grid_X[:, 1], grid_X[:, 0]**2, grid_X[:, 0]**3, grid_X[:, 1]**2, grid_X[:, 1]**3, \n",
    "                            grid_X[:, 0] * grid_X[:, 1], grid_X[:, 0]**2 * grid_X[:, 1], grid_X[:, 0] * grid_X[:, 1]**2]\n",
    "    else:\n",
    "        grid_X_poly = grid_X.copy()\n",
    "    \n",
    "    Z = logit.predict(grid_X_poly)\n",
    "    Z = Z.reshape(xx.shape)\n",
    "    plt.contour(xx, yy, Z, cmap=plt.cm.Paired)"
   ]
  },
  {
   "cell_type": "code",
   "execution_count": 37,
   "metadata": {},
   "outputs": [
    {
     "data": {
      "image/png": "[encoded data removed]",
      "text/plain": [
       "<Figure size 1080x720 with 1 Axes>"
      ]
     },
     "metadata": {
      "needs_background": "light"
     },
     "output_type": "display_data"
    }
   ],
   "source": [
    "plt.figure(figsize=[15,10])\n",
    "logit = linear_model.LogisticRegression(C=1.0, n_jobs=-1,  random_state=17, solver='lbfgs')\n",
    "logit.fit(X, y)\n",
    "plot_boundary(logit, X, y, grid_step=.05)\n",
    "\n",
    "plt.scatter(df_admit[df_admit.admit == 1]['gre'], # ось х\n",
    "           df_admit[df_admit.admit == 1]['gpa'], # ось y\n",
    "           c='green', label='Зачислен')\n",
    "\n",
    "plt.scatter(df_admit[df_admit.admit == 0]['gre'],\n",
    "           df_admit[df_admit.admit == 0]['gpa'],\n",
    "           c='red', label='Не прошел')\n",
    "\n",
    "plt.xlabel('GRE')\n",
    "plt.ylabel('GPA')\n",
    "plt.title('Поступление в унивеситет')\n",
    "plt.legend();\n",
    "plt.show()\n",
    "\n"
   ]
  },
  {
   "cell_type": "code",
   "execution_count": 39,
   "metadata": {},
   "outputs": [
    {
     "data": {
      "text/plain": [
       "array([0.])"
      ]
     },
     "execution_count": 39,
     "metadata": {},
     "output_type": "execute_result"
    }
   ],
   "source": [
    "logit.predict([[500, 4]]) # вывод принадлежности к классу"
   ]
  },
  {
   "cell_type": "code",
   "execution_count": 40,
   "metadata": {},
   "outputs": [
    {
     "data": {
      "text/plain": [
       "array([[0.60393805, 0.39606195]])"
      ]
     },
     "execution_count": 40,
     "metadata": {},
     "output_type": "execute_result"
    }
   ],
   "source": [
    "logit.predict_proba([[500, 4]])"
   ]
  },
  {
   "cell_type": "code",
   "execution_count": 41,
   "metadata": {},
   "outputs": [],
   "source": [
    "# 60% не поступим, 40% поступим "
   ]
  },
  {
   "cell_type": "markdown",
   "metadata": {},
   "source": [
    "#### Линейную модель нужно использовать, когда нужно использовать максимально надежный коэффициент, например в медицине"
   ]
  },
  {
   "cell_type": "code",
   "execution_count": 64,
   "metadata": {},
   "outputs": [
    {
     "data": {
      "image/png": "[encoded data removed]",
      "text/plain": [
       "<Figure size 1080x720 with 1 Axes>"
      ]
     },
     "metadata": {
      "needs_background": "light"
     },
     "output_type": "display_data"
    }
   ],
   "source": [
    "plt.figure(figsize=[15,10])\n",
    "logit = linear_model.LogisticRegression(C=1e-3, n_jobs=-1,  random_state=17, solver='lbfgs')\n",
    "logit.fit(X, y)\n",
    "plot_boundary(logit, X, y, grid_step=.05)\n",
    "\n",
    "plt.scatter(df_admit[df_admit.admit == 1]['gre'], # ось х\n",
    "           df_admit[df_admit.admit == 1]['gpa'], # ось y\n",
    "           c='green', label='Зачислен')\n",
    "\n",
    "plt.scatter(df_admit[df_admit.admit == 0]['gre'],\n",
    "           df_admit[df_admit.admit == 0]['gpa'],\n",
    "           c='red', label='Не прошел')\n",
    "\n",
    "plt.xlabel('GRE')\n",
    "plt.ylabel('GPA')\n",
    "plt.title('Поступление в унивеситет')\n",
    "plt.legend();\n",
    "plt.show()\n"
   ]
  },
  {
   "cell_type": "code",
   "execution_count": 44,
   "metadata": {},
   "outputs": [
    {
     "data": {
      "text/plain": [
       "array([[0.00019418, 0.04475676]])"
      ]
     },
     "execution_count": 44,
     "metadata": {},
     "output_type": "execute_result"
    }
   ],
   "source": [
    "logit.coef_"
   ]
  },
  {
   "cell_type": "markdown",
   "metadata": {},
   "source": [
    "мы сильно уменьшили коэф-ты "
   ]
  },
  {
   "cell_type": "code",
   "execution_count": 51,
   "metadata": {},
   "outputs": [],
   "source": [
    "df_mod = df_admit.copy()"
   ]
  },
  {
   "cell_type": "code",
   "execution_count": 52,
   "metadata": {},
   "outputs": [],
   "source": [
    "df_mod['gre2'] = df_mod['gre']**2\n",
    "df_mod['gre3'] = df_mod['gre']**3\n",
    "\n",
    "df_mod['gpa2'] = df_mod['gpa']**2\n",
    "df_mod['gpa3'] = df_mod['gpa']**3\n",
    "\n",
    "df_mod['gre_gpa'] = df_mod['gre'] * df_mod['gpa']\n",
    "df_mod['gre2_gpa'] = df_mod['gre']**2 * df_mod['gpa']\n",
    "df_mod['gre_gpa2'] = df_mod['gre'] * df_mod['gpa']**2"
   ]
  },
  {
   "cell_type": "code",
   "execution_count": 53,
   "metadata": {},
   "outputs": [
    {
     "data": {
      "text/html": [
       "<div>\n",
       "<style scoped>\n",
       "    .dataframe tbody tr th:only-of-type {\n",
       "        vertical-align: middle;\n",
       "    }\n",
       "\n",
       "    .dataframe tbody tr th {\n",
       "        vertical-align: top;\n",
       "    }\n",
       "\n",
       "    .dataframe thead th {\n",
       "        text-align: right;\n",
       "    }\n",
       "</style>\n",
       "<table border=\"1\" class=\"dataframe\">\n",
       "  <thead>\n",
       "    <tr style=\"text-align: right;\">\n",
       "      <th></th>\n",
       "      <th>gre</th>\n",
       "      <th>gpa</th>\n",
       "      <th>admit</th>\n",
       "      <th>gre2</th>\n",
       "      <th>gre3</th>\n",
       "      <th>gpa2</th>\n",
       "      <th>gpa3</th>\n",
       "      <th>gre_gpa</th>\n",
       "      <th>gre2_gpa</th>\n",
       "      <th>gre_gpa2</th>\n",
       "    </tr>\n",
       "  </thead>\n",
       "  <tbody>\n",
       "    <tr>\n",
       "      <th>0</th>\n",
       "      <td>218.0</td>\n",
       "      <td>5.69</td>\n",
       "      <td>1.0</td>\n",
       "      <td>47524.0</td>\n",
       "      <td>10360232.0</td>\n",
       "      <td>32.3761</td>\n",
       "      <td>184.220009</td>\n",
       "      <td>1240.42</td>\n",
       "      <td>270411.56</td>\n",
       "      <td>7057.9898</td>\n",
       "    </tr>\n",
       "    <tr>\n",
       "      <th>1</th>\n",
       "      <td>401.0</td>\n",
       "      <td>0.35</td>\n",
       "      <td>0.0</td>\n",
       "      <td>160801.0</td>\n",
       "      <td>64481201.0</td>\n",
       "      <td>0.1225</td>\n",
       "      <td>0.042875</td>\n",
       "      <td>140.35</td>\n",
       "      <td>56280.35</td>\n",
       "      <td>49.1225</td>\n",
       "    </tr>\n",
       "    <tr>\n",
       "      <th>2</th>\n",
       "      <td>497.0</td>\n",
       "      <td>4.99</td>\n",
       "      <td>1.0</td>\n",
       "      <td>247009.0</td>\n",
       "      <td>122763473.0</td>\n",
       "      <td>24.9001</td>\n",
       "      <td>124.251499</td>\n",
       "      <td>2480.03</td>\n",
       "      <td>1232574.91</td>\n",
       "      <td>12375.3497</td>\n",
       "    </tr>\n",
       "    <tr>\n",
       "      <th>3</th>\n",
       "      <td>509.0</td>\n",
       "      <td>4.99</td>\n",
       "      <td>1.0</td>\n",
       "      <td>259081.0</td>\n",
       "      <td>131872229.0</td>\n",
       "      <td>24.9001</td>\n",
       "      <td>124.251499</td>\n",
       "      <td>2539.91</td>\n",
       "      <td>1292814.19</td>\n",
       "      <td>12674.1509</td>\n",
       "    </tr>\n",
       "    <tr>\n",
       "      <th>4</th>\n",
       "      <td>297.0</td>\n",
       "      <td>5.34</td>\n",
       "      <td>1.0</td>\n",
       "      <td>88209.0</td>\n",
       "      <td>26198073.0</td>\n",
       "      <td>28.5156</td>\n",
       "      <td>152.273304</td>\n",
       "      <td>1585.98</td>\n",
       "      <td>471036.06</td>\n",
       "      <td>8469.1332</td>\n",
       "    </tr>\n",
       "  </tbody>\n",
       "</table>\n",
       "</div>"
      ],
      "text/plain": [
       "     gre   gpa  admit      gre2         gre3     gpa2        gpa3  gre_gpa  \\\n",
       "0  218.0  5.69    1.0   47524.0   10360232.0  32.3761  184.220009  1240.42   \n",
       "1  401.0  0.35    0.0  160801.0   64481201.0   0.1225    0.042875   140.35   \n",
       "2  497.0  4.99    1.0  247009.0  122763473.0  24.9001  124.251499  2480.03   \n",
       "3  509.0  4.99    1.0  259081.0  131872229.0  24.9001  124.251499  2539.91   \n",
       "4  297.0  5.34    1.0   88209.0   26198073.0  28.5156  152.273304  1585.98   \n",
       "\n",
       "     gre2_gpa    gre_gpa2  \n",
       "0   270411.56   7057.9898  \n",
       "1    56280.35     49.1225  \n",
       "2  1232574.91  12375.3497  \n",
       "3  1292814.19  12674.1509  \n",
       "4   471036.06   8469.1332  "
      ]
     },
     "execution_count": 53,
     "metadata": {},
     "output_type": "execute_result"
    }
   ],
   "source": [
    "df_mod.head()"
   ]
  },
  {
   "cell_type": "code",
   "execution_count": 55,
   "metadata": {},
   "outputs": [
    {
     "data": {
      "text/plain": [
       "(100, 10)"
      ]
     },
     "execution_count": 55,
     "metadata": {},
     "output_type": "execute_result"
    }
   ],
   "source": [
    "df_mod.shape"
   ]
  },
  {
   "cell_type": "code",
   "execution_count": 57,
   "metadata": {},
   "outputs": [],
   "source": [
    "X_poly = df_mod.drop('admit', axis=1).values\n",
    "y_poly = np.array(df_mod['admit'])"
   ]
  },
  {
   "cell_type": "code",
   "execution_count": 58,
   "metadata": {},
   "outputs": [
    {
     "data": {
      "text/plain": [
       "array([1., 0., 1., 1., 1., 1., 1., 0., 0., 0., 0., 0., 0., 0., 0., 0., 0.,\n",
       "       1., 1., 1., 1., 0., 0., 1., 0., 1., 1., 1., 0., 0., 0., 0., 1., 0.,\n",
       "       0., 1., 1., 1., 0., 1., 1., 1., 1., 0., 0., 1., 1., 1., 1., 1., 1.,\n",
       "       0., 0., 0., 0., 0., 0., 0., 0., 0., 1., 0., 0., 0., 1., 0., 1., 1.,\n",
       "       1., 1., 1., 0., 1., 1., 0., 1., 1., 1., 1., 0., 0., 0., 1., 0., 0.,\n",
       "       1., 0., 1., 0., 1., 1., 0., 0., 0., 1., 0., 1., 1., 0., 1.])"
      ]
     },
     "execution_count": 58,
     "metadata": {},
     "output_type": "execute_result"
    }
   ],
   "source": [
    "y_poly"
   ]
  },
  {
   "cell_type": "code",
   "execution_count": 65,
   "metadata": {},
   "outputs": [
    {
     "data": {
      "image/png": "[encoded data removed]",
      "text/plain": [
       "<Figure size 1080x720 with 1 Axes>"
      ]
     },
     "metadata": {
      "needs_background": "light"
     },
     "output_type": "display_data"
    }
   ],
   "source": [
    "plt.figure(figsize=[15,10])\n",
    "logit = linear_model.LogisticRegression(C=1.0, n_jobs=-1, random_state=17, solver='lbfgs')\n",
    "logit.fit(X_poly, y_poly)\n",
    "plot_boundary(logit, X_poly, y_poly, grid_step=0.05, poly_featurizer=True)\n",
    "\n",
    "plt.scatter(df_mod[df_mod.admit == 1]['gre'], # ось х\n",
    "           df_mod[df_mod.admit == 1]['gpa'], # ось y\n",
    "           c='green', label='Зачислен')\n",
    "\n",
    "plt.scatter(df_mod[df_admit.admit == 0]['gre'],\n",
    "           df_mod[df_admit.admit == 0]['gpa'],\n",
    "           c='red', label='Не прошел')\n",
    "\n",
    "plt.xlabel('GRE')\n",
    "plt.ylabel('GPA')\n",
    "plt.title('Поступление в унивеситет')\n",
    "plt.legend();\n",
    "plt.show()"
   ]
  },
  {
   "cell_type": "code",
   "execution_count": null,
   "metadata": {},
   "outputs": [],
   "source": []
  }
 ],
 "metadata": {
  "kernelspec": {
   "display_name": "Python 3",
   "language": "python",
   "name": "python3"
  },
  "language_info": {
   "codemirror_mode": {
    "name": "ipython",
    "version": 3
   },
   "file_extension": ".py",
   "mimetype": "text/x-python",
   "name": "python",
   "nbconvert_exporter": "python",
   "pygments_lexer": "ipython3",
   "version": "3.7.0"
  }
 },
 "nbformat": 4,
 "nbformat_minor": 2
}
