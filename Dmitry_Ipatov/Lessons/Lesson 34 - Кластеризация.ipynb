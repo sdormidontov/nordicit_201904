{
 "cells": [
  {
   "cell_type": "code",
   "execution_count": null,
   "metadata": {},
   "outputs": [],
   "source": [
    "# не успеваем\n",
    "# метод ближайших соседей\n",
    "#онлайн дообучение - когда данныне не влезают в память, и модель дообучается\n",
    "\n"
   ]
  },
  {
   "cell_type": "markdown",
   "metadata": {},
   "source": [
    "\n",
    "обучение с учителем - это когда есть таргет (классификация и регрессия)\n",
    "обучение без учителя - нет таргета (кластеризация)\n",
    "обучение с подкреплением - есть начальный набор, на котором есть обучения, но потом цель обучения модифицируется, \n",
    "и происходит дальнейшее обучение (типа робот, который едет по комнате и обходит препятствия)\n",
    "\n"
   ]
  },
  {
   "cell_type": "markdown",
   "metadata": {},
   "source": [
    "2 из 10 или 20 из 100 ?\n"
   ]
  },
  {
   "cell_type": "markdown",
   "metadata": {},
   "source": [
    "плюс кластеризации - располагаем большим объемом данных\n",
    "минус - нет четких метрик для валидации\n"
   ]
  },
  {
   "cell_type": "markdown",
   "metadata": {},
   "source": [
    "доверительный интервал - ? \n",
    "отобрали 95 писем, можно ли распределить на генеральную совокупность"
   ]
  },
  {
   "cell_type": "code",
   "execution_count": null,
   "metadata": {},
   "outputs": [],
   "source": [
    "применимость - например спам-письма.\n",
    "кластеризация позволяет лучше понять данные, с которыми мы имеем дело.\n",
    "\n",
    "разметка - это соответствие тагрета строке.\n",
    "разметка бывает шумной (то есть спам идентифицировали например как не спам)\n",
    "тут кластеризация помогает идентифицировать и даже исправить то , что было сделано неправильно.\n",
    "то есть мы увидим , что в области спама есть например письма указаны как не спам\n",
    "\n",
    "\n",
    "то есть применимость:\n",
    "    1. создать разметку\n",
    "    2. провалидировать существующую разметку\n",
    "    \n",
    "\n",
    "DBSCAN - самый лучший алгоритм , но сложно его настроить правильно\n",
    "Агломеративная Кластеризация - вторая в рейтинге\n",
    "\n",
    "    "
   ]
  },
  {
   "cell_type": "markdown",
   "metadata": {},
   "source": [
    "### k-means"
   ]
  },
  {
   "cell_type": "code",
   "execution_count": 1,
   "metadata": {},
   "outputs": [],
   "source": [
    "import numpy as np\n",
    "import matplotlib.pyplot as plt\n",
    "%matplotlib inline\n",
    "import seaborn as sns"
   ]
  },
  {
   "cell_type": "code",
   "execution_count": 6,
   "metadata": {},
   "outputs": [
    {
     "data": {
      "text/plain": [
       "[<matplotlib.lines.Line2D at 0x1dfabbef080>]"
      ]
     },
     "execution_count": 6,
     "metadata": {},
     "output_type": "execute_result"
    },
    {
     "data": {
      "image/png": "[encoded data removed]",
      "text/plain": [
       "<Figure size 432x288 with 1 Axes>"
      ]
     },
     "metadata": {
      "needs_background": "light"
     },
     "output_type": "display_data"
    }
   ],
   "source": [
    "X = np.zeros((150, 2))\n",
    "\n",
    "np.random.seed(seed=42)\n",
    "\n",
    "X[:50, 1] = np.random.normal(loc = 0.0, scale = 0.3, size = 50)\n",
    "X[:50, 0] = np.random.normal(loc = 0.0, scale = 0.3, size = 50)\n",
    "\n",
    "X[50:100, 1] = np.random.normal(loc = 2.0, scale = 0.5, size = 50)\n",
    "X[50:100, 0] = np.random.normal(loc = -1.0, scale = 0.2, size = 50)\n",
    "\n",
    "X[100:150, 1] = np.random.normal(loc = -1.0, scale = 0.2, size = 50)\n",
    "X[100:150, 0] = np.random.normal(loc = 2.0, scale = 0.5, size = 50)\n",
    "\n",
    "\n",
    "plt.plot(X[:, 0], X[:, 1], 'bo')\n",
    "plt.plot(cent)"
   ]
  },
  {
   "cell_type": "code",
   "execution_count": 7,
   "metadata": {},
   "outputs": [],
   "source": [
    "from scipy.spatial.distance import cdist\n"
   ]
  },
  {
   "cell_type": "code",
   "execution_count": 23,
   "metadata": {},
   "outputs": [
    {
     "data": {
      "text/plain": [
       "array([[ 1.57921282,  0.76743473],\n",
       "       [-0.46947439,  0.54256004],\n",
       "       [-0.46341769, -0.46572975]])"
      ]
     },
     "execution_count": 23,
     "metadata": {},
     "output_type": "execute_result"
    }
   ],
   "source": [
    "#np.random.seed(seed=42)\n",
    "centroids = np.random.normal(loc = 0.0, scale = 1, size = 6)\n",
    "np.reshape(centroids, (3,2))"
   ]
  },
  {
   "cell_type": "code",
   "execution_count": 24,
   "metadata": {},
   "outputs": [],
   "source": [
    "centroids = centroids.reshape(3, 2)"
   ]
  },
  {
   "cell_type": "code",
   "execution_count": 25,
   "metadata": {},
   "outputs": [
    {
     "data": {
      "text/plain": [
       "array([[ 1.57921282,  0.76743473],\n",
       "       [-0.46947439,  0.54256004],\n",
       "       [-0.46341769, -0.46572975]])"
      ]
     },
     "execution_count": 25,
     "metadata": {},
     "output_type": "execute_result"
    }
   ],
   "source": [
    "centroids"
   ]
  },
  {
   "cell_type": "code",
   "execution_count": 26,
   "metadata": {},
   "outputs": [
    {
     "data": {
      "image/png": "[encoded data removed]",
      "text/plain": [
       "<Figure size 432x288 with 1 Axes>"
      ]
     },
     "metadata": {
      "needs_background": "light"
     },
     "output_type": "display_data"
    }
   ],
   "source": [
    "plt.plot(X[:, 0], X[:, 1], 'bo')\n",
    "plt.plot(centroids[:, 0], centroids[:, 1], 'bo', color='green' )\n",
    "plt.show()"
   ]
  },
  {
   "cell_type": "code",
   "execution_count": 27,
   "metadata": {},
   "outputs": [],
   "source": [
    "distanses = cdist(X, centroids)\n",
    "labels = distanses.argmin(axis=1) # индекс минимальной "
   ]
  },
  {
   "cell_type": "code",
   "execution_count": 28,
   "metadata": {},
   "outputs": [
    {
     "data": {
      "text/plain": [
       "array([1, 2, 1, 1, 2, 2, 1, 1, 2, 1, 2, 2, 1, 2, 2, 2, 2, 1, 2, 2, 1, 2,\n",
       "       2, 2, 2, 2, 2, 1, 2, 2, 2, 1, 2, 2, 1, 2, 1, 2, 2, 1, 1, 1, 2, 2,\n",
       "       2, 2, 2, 1, 1, 2, 1, 1, 1, 1, 1, 1, 1, 1, 1, 1, 1, 1, 1, 1, 1, 1,\n",
       "       1, 1, 1, 1, 1, 1, 1, 1, 1, 1, 1, 1, 1, 1, 1, 1, 1, 1, 1, 1, 1, 1,\n",
       "       1, 1, 1, 1, 1, 1, 1, 1, 1, 1, 1, 1, 0, 0, 0, 0, 2, 0, 0, 0, 0, 0,\n",
       "       0, 0, 2, 0, 0, 0, 0, 0, 0, 0, 0, 2, 0, 0, 0, 0, 0, 0, 0, 0, 0, 0,\n",
       "       0, 0, 0, 2, 0, 0, 0, 0, 0, 0, 0, 0, 0, 0, 0, 0, 0, 0], dtype=int64)"
      ]
     },
     "execution_count": 28,
     "metadata": {},
     "output_type": "execute_result"
    }
   ],
   "source": [
    "labels"
   ]
  },
  {
   "cell_type": "code",
   "execution_count": 44,
   "metadata": {},
   "outputs": [],
   "source": [
    "k=4\n",
    "centroids = np.random.normal(loc = 0.0, scale = 1, size = k*2)\n",
    "centroids = centroids.reshape((k, 2))\n",
    "cent_history = []\n",
    "cent_history.append(centroids)\n",
    "\n",
    "\n",
    "for i in range(3):\n",
    "    distanses = cdist(X, centroids)\n",
    "    labels = distanses.argmin(axis=1)\n",
    "    \n",
    "    centroids = centroids.copy()\n",
    "    for j in range(k):\n",
    "        centroids[j] = np.mean(X[labels==j, :], axis = 0)\n",
    "        \n",
    "    cent_history.append(centroids)    "
   ]
  },
  {
   "cell_type": "code",
   "execution_count": 45,
   "metadata": {},
   "outputs": [
    {
     "data": {
      "image/png": "[encoded data removed]",
      "text/plain": [
       "<Figure size 576x576 with 4 Axes>"
      ]
     },
     "metadata": {
      "needs_background": "light"
     },
     "output_type": "display_data"
    }
   ],
   "source": [
    "colors  = ['b', 'c', 'm', 'y' , 'g']\n",
    "plt.figure(figsize=(8, 8))\n",
    "\n",
    "for i in range(4):\n",
    "    distanses = cdist(X, cent_history[i])\n",
    "    labels = distanses.argmin(axis = 1)\n",
    "    \n",
    "    plt.subplot(2, 2, i + 1)\n",
    "    for j in range(k):\n",
    "        plt.plot(X[labels == j, 0], X[labels == j, 1], colors[j] + 'o', label = 'cluster #{}'.format(j))\n",
    "        plt.plot(cent_history[i][:, 0], cent_history[i][:, 1], 'rX')\n",
    "        plt.legend(loc=0)\n",
    "        plt.title('Step {:}'.format(i + 1))\n",
    "    "
   ]
  },
  {
   "cell_type": "code",
   "execution_count": 47,
   "metadata": {},
   "outputs": [
    {
     "data": {
      "text/plain": [
       "Text(0,0.5,'$J(C_k)$')"
      ]
     },
     "execution_count": 47,
     "metadata": {},
     "output_type": "execute_result"
    },
    {
     "data": {
      "image/png": "[encoded data removed]",
      "text/plain": [
       "<Figure size 432x288 with 1 Axes>"
      ]
     },
     "metadata": {
      "needs_background": "light"
     },
     "output_type": "display_data"
    }
   ],
   "source": [
    "from sklearn.cluster import KMeans\n",
    "\n",
    "inertia = []\n",
    "for k in range(1, 8):\n",
    "    kmeans = KMeans(n_clusters=k, random_state=1).fit(X)\n",
    "    inertia.append(np.sqrt(kmeans.inertia_))\n",
    "    \n",
    "plt.plot(range(1, 8), inertia, marker='s')\n",
    "plt.xlabel('$k$')\n",
    "plt.ylabel('$J(C_k)$')\n",
    "\n"
   ]
  },
  {
   "cell_type": "code",
   "execution_count": null,
   "metadata": {},
   "outputs": [],
   "source": [
    "Метрики качества\n",
    "\n",
    "- инерция\n",
    "\n",
    "- силуэт \n",
    "\n"
   ]
  },
  {
   "cell_type": "code",
   "execution_count": null,
   "metadata": {},
   "outputs": [],
   "source": [
    "выбираем 3 кластера, так как после значения 3 функция меняет свое поведение.\n"
   ]
  },
  {
   "cell_type": "code",
   "execution_count": 49,
   "metadata": {},
   "outputs": [],
   "source": [
    "from sklearn import metrics"
   ]
  },
  {
   "cell_type": "code",
   "execution_count": 51,
   "metadata": {},
   "outputs": [
    {
     "data": {
      "text/plain": [
       "Text(0,0.5,'$silhouete)$')"
      ]
     },
     "execution_count": 51,
     "metadata": {},
     "output_type": "execute_result"
    },
    {
     "data": {
      "image/png": "[encoded data removed]",
      "text/plain": [
       "<Figure size 432x288 with 1 Axes>"
      ]
     },
     "metadata": {
      "needs_background": "light"
     },
     "output_type": "display_data"
    }
   ],
   "source": [
    "silhouete = []\n",
    "for k in range(2, 8):\n",
    "    kmeans = KMeans(n_clusters=k, random_state=1).fit(X)\n",
    "    silhouete.append(metrics.silhouette_score(X, kmeans.labels_))\n",
    "   \n",
    "    \n",
    "plt.plot(range(2, 8), silhouete, marker='s')\n",
    "plt.xlabel('$k$')\n",
    "plt.ylabel('$silhouete)$')"
   ]
  },
  {
   "cell_type": "code",
   "execution_count": null,
   "metadata": {},
   "outputs": [],
   "source": []
  }
 ],
 "metadata": {
  "kernelspec": {
   "display_name": "Python 3",
   "language": "python",
   "name": "python3"
  },
  "language_info": {
   "codemirror_mode": {
    "name": "ipython",
    "version": 3
   },
   "file_extension": ".py",
   "mimetype": "text/x-python",
   "name": "python",
   "nbconvert_exporter": "python",
   "pygments_lexer": "ipython3",
   "version": "3.7.0"
  }
 },
 "nbformat": 4,
 "nbformat_minor": 2
}
