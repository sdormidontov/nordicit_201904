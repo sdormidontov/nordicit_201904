{
 "cells": [
  {
   "cell_type": "markdown",
   "metadata": {},
   "source": [
    "Проект, который нужно сделать\n",
    "\n",
    "Парсинг ЦИАНа\n",
    "\n",
    "Загрузить как можно большее кол-во данных из описания квартиры, в том числе текстовую информацию.\n",
    "Выгрузить минимум 1500 объявлений.\n",
    "\n",
    "Совет - после каждой скачанной квартиры сохранять данные сразу (в файл или базу)\n",
    "если 4 ядра - то можно распараллелить\n",
    "\n",
    "Из выгруженного пробуем делать факторы.\n",
    "По полученным данным предсказать стоимость квартиры.\n",
    "\n",
    "Какие задачи можно решить используя наш проект (практическое применение)\n",
    "1. не видим цену - предсказать ее\n",
    "2. видим цену - сравним ее с моделью\n",
    "\n",
    "Важно понимать, что цены плавают. В нашей задаче мы не моделируем временной интервал\n",
    "\n",
    "\n",
    "====\n",
    "Срок - 1 августа - загрузить данные\n"
   ]
  },
  {
   "cell_type": "code",
   "execution_count": 1,
   "metadata": {},
   "outputs": [],
   "source": [
    "from sklearn import linear_model\n",
    "import pandas as pd\n",
    "import matplotlib.pyplot as plt\n",
    "import seaborn as sns\n",
    "import numpy as np\n",
    "%matplotlib inline\n"
   ]
  },
  {
   "cell_type": "code",
   "execution_count": 2,
   "metadata": {},
   "outputs": [],
   "source": [
    "names = []\n",
    "with open('communities.names') as inf:\n",
    "    for row in inf:\n",
    "        if row.startswith('@attribute'):\n",
    "            col = row.strip().split()[1] # @attribute PctPolicMinor numeric - мы получаем список и берем элемент 1, то есть PctPolicMinor\n",
    "            names.append(col)"
   ]
  },
  {
   "cell_type": "code",
   "execution_count": 3,
   "metadata": {},
   "outputs": [
    {
     "data": {
      "text/plain": [
       "['state',\n",
       " 'county',\n",
       " 'community',\n",
       " 'communityname',\n",
       " 'fold',\n",
       " 'population',\n",
       " 'householdsize',\n",
       " 'racepctblack',\n",
       " 'racePctWhite',\n",
       " 'racePctAsian',\n",
       " 'racePctHisp',\n",
       " 'agePct12t21',\n",
       " 'agePct12t29',\n",
       " 'agePct16t24',\n",
       " 'agePct65up',\n",
       " 'numbUrban',\n",
       " 'pctUrban',\n",
       " 'medIncome',\n",
       " 'pctWWage',\n",
       " 'pctWFarmSelf',\n",
       " 'pctWInvInc',\n",
       " 'pctWSocSec',\n",
       " 'pctWPubAsst',\n",
       " 'pctWRetire',\n",
       " 'medFamInc',\n",
       " 'perCapInc',\n",
       " 'whitePerCap',\n",
       " 'blackPerCap',\n",
       " 'indianPerCap',\n",
       " 'AsianPerCap',\n",
       " 'OtherPerCap',\n",
       " 'HispPerCap',\n",
       " 'NumUnderPov',\n",
       " 'PctPopUnderPov',\n",
       " 'PctLess9thGrade',\n",
       " 'PctNotHSGrad',\n",
       " 'PctBSorMore',\n",
       " 'PctUnemployed',\n",
       " 'PctEmploy',\n",
       " 'PctEmplManu',\n",
       " 'PctEmplProfServ',\n",
       " 'PctOccupManu',\n",
       " 'PctOccupMgmtProf',\n",
       " 'MalePctDivorce',\n",
       " 'MalePctNevMarr',\n",
       " 'FemalePctDiv',\n",
       " 'TotalPctDiv',\n",
       " 'PersPerFam',\n",
       " 'PctFam2Par',\n",
       " 'PctKids2Par',\n",
       " 'PctYoungKids2Par',\n",
       " 'PctTeen2Par',\n",
       " 'PctWorkMomYoungKids',\n",
       " 'PctWorkMom',\n",
       " 'NumIlleg',\n",
       " 'PctIlleg',\n",
       " 'NumImmig',\n",
       " 'PctImmigRecent',\n",
       " 'PctImmigRec5',\n",
       " 'PctImmigRec8',\n",
       " 'PctImmigRec10',\n",
       " 'PctRecentImmig',\n",
       " 'PctRecImmig5',\n",
       " 'PctRecImmig8',\n",
       " 'PctRecImmig10',\n",
       " 'PctSpeakEnglOnly',\n",
       " 'PctNotSpeakEnglWell',\n",
       " 'PctLargHouseFam',\n",
       " 'PctLargHouseOccup',\n",
       " 'PersPerOccupHous',\n",
       " 'PersPerOwnOccHous',\n",
       " 'PersPerRentOccHous',\n",
       " 'PctPersOwnOccup',\n",
       " 'PctPersDenseHous',\n",
       " 'PctHousLess3BR',\n",
       " 'MedNumBR',\n",
       " 'HousVacant',\n",
       " 'PctHousOccup',\n",
       " 'PctHousOwnOcc',\n",
       " 'PctVacantBoarded',\n",
       " 'PctVacMore6Mos',\n",
       " 'MedYrHousBuilt',\n",
       " 'PctHousNoPhone',\n",
       " 'PctWOFullPlumb',\n",
       " 'OwnOccLowQuart',\n",
       " 'OwnOccMedVal',\n",
       " 'OwnOccHiQuart',\n",
       " 'RentLowQ',\n",
       " 'RentMedian',\n",
       " 'RentHighQ',\n",
       " 'MedRent',\n",
       " 'MedRentPctHousInc',\n",
       " 'MedOwnCostPctInc',\n",
       " 'MedOwnCostPctIncNoMtg',\n",
       " 'NumInShelters',\n",
       " 'NumStreet',\n",
       " 'PctForeignBorn',\n",
       " 'PctBornSameState',\n",
       " 'PctSameHouse85',\n",
       " 'PctSameCity85',\n",
       " 'PctSameState85',\n",
       " 'LemasSwornFT',\n",
       " 'LemasSwFTPerPop',\n",
       " 'LemasSwFTFieldOps',\n",
       " 'LemasSwFTFieldPerPop',\n",
       " 'LemasTotalReq',\n",
       " 'LemasTotReqPerPop',\n",
       " 'PolicReqPerOffic',\n",
       " 'PolicPerPop',\n",
       " 'RacialMatchCommPol',\n",
       " 'PctPolicWhite',\n",
       " 'PctPolicBlack',\n",
       " 'PctPolicHisp',\n",
       " 'PctPolicAsian',\n",
       " 'PctPolicMinor',\n",
       " 'OfficAssgnDrugUnits',\n",
       " 'NumKindsDrugsSeiz',\n",
       " 'PolicAveOTWorked',\n",
       " 'LandArea',\n",
       " 'PopDens',\n",
       " 'PctUsePubTrans',\n",
       " 'PolicCars',\n",
       " 'PolicOperBudg',\n",
       " 'LemasPctPolicOnPatr',\n",
       " 'LemasGangUnitDeploy',\n",
       " 'LemasPctOfficDrugUn',\n",
       " 'PolicBudgPerPop',\n",
       " 'ViolentCrimesPerPop']"
      ]
     },
     "execution_count": 3,
     "metadata": {},
     "output_type": "execute_result"
    }
   ],
   "source": [
    "names"
   ]
  },
  {
   "cell_type": "code",
   "execution_count": 4,
   "metadata": {},
   "outputs": [],
   "source": [
    "df = pd.read_csv('communities.data', names=names)"
   ]
  },
  {
   "cell_type": "code",
   "execution_count": 5,
   "metadata": {},
   "outputs": [
    {
     "data": {
      "text/html": [
       "<div>\n",
       "<style scoped>\n",
       "    .dataframe tbody tr th:only-of-type {\n",
       "        vertical-align: middle;\n",
       "    }\n",
       "\n",
       "    .dataframe tbody tr th {\n",
       "        vertical-align: top;\n",
       "    }\n",
       "\n",
       "    .dataframe thead th {\n",
       "        text-align: right;\n",
       "    }\n",
       "</style>\n",
       "<table border=\"1\" class=\"dataframe\">\n",
       "  <thead>\n",
       "    <tr style=\"text-align: right;\">\n",
       "      <th></th>\n",
       "      <th>state</th>\n",
       "      <th>county</th>\n",
       "      <th>community</th>\n",
       "      <th>communityname</th>\n",
       "      <th>fold</th>\n",
       "      <th>population</th>\n",
       "      <th>householdsize</th>\n",
       "      <th>racepctblack</th>\n",
       "      <th>racePctWhite</th>\n",
       "      <th>racePctAsian</th>\n",
       "      <th>...</th>\n",
       "      <th>LandArea</th>\n",
       "      <th>PopDens</th>\n",
       "      <th>PctUsePubTrans</th>\n",
       "      <th>PolicCars</th>\n",
       "      <th>PolicOperBudg</th>\n",
       "      <th>LemasPctPolicOnPatr</th>\n",
       "      <th>LemasGangUnitDeploy</th>\n",
       "      <th>LemasPctOfficDrugUn</th>\n",
       "      <th>PolicBudgPerPop</th>\n",
       "      <th>ViolentCrimesPerPop</th>\n",
       "    </tr>\n",
       "  </thead>\n",
       "  <tbody>\n",
       "    <tr>\n",
       "      <th>0</th>\n",
       "      <td>8</td>\n",
       "      <td>?</td>\n",
       "      <td>?</td>\n",
       "      <td>Lakewoodcity</td>\n",
       "      <td>1</td>\n",
       "      <td>0.19</td>\n",
       "      <td>0.33</td>\n",
       "      <td>0.02</td>\n",
       "      <td>0.90</td>\n",
       "      <td>0.12</td>\n",
       "      <td>...</td>\n",
       "      <td>0.12</td>\n",
       "      <td>0.26</td>\n",
       "      <td>0.20</td>\n",
       "      <td>0.06</td>\n",
       "      <td>0.04</td>\n",
       "      <td>0.9</td>\n",
       "      <td>0.5</td>\n",
       "      <td>0.32</td>\n",
       "      <td>0.14</td>\n",
       "      <td>0.20</td>\n",
       "    </tr>\n",
       "    <tr>\n",
       "      <th>1</th>\n",
       "      <td>53</td>\n",
       "      <td>?</td>\n",
       "      <td>?</td>\n",
       "      <td>Tukwilacity</td>\n",
       "      <td>1</td>\n",
       "      <td>0.00</td>\n",
       "      <td>0.16</td>\n",
       "      <td>0.12</td>\n",
       "      <td>0.74</td>\n",
       "      <td>0.45</td>\n",
       "      <td>...</td>\n",
       "      <td>0.02</td>\n",
       "      <td>0.12</td>\n",
       "      <td>0.45</td>\n",
       "      <td>?</td>\n",
       "      <td>?</td>\n",
       "      <td>?</td>\n",
       "      <td>?</td>\n",
       "      <td>0.00</td>\n",
       "      <td>?</td>\n",
       "      <td>0.67</td>\n",
       "    </tr>\n",
       "    <tr>\n",
       "      <th>2</th>\n",
       "      <td>24</td>\n",
       "      <td>?</td>\n",
       "      <td>?</td>\n",
       "      <td>Aberdeentown</td>\n",
       "      <td>1</td>\n",
       "      <td>0.00</td>\n",
       "      <td>0.42</td>\n",
       "      <td>0.49</td>\n",
       "      <td>0.56</td>\n",
       "      <td>0.17</td>\n",
       "      <td>...</td>\n",
       "      <td>0.01</td>\n",
       "      <td>0.21</td>\n",
       "      <td>0.02</td>\n",
       "      <td>?</td>\n",
       "      <td>?</td>\n",
       "      <td>?</td>\n",
       "      <td>?</td>\n",
       "      <td>0.00</td>\n",
       "      <td>?</td>\n",
       "      <td>0.43</td>\n",
       "    </tr>\n",
       "    <tr>\n",
       "      <th>3</th>\n",
       "      <td>34</td>\n",
       "      <td>5</td>\n",
       "      <td>81440</td>\n",
       "      <td>Willingborotownship</td>\n",
       "      <td>1</td>\n",
       "      <td>0.04</td>\n",
       "      <td>0.77</td>\n",
       "      <td>1.00</td>\n",
       "      <td>0.08</td>\n",
       "      <td>0.12</td>\n",
       "      <td>...</td>\n",
       "      <td>0.02</td>\n",
       "      <td>0.39</td>\n",
       "      <td>0.28</td>\n",
       "      <td>?</td>\n",
       "      <td>?</td>\n",
       "      <td>?</td>\n",
       "      <td>?</td>\n",
       "      <td>0.00</td>\n",
       "      <td>?</td>\n",
       "      <td>0.12</td>\n",
       "    </tr>\n",
       "    <tr>\n",
       "      <th>4</th>\n",
       "      <td>42</td>\n",
       "      <td>95</td>\n",
       "      <td>6096</td>\n",
       "      <td>Bethlehemtownship</td>\n",
       "      <td>1</td>\n",
       "      <td>0.01</td>\n",
       "      <td>0.55</td>\n",
       "      <td>0.02</td>\n",
       "      <td>0.95</td>\n",
       "      <td>0.09</td>\n",
       "      <td>...</td>\n",
       "      <td>0.04</td>\n",
       "      <td>0.09</td>\n",
       "      <td>0.02</td>\n",
       "      <td>?</td>\n",
       "      <td>?</td>\n",
       "      <td>?</td>\n",
       "      <td>?</td>\n",
       "      <td>0.00</td>\n",
       "      <td>?</td>\n",
       "      <td>0.03</td>\n",
       "    </tr>\n",
       "  </tbody>\n",
       "</table>\n",
       "<p>5 rows × 128 columns</p>\n",
       "</div>"
      ],
      "text/plain": [
       "   state county community        communityname  fold  population  \\\n",
       "0      8      ?         ?         Lakewoodcity     1        0.19   \n",
       "1     53      ?         ?          Tukwilacity     1        0.00   \n",
       "2     24      ?         ?         Aberdeentown     1        0.00   \n",
       "3     34      5     81440  Willingborotownship     1        0.04   \n",
       "4     42     95      6096    Bethlehemtownship     1        0.01   \n",
       "\n",
       "   householdsize  racepctblack  racePctWhite  racePctAsian  \\\n",
       "0           0.33          0.02          0.90          0.12   \n",
       "1           0.16          0.12          0.74          0.45   \n",
       "2           0.42          0.49          0.56          0.17   \n",
       "3           0.77          1.00          0.08          0.12   \n",
       "4           0.55          0.02          0.95          0.09   \n",
       "\n",
       "          ...           LandArea  PopDens  PctUsePubTrans  PolicCars  \\\n",
       "0         ...               0.12     0.26            0.20       0.06   \n",
       "1         ...               0.02     0.12            0.45          ?   \n",
       "2         ...               0.01     0.21            0.02          ?   \n",
       "3         ...               0.02     0.39            0.28          ?   \n",
       "4         ...               0.04     0.09            0.02          ?   \n",
       "\n",
       "   PolicOperBudg  LemasPctPolicOnPatr  LemasGangUnitDeploy  \\\n",
       "0           0.04                  0.9                  0.5   \n",
       "1              ?                    ?                    ?   \n",
       "2              ?                    ?                    ?   \n",
       "3              ?                    ?                    ?   \n",
       "4              ?                    ?                    ?   \n",
       "\n",
       "   LemasPctOfficDrugUn  PolicBudgPerPop  ViolentCrimesPerPop  \n",
       "0                 0.32             0.14                 0.20  \n",
       "1                 0.00                ?                 0.67  \n",
       "2                 0.00                ?                 0.43  \n",
       "3                 0.00                ?                 0.12  \n",
       "4                 0.00                ?                 0.03  \n",
       "\n",
       "[5 rows x 128 columns]"
      ]
     },
     "execution_count": 5,
     "metadata": {},
     "output_type": "execute_result"
    }
   ],
   "source": [
    "df.head()"
   ]
  },
  {
   "cell_type": "code",
   "execution_count": 6,
   "metadata": {},
   "outputs": [
    {
     "name": "stdout",
     "output_type": "stream",
     "text": [
      "<class 'pandas.core.frame.DataFrame'>\n",
      "RangeIndex: 1994 entries, 0 to 1993\n",
      "Columns: 128 entries, state to ViolentCrimesPerPop\n",
      "dtypes: float64(100), int64(2), object(26)\n",
      "memory usage: 1.9+ MB\n"
     ]
    }
   ],
   "source": [
    "df.info()"
   ]
  },
  {
   "cell_type": "code",
   "execution_count": 7,
   "metadata": {},
   "outputs": [],
   "source": [
    "df.replace(to_replace='?', value=np.nan, inplace=True)"
   ]
  },
  {
   "cell_type": "code",
   "execution_count": 8,
   "metadata": {},
   "outputs": [
    {
     "data": {
      "text/plain": [
       "state                      0\n",
       "county                  1174\n",
       "community               1177\n",
       "communityname              0\n",
       "fold                       0\n",
       "population                 0\n",
       "householdsize              0\n",
       "racepctblack               0\n",
       "racePctWhite               0\n",
       "racePctAsian               0\n",
       "racePctHisp                0\n",
       "agePct12t21                0\n",
       "agePct12t29                0\n",
       "agePct16t24                0\n",
       "agePct65up                 0\n",
       "numbUrban                  0\n",
       "pctUrban                   0\n",
       "medIncome                  0\n",
       "pctWWage                   0\n",
       "pctWFarmSelf               0\n",
       "pctWInvInc                 0\n",
       "pctWSocSec                 0\n",
       "pctWPubAsst                0\n",
       "pctWRetire                 0\n",
       "medFamInc                  0\n",
       "perCapInc                  0\n",
       "whitePerCap                0\n",
       "blackPerCap                0\n",
       "indianPerCap               0\n",
       "AsianPerCap                0\n",
       "                        ... \n",
       "PctSameHouse85             0\n",
       "PctSameCity85              0\n",
       "PctSameState85             0\n",
       "LemasSwornFT            1675\n",
       "LemasSwFTPerPop         1675\n",
       "LemasSwFTFieldOps       1675\n",
       "LemasSwFTFieldPerPop    1675\n",
       "LemasTotalReq           1675\n",
       "LemasTotReqPerPop       1675\n",
       "PolicReqPerOffic        1675\n",
       "PolicPerPop             1675\n",
       "RacialMatchCommPol      1675\n",
       "PctPolicWhite           1675\n",
       "PctPolicBlack           1675\n",
       "PctPolicHisp            1675\n",
       "PctPolicAsian           1675\n",
       "PctPolicMinor           1675\n",
       "OfficAssgnDrugUnits     1675\n",
       "NumKindsDrugsSeiz       1675\n",
       "PolicAveOTWorked        1675\n",
       "LandArea                   0\n",
       "PopDens                    0\n",
       "PctUsePubTrans             0\n",
       "PolicCars               1675\n",
       "PolicOperBudg           1675\n",
       "LemasPctPolicOnPatr     1675\n",
       "LemasGangUnitDeploy     1675\n",
       "LemasPctOfficDrugUn        0\n",
       "PolicBudgPerPop         1675\n",
       "ViolentCrimesPerPop        0\n",
       "Length: 128, dtype: int64"
      ]
     },
     "execution_count": 8,
     "metadata": {},
     "output_type": "execute_result"
    }
   ],
   "source": [
    "df.isna().sum()"
   ]
  },
  {
   "cell_type": "code",
   "execution_count": 9,
   "metadata": {},
   "outputs": [
    {
     "data": {
      "text/plain": [
       "state                     int64\n",
       "county                   object\n",
       "community                object\n",
       "communityname            object\n",
       "fold                      int64\n",
       "population              float64\n",
       "householdsize           float64\n",
       "racepctblack            float64\n",
       "racePctWhite            float64\n",
       "racePctAsian            float64\n",
       "racePctHisp             float64\n",
       "agePct12t21             float64\n",
       "agePct12t29             float64\n",
       "agePct16t24             float64\n",
       "agePct65up              float64\n",
       "numbUrban               float64\n",
       "pctUrban                float64\n",
       "medIncome               float64\n",
       "pctWWage                float64\n",
       "pctWFarmSelf            float64\n",
       "pctWInvInc              float64\n",
       "pctWSocSec              float64\n",
       "pctWPubAsst             float64\n",
       "pctWRetire              float64\n",
       "medFamInc               float64\n",
       "perCapInc               float64\n",
       "whitePerCap             float64\n",
       "blackPerCap             float64\n",
       "indianPerCap            float64\n",
       "AsianPerCap             float64\n",
       "                         ...   \n",
       "PctSameHouse85          float64\n",
       "PctSameCity85           float64\n",
       "PctSameState85          float64\n",
       "LemasSwornFT             object\n",
       "LemasSwFTPerPop          object\n",
       "LemasSwFTFieldOps        object\n",
       "LemasSwFTFieldPerPop     object\n",
       "LemasTotalReq            object\n",
       "LemasTotReqPerPop        object\n",
       "PolicReqPerOffic         object\n",
       "PolicPerPop              object\n",
       "RacialMatchCommPol       object\n",
       "PctPolicWhite            object\n",
       "PctPolicBlack            object\n",
       "PctPolicHisp             object\n",
       "PctPolicAsian            object\n",
       "PctPolicMinor            object\n",
       "OfficAssgnDrugUnits      object\n",
       "NumKindsDrugsSeiz        object\n",
       "PolicAveOTWorked         object\n",
       "LandArea                float64\n",
       "PopDens                 float64\n",
       "PctUsePubTrans          float64\n",
       "PolicCars                object\n",
       "PolicOperBudg            object\n",
       "LemasPctPolicOnPatr      object\n",
       "LemasGangUnitDeploy      object\n",
       "LemasPctOfficDrugUn     float64\n",
       "PolicBudgPerPop          object\n",
       "ViolentCrimesPerPop     float64\n",
       "Length: 128, dtype: object"
      ]
     },
     "execution_count": 9,
     "metadata": {},
     "output_type": "execute_result"
    }
   ],
   "source": [
    "df.dtypes"
   ]
  },
  {
   "cell_type": "code",
   "execution_count": 10,
   "metadata": {},
   "outputs": [
    {
     "data": {
      "text/plain": [
       "0      126\n",
       "0.5    105\n",
       "1       88\n",
       "Name: LemasGangUnitDeploy, dtype: int64"
      ]
     },
     "execution_count": 10,
     "metadata": {},
     "output_type": "execute_result"
    }
   ],
   "source": [
    "df['LemasGangUnitDeploy'].value_counts() "
   ]
  },
  {
   "cell_type": "markdown",
   "metadata": {},
   "source": [
    "### Типы признаков\n",
    "\n",
    "любую задачу обучения мы сводим к табличке факторы - таргет (целевой параметр - то, что предсказывают)\n",
    "факторы = фичи = признаки = атрибуты\n",
    "\n",
    "#### 3 типа признаков\n",
    "\n",
    "1. Категориальные - пол, город, район, место работы (компания). \n",
    "Над ними не применимы никакие операции (кроме строгого равенства)\n",
    "\n",
    "2. Порядковые - образование (среднее, высшее и т д ), ребенок-взрослый и т. д., оценки \n",
    "Не применимы арифметические операции, но применимы операции сравнения\n",
    "двойка + тройка  не равно пятерка, поэтому признак оценки - порядковый, а не непрерывный\n",
    "\n",
    "3. Непрерывные - \n",
    "Применимы все операции. Чаще всего они типа float\n",
    "площадь, температура и т д \n",
    "\n",
    "#### Таргет может быть тоже разного типа\n",
    "1. непрервный\n",
    "2. категориальный\n",
    "\n",
    "Обучение с учителем делится на 2 типа: \n",
    "1) Регрессионный анализ - для непрерывного типа\n",
    "2) Классификация - используем алгоритмы, которые классифицирует.\n",
    "\n",
    "\n",
    "Купил или не купил - это классификацмия\n",
    "\n",
    "А регрессия - это всегда число (кол-во убытков)\n",
    "\n",
    "\n",
    "\n",
    "\n",
    "\n",
    "\n",
    "\n"
   ]
  },
  {
   "cell_type": "code",
   "execution_count": 11,
   "metadata": {},
   "outputs": [],
   "source": [
    "# оставляем только непрерывные признаки"
   ]
  },
  {
   "cell_type": "code",
   "execution_count": 12,
   "metadata": {},
   "outputs": [
    {
     "data": {
      "text/plain": [
       "[('state', 0),\n",
       " ('county', 1174),\n",
       " ('community', 1177),\n",
       " ('communityname', 0),\n",
       " ('fold', 0),\n",
       " ('population', 0),\n",
       " ('householdsize', 0),\n",
       " ('racepctblack', 0),\n",
       " ('racePctWhite', 0),\n",
       " ('racePctAsian', 0),\n",
       " ('racePctHisp', 0),\n",
       " ('agePct12t21', 0),\n",
       " ('agePct12t29', 0),\n",
       " ('agePct16t24', 0),\n",
       " ('agePct65up', 0),\n",
       " ('numbUrban', 0),\n",
       " ('pctUrban', 0),\n",
       " ('medIncome', 0),\n",
       " ('pctWWage', 0),\n",
       " ('pctWFarmSelf', 0),\n",
       " ('pctWInvInc', 0),\n",
       " ('pctWSocSec', 0),\n",
       " ('pctWPubAsst', 0),\n",
       " ('pctWRetire', 0),\n",
       " ('medFamInc', 0),\n",
       " ('perCapInc', 0),\n",
       " ('whitePerCap', 0),\n",
       " ('blackPerCap', 0),\n",
       " ('indianPerCap', 0),\n",
       " ('AsianPerCap', 0),\n",
       " ('OtherPerCap', 1),\n",
       " ('HispPerCap', 0),\n",
       " ('NumUnderPov', 0),\n",
       " ('PctPopUnderPov', 0),\n",
       " ('PctLess9thGrade', 0),\n",
       " ('PctNotHSGrad', 0),\n",
       " ('PctBSorMore', 0),\n",
       " ('PctUnemployed', 0),\n",
       " ('PctEmploy', 0),\n",
       " ('PctEmplManu', 0),\n",
       " ('PctEmplProfServ', 0),\n",
       " ('PctOccupManu', 0),\n",
       " ('PctOccupMgmtProf', 0),\n",
       " ('MalePctDivorce', 0),\n",
       " ('MalePctNevMarr', 0),\n",
       " ('FemalePctDiv', 0),\n",
       " ('TotalPctDiv', 0),\n",
       " ('PersPerFam', 0),\n",
       " ('PctFam2Par', 0),\n",
       " ('PctKids2Par', 0),\n",
       " ('PctYoungKids2Par', 0),\n",
       " ('PctTeen2Par', 0),\n",
       " ('PctWorkMomYoungKids', 0),\n",
       " ('PctWorkMom', 0),\n",
       " ('NumIlleg', 0),\n",
       " ('PctIlleg', 0),\n",
       " ('NumImmig', 0),\n",
       " ('PctImmigRecent', 0),\n",
       " ('PctImmigRec5', 0),\n",
       " ('PctImmigRec8', 0),\n",
       " ('PctImmigRec10', 0),\n",
       " ('PctRecentImmig', 0),\n",
       " ('PctRecImmig5', 0),\n",
       " ('PctRecImmig8', 0),\n",
       " ('PctRecImmig10', 0),\n",
       " ('PctSpeakEnglOnly', 0),\n",
       " ('PctNotSpeakEnglWell', 0),\n",
       " ('PctLargHouseFam', 0),\n",
       " ('PctLargHouseOccup', 0),\n",
       " ('PersPerOccupHous', 0),\n",
       " ('PersPerOwnOccHous', 0),\n",
       " ('PersPerRentOccHous', 0),\n",
       " ('PctPersOwnOccup', 0),\n",
       " ('PctPersDenseHous', 0),\n",
       " ('PctHousLess3BR', 0),\n",
       " ('MedNumBR', 0),\n",
       " ('HousVacant', 0),\n",
       " ('PctHousOccup', 0),\n",
       " ('PctHousOwnOcc', 0),\n",
       " ('PctVacantBoarded', 0),\n",
       " ('PctVacMore6Mos', 0),\n",
       " ('MedYrHousBuilt', 0),\n",
       " ('PctHousNoPhone', 0),\n",
       " ('PctWOFullPlumb', 0),\n",
       " ('OwnOccLowQuart', 0),\n",
       " ('OwnOccMedVal', 0),\n",
       " ('OwnOccHiQuart', 0),\n",
       " ('RentLowQ', 0),\n",
       " ('RentMedian', 0),\n",
       " ('RentHighQ', 0),\n",
       " ('MedRent', 0),\n",
       " ('MedRentPctHousInc', 0),\n",
       " ('MedOwnCostPctInc', 0),\n",
       " ('MedOwnCostPctIncNoMtg', 0),\n",
       " ('NumInShelters', 0),\n",
       " ('NumStreet', 0),\n",
       " ('PctForeignBorn', 0),\n",
       " ('PctBornSameState', 0),\n",
       " ('PctSameHouse85', 0),\n",
       " ('PctSameCity85', 0),\n",
       " ('PctSameState85', 0),\n",
       " ('LemasSwornFT', 1675),\n",
       " ('LemasSwFTPerPop', 1675),\n",
       " ('LemasSwFTFieldOps', 1675),\n",
       " ('LemasSwFTFieldPerPop', 1675),\n",
       " ('LemasTotalReq', 1675),\n",
       " ('LemasTotReqPerPop', 1675),\n",
       " ('PolicReqPerOffic', 1675),\n",
       " ('PolicPerPop', 1675),\n",
       " ('RacialMatchCommPol', 1675),\n",
       " ('PctPolicWhite', 1675),\n",
       " ('PctPolicBlack', 1675),\n",
       " ('PctPolicHisp', 1675),\n",
       " ('PctPolicAsian', 1675),\n",
       " ('PctPolicMinor', 1675),\n",
       " ('OfficAssgnDrugUnits', 1675),\n",
       " ('NumKindsDrugsSeiz', 1675),\n",
       " ('PolicAveOTWorked', 1675),\n",
       " ('LandArea', 0),\n",
       " ('PopDens', 0),\n",
       " ('PctUsePubTrans', 0),\n",
       " ('PolicCars', 1675),\n",
       " ('PolicOperBudg', 1675),\n",
       " ('LemasPctPolicOnPatr', 1675),\n",
       " ('LemasGangUnitDeploy', 1675),\n",
       " ('LemasPctOfficDrugUn', 0),\n",
       " ('PolicBudgPerPop', 1675),\n",
       " ('ViolentCrimesPerPop', 0)]"
      ]
     },
     "execution_count": 12,
     "metadata": {},
     "output_type": "execute_result"
    }
   ],
   "source": [
    "list(df.isna().sum().items())"
   ]
  },
  {
   "cell_type": "code",
   "execution_count": 13,
   "metadata": {},
   "outputs": [],
   "source": [
    "cols_drop = ['state', 'communityname', 'fold']\n",
    "for col, nans in list(df.isna().sum().items()):\n",
    "    if nans > 0:\n",
    "        cols_drop.append(col)\n",
    "        "
   ]
  },
  {
   "cell_type": "code",
   "execution_count": 14,
   "metadata": {},
   "outputs": [
    {
     "data": {
      "text/plain": [
       "['state',\n",
       " 'communityname',\n",
       " 'fold',\n",
       " 'county',\n",
       " 'community',\n",
       " 'OtherPerCap',\n",
       " 'LemasSwornFT',\n",
       " 'LemasSwFTPerPop',\n",
       " 'LemasSwFTFieldOps',\n",
       " 'LemasSwFTFieldPerPop',\n",
       " 'LemasTotalReq',\n",
       " 'LemasTotReqPerPop',\n",
       " 'PolicReqPerOffic',\n",
       " 'PolicPerPop',\n",
       " 'RacialMatchCommPol',\n",
       " 'PctPolicWhite',\n",
       " 'PctPolicBlack',\n",
       " 'PctPolicHisp',\n",
       " 'PctPolicAsian',\n",
       " 'PctPolicMinor',\n",
       " 'OfficAssgnDrugUnits',\n",
       " 'NumKindsDrugsSeiz',\n",
       " 'PolicAveOTWorked',\n",
       " 'PolicCars',\n",
       " 'PolicOperBudg',\n",
       " 'LemasPctPolicOnPatr',\n",
       " 'LemasGangUnitDeploy',\n",
       " 'PolicBudgPerPop']"
      ]
     },
     "execution_count": 14,
     "metadata": {},
     "output_type": "execute_result"
    }
   ],
   "source": [
    "cols_drop"
   ]
  },
  {
   "cell_type": "code",
   "execution_count": 15,
   "metadata": {},
   "outputs": [],
   "source": [
    "df_prep = df.drop(columns=cols_drop)"
   ]
  },
  {
   "cell_type": "code",
   "execution_count": 16,
   "metadata": {},
   "outputs": [
    {
     "name": "stdout",
     "output_type": "stream",
     "text": [
      "<class 'pandas.core.frame.DataFrame'>\n",
      "RangeIndex: 1994 entries, 0 to 1993\n",
      "Data columns (total 100 columns):\n",
      "population               1994 non-null float64\n",
      "householdsize            1994 non-null float64\n",
      "racepctblack             1994 non-null float64\n",
      "racePctWhite             1994 non-null float64\n",
      "racePctAsian             1994 non-null float64\n",
      "racePctHisp              1994 non-null float64\n",
      "agePct12t21              1994 non-null float64\n",
      "agePct12t29              1994 non-null float64\n",
      "agePct16t24              1994 non-null float64\n",
      "agePct65up               1994 non-null float64\n",
      "numbUrban                1994 non-null float64\n",
      "pctUrban                 1994 non-null float64\n",
      "medIncome                1994 non-null float64\n",
      "pctWWage                 1994 non-null float64\n",
      "pctWFarmSelf             1994 non-null float64\n",
      "pctWInvInc               1994 non-null float64\n",
      "pctWSocSec               1994 non-null float64\n",
      "pctWPubAsst              1994 non-null float64\n",
      "pctWRetire               1994 non-null float64\n",
      "medFamInc                1994 non-null float64\n",
      "perCapInc                1994 non-null float64\n",
      "whitePerCap              1994 non-null float64\n",
      "blackPerCap              1994 non-null float64\n",
      "indianPerCap             1994 non-null float64\n",
      "AsianPerCap              1994 non-null float64\n",
      "HispPerCap               1994 non-null float64\n",
      "NumUnderPov              1994 non-null float64\n",
      "PctPopUnderPov           1994 non-null float64\n",
      "PctLess9thGrade          1994 non-null float64\n",
      "PctNotHSGrad             1994 non-null float64\n",
      "PctBSorMore              1994 non-null float64\n",
      "PctUnemployed            1994 non-null float64\n",
      "PctEmploy                1994 non-null float64\n",
      "PctEmplManu              1994 non-null float64\n",
      "PctEmplProfServ          1994 non-null float64\n",
      "PctOccupManu             1994 non-null float64\n",
      "PctOccupMgmtProf         1994 non-null float64\n",
      "MalePctDivorce           1994 non-null float64\n",
      "MalePctNevMarr           1994 non-null float64\n",
      "FemalePctDiv             1994 non-null float64\n",
      "TotalPctDiv              1994 non-null float64\n",
      "PersPerFam               1994 non-null float64\n",
      "PctFam2Par               1994 non-null float64\n",
      "PctKids2Par              1994 non-null float64\n",
      "PctYoungKids2Par         1994 non-null float64\n",
      "PctTeen2Par              1994 non-null float64\n",
      "PctWorkMomYoungKids      1994 non-null float64\n",
      "PctWorkMom               1994 non-null float64\n",
      "NumIlleg                 1994 non-null float64\n",
      "PctIlleg                 1994 non-null float64\n",
      "NumImmig                 1994 non-null float64\n",
      "PctImmigRecent           1994 non-null float64\n",
      "PctImmigRec5             1994 non-null float64\n",
      "PctImmigRec8             1994 non-null float64\n",
      "PctImmigRec10            1994 non-null float64\n",
      "PctRecentImmig           1994 non-null float64\n",
      "PctRecImmig5             1994 non-null float64\n",
      "PctRecImmig8             1994 non-null float64\n",
      "PctRecImmig10            1994 non-null float64\n",
      "PctSpeakEnglOnly         1994 non-null float64\n",
      "PctNotSpeakEnglWell      1994 non-null float64\n",
      "PctLargHouseFam          1994 non-null float64\n",
      "PctLargHouseOccup        1994 non-null float64\n",
      "PersPerOccupHous         1994 non-null float64\n",
      "PersPerOwnOccHous        1994 non-null float64\n",
      "PersPerRentOccHous       1994 non-null float64\n",
      "PctPersOwnOccup          1994 non-null float64\n",
      "PctPersDenseHous         1994 non-null float64\n",
      "PctHousLess3BR           1994 non-null float64\n",
      "MedNumBR                 1994 non-null float64\n",
      "HousVacant               1994 non-null float64\n",
      "PctHousOccup             1994 non-null float64\n",
      "PctHousOwnOcc            1994 non-null float64\n",
      "PctVacantBoarded         1994 non-null float64\n",
      "PctVacMore6Mos           1994 non-null float64\n",
      "MedYrHousBuilt           1994 non-null float64\n",
      "PctHousNoPhone           1994 non-null float64\n",
      "PctWOFullPlumb           1994 non-null float64\n",
      "OwnOccLowQuart           1994 non-null float64\n",
      "OwnOccMedVal             1994 non-null float64\n",
      "OwnOccHiQuart            1994 non-null float64\n",
      "RentLowQ                 1994 non-null float64\n",
      "RentMedian               1994 non-null float64\n",
      "RentHighQ                1994 non-null float64\n",
      "MedRent                  1994 non-null float64\n",
      "MedRentPctHousInc        1994 non-null float64\n",
      "MedOwnCostPctInc         1994 non-null float64\n",
      "MedOwnCostPctIncNoMtg    1994 non-null float64\n",
      "NumInShelters            1994 non-null float64\n",
      "NumStreet                1994 non-null float64\n",
      "PctForeignBorn           1994 non-null float64\n",
      "PctBornSameState         1994 non-null float64\n",
      "PctSameHouse85           1994 non-null float64\n",
      "PctSameCity85            1994 non-null float64\n",
      "PctSameState85           1994 non-null float64\n",
      "LandArea                 1994 non-null float64\n",
      "PopDens                  1994 non-null float64\n",
      "PctUsePubTrans           1994 non-null float64\n",
      "LemasPctOfficDrugUn      1994 non-null float64\n",
      "ViolentCrimesPerPop      1994 non-null float64\n",
      "dtypes: float64(100)\n",
      "memory usage: 1.5 MB\n"
     ]
    }
   ],
   "source": [
    "df_prep.info()"
   ]
  },
  {
   "cell_type": "code",
   "execution_count": 17,
   "metadata": {},
   "outputs": [
    {
     "data": {
      "text/plain": [
       "array([[0.19, 0.33, 0.02, ..., 0.2 , 0.32, 0.2 ],\n",
       "       [0.  , 0.16, 0.12, ..., 0.45, 0.  , 0.67],\n",
       "       [0.  , 0.42, 0.49, ..., 0.02, 0.  , 0.43],\n",
       "       ...,\n",
       "       [0.16, 0.37, 0.25, ..., 0.18, 0.91, 0.23],\n",
       "       [0.08, 0.51, 0.06, ..., 0.33, 0.22, 0.19],\n",
       "       [0.2 , 0.78, 0.14, ..., 0.05, 1.  , 0.48]])"
      ]
     },
     "execution_count": 17,
     "metadata": {},
     "output_type": "execute_result"
    }
   ],
   "source": [
    "df_prep.values # быстрая конвертация в np array для обучения"
   ]
  },
  {
   "cell_type": "code",
   "execution_count": 18,
   "metadata": {},
   "outputs": [],
   "source": [
    "X = df_prep.values[:, 0:-1]\n",
    "y = df_prep.values[:, -1]"
   ]
  },
  {
   "cell_type": "code",
   "execution_count": 19,
   "metadata": {},
   "outputs": [
    {
     "data": {
      "text/plain": [
       "array([[0.19, 0.33, 0.02, ..., 0.26, 0.2 , 0.32],\n",
       "       [0.  , 0.16, 0.12, ..., 0.12, 0.45, 0.  ],\n",
       "       [0.  , 0.42, 0.49, ..., 0.21, 0.02, 0.  ],\n",
       "       ...,\n",
       "       [0.16, 0.37, 0.25, ..., 0.32, 0.18, 0.91],\n",
       "       [0.08, 0.51, 0.06, ..., 0.38, 0.33, 0.22],\n",
       "       [0.2 , 0.78, 0.14, ..., 0.3 , 0.05, 1.  ]])"
      ]
     },
     "execution_count": 19,
     "metadata": {},
     "output_type": "execute_result"
    }
   ],
   "source": [
    "X"
   ]
  },
  {
   "cell_type": "markdown",
   "metadata": {},
   "source": [
    "## Slicing для np array\n",
    "\n",
    "[:10] - первые 10 строк\n",
    "[:, 10] - десятая колонка\n",
    "[:, :10] - десять колонок\n"
   ]
  },
  {
   "cell_type": "code",
   "execution_count": 22,
   "metadata": {},
   "outputs": [
    {
     "data": {
      "text/plain": [
       "array([0.2 , 0.67, 0.43, ..., 0.23, 0.19, 0.48])"
      ]
     },
     "execution_count": 22,
     "metadata": {},
     "output_type": "execute_result"
    }
   ],
   "source": [
    "y"
   ]
  },
  {
   "cell_type": "code",
   "execution_count": 23,
   "metadata": {},
   "outputs": [
    {
     "name": "stdout",
     "output_type": "stream",
     "text": [
      "[[0.19 0.33 0.02 0.9  0.12 0.17 0.34 0.47 0.29 0.32 0.2  1.   0.37 0.72\n",
      "  0.34 0.6  0.29 0.15 0.43 0.39 0.4  0.39 0.32 0.27 0.27 0.41 0.08 0.19\n",
      "  0.1  0.18 0.48 0.27 0.68 0.23 0.41 0.25 0.52 0.68 0.4  0.75 0.75 0.35\n",
      "  0.55 0.59 0.61 0.56 0.74 0.76 0.04 0.14 0.03 0.24 0.27 0.37 0.39 0.07\n",
      "  0.07 0.08 0.08 0.89 0.06 0.14 0.13 0.33 0.39 0.28 0.55 0.09 0.51 0.5\n",
      "  0.21 0.71 0.52 0.05 0.26 0.65 0.14 0.06 0.22 0.19 0.18 0.36 0.35 0.38\n",
      "  0.34 0.38 0.46 0.25 0.04 0.   0.12 0.42 0.5  0.51 0.64 0.12 0.26 0.2\n",
      "  0.32]\n",
      " [0.   0.16 0.12 0.74 0.45 0.07 0.26 0.59 0.35 0.27 0.02 1.   0.31 0.72\n",
      "  0.11 0.45 0.25 0.29 0.39 0.29 0.37 0.38 0.33 0.16 0.3  0.35 0.01 0.24\n",
      "  0.14 0.24 0.3  0.27 0.73 0.57 0.15 0.42 0.36 1.   0.63 0.91 1.   0.29\n",
      "  0.43 0.47 0.6  0.39 0.46 0.53 0.   0.24 0.01 0.52 0.62 0.64 0.63 0.25\n",
      "  0.27 0.25 0.23 0.84 0.1  0.16 0.1  0.17 0.29 0.17 0.26 0.2  0.82 0.\n",
      "  0.02 0.79 0.24 0.02 0.25 0.65 0.16 0.   0.21 0.2  0.21 0.42 0.38 0.4\n",
      "  0.37 0.29 0.32 0.18 0.   0.   0.21 0.5  0.34 0.6  0.52 0.02 0.12 0.45\n",
      "  0.  ]\n",
      " [0.   0.42 0.49 0.56 0.17 0.04 0.39 0.47 0.28 0.32 0.   0.   0.3  0.58\n",
      "  0.19 0.39 0.38 0.4  0.84 0.28 0.27 0.29 0.27 0.07 0.29 0.39 0.01 0.27\n",
      "  0.27 0.43 0.19 0.36 0.58 0.32 0.29 0.49 0.32 0.63 0.41 0.71 0.7  0.45\n",
      "  0.42 0.44 0.43 0.43 0.71 0.67 0.01 0.46 0.   0.07 0.06 0.15 0.19 0.02\n",
      "  0.02 0.04 0.05 0.88 0.04 0.2  0.2  0.46 0.52 0.43 0.42 0.15 0.51 0.5\n",
      "  0.01 0.86 0.41 0.29 0.3  0.52 0.47 0.45 0.18 0.17 0.16 0.27 0.29 0.27\n",
      "  0.31 0.48 0.39 0.28 0.   0.   0.14 0.49 0.54 0.67 0.56 0.01 0.21 0.02\n",
      "  0.  ]]\n"
     ]
    }
   ],
   "source": [
    "print(X[:3])"
   ]
  },
  {
   "cell_type": "code",
   "execution_count": 24,
   "metadata": {},
   "outputs": [
    {
     "name": "stdout",
     "output_type": "stream",
     "text": [
      "[0.9  0.74 0.56 ... 0.69 0.87 0.46]\n"
     ]
    }
   ],
   "source": [
    "print(X[:, 3])"
   ]
  },
  {
   "cell_type": "code",
   "execution_count": 25,
   "metadata": {},
   "outputs": [
    {
     "name": "stdout",
     "output_type": "stream",
     "text": [
      "[[0.9  0.12]\n",
      " [0.74 0.45]\n",
      " [0.56 0.17]\n",
      " ...\n",
      " [0.69 0.04]\n",
      " [0.87 0.22]\n",
      " [0.46 0.24]]\n"
     ]
    }
   ],
   "source": [
    "print(X[:, 3:5])"
   ]
  },
  {
   "cell_type": "markdown",
   "metadata": {},
   "source": [
    "### Выборки для обучения\n",
    "\n",
    "Тренировочная и тестовая (должна быть не менее 10% и не более 35%. Чаще всего берут 20% или 35%) выборка.\n",
    "Их можно использовать сколько угодно.\n",
    "Иногда еще отщепляют третью выборку - валидационную. Её как правило применяют очень мало раз (или вообще один). Потому что есть вероятность , что модель подгонится под тестовую выборку.\n",
    "Если на validate метрики, например MAE не сильно отличается, то все, наша модель хорошая\n",
    "\n",
    "Когда разделять выборку не случайно: \n",
    "1 предсказание оттока - он зависит от времени\n",
    "2 финансовый анализ\n",
    "\n",
    "\n",
    "\n"
   ]
  },
  {
   "cell_type": "code",
   "execution_count": 26,
   "metadata": {},
   "outputs": [],
   "source": [
    "from sklearn import model_selection"
   ]
  },
  {
   "cell_type": "code",
   "execution_count": 27,
   "metadata": {},
   "outputs": [],
   "source": [
    "X_train, X_test, y_train, y_test = model_selection.train_test_split(X, y, test_size=0.33, random_state=42)"
   ]
  },
  {
   "cell_type": "code",
   "execution_count": 28,
   "metadata": {},
   "outputs": [
    {
     "data": {
      "text/plain": [
       "(1335, 99)"
      ]
     },
     "execution_count": 28,
     "metadata": {},
     "output_type": "execute_result"
    }
   ],
   "source": [
    "X_train.shape"
   ]
  },
  {
   "cell_type": "code",
   "execution_count": 29,
   "metadata": {},
   "outputs": [
    {
     "data": {
      "text/plain": [
       "(659, 99)"
      ]
     },
     "execution_count": 29,
     "metadata": {},
     "output_type": "execute_result"
    }
   ],
   "source": [
    "X_test.shape"
   ]
  },
  {
   "cell_type": "code",
   "execution_count": 30,
   "metadata": {},
   "outputs": [
    {
     "data": {
      "text/plain": [
       "array([0.02, 0.49, 0.01, ..., 0.13, 0.37, 0.17])"
      ]
     },
     "execution_count": 30,
     "metadata": {},
     "output_type": "execute_result"
    }
   ],
   "source": [
    "y_train"
   ]
  },
  {
   "cell_type": "code",
   "execution_count": 31,
   "metadata": {},
   "outputs": [
    {
     "name": "stderr",
     "output_type": "stream",
     "text": [
      "C:\\ProgramData\\Anaconda3\\lib\\site-packages\\scipy\\stats\\stats.py:1713: FutureWarning: Using a non-tuple sequence for multidimensional indexing is deprecated; use `arr[tuple(seq)]` instead of `arr[seq]`. In the future this will be interpreted as an array index, `arr[np.array(seq)]`, which will result either in an error or a different result.\n",
      "  return np.add.reduce(sorted[indexer] * weights, axis=axis) / sumval\n"
     ]
    },
    {
     "data": {
      "text/plain": [
       "<matplotlib.axes._subplots.AxesSubplot at 0x17e297c30b8>"
      ]
     },
     "execution_count": 31,
     "metadata": {},
     "output_type": "execute_result"
    },
    {
     "data": {
      "image/png": "[encoded data removed]",
      "text/plain": [
       "<Figure size 432x288 with 1 Axes>"
      ]
     },
     "metadata": {
      "needs_background": "light"
     },
     "output_type": "display_data"
    }
   ],
   "source": [
    "sns.distplot(y_train)\n",
    "sns.distplot(y_test)"
   ]
  },
  {
   "cell_type": "code",
   "execution_count": 32,
   "metadata": {},
   "outputs": [],
   "source": [
    "## распределения накладываются, это хорошо\n",
    "## значит наши целевые значения распределены одинаково"
   ]
  },
  {
   "cell_type": "code",
   "execution_count": 33,
   "metadata": {},
   "outputs": [],
   "source": [
    "lr = linear_model.LinearRegression()"
   ]
  },
  {
   "cell_type": "code",
   "execution_count": 34,
   "metadata": {},
   "outputs": [
    {
     "data": {
      "text/plain": [
       "LinearRegression(copy_X=True, fit_intercept=True, n_jobs=1, normalize=False)"
      ]
     },
     "execution_count": 34,
     "metadata": {},
     "output_type": "execute_result"
    }
   ],
   "source": [
    "lr.fit(X_train, y_train)"
   ]
  },
  {
   "cell_type": "markdown",
   "metadata": {},
   "source": [
    "X_train - всегда должна быть матрица (даже если 1 столбец)\n",
    "y_train - всегда должен быть вектор"
   ]
  },
  {
   "cell_type": "code",
   "execution_count": 35,
   "metadata": {},
   "outputs": [],
   "source": [
    "# copy_X=True - делает глубокую копию, для экономии памяти можно использовать True"
   ]
  },
  {
   "cell_type": "code",
   "execution_count": 36,
   "metadata": {},
   "outputs": [
    {
     "data": {
      "text/plain": [
       "array([ 6.21628904e-02,  3.39704112e-03,  2.03897088e-01, -6.60520402e-02,\n",
       "       -4.22206903e-02, -1.30372970e-02,  4.75381796e-02, -2.37862163e-01,\n",
       "        2.54215894e-04,  7.20966856e-02, -2.15453488e-01,  4.59015715e-02,\n",
       "       -4.80280459e-02, -1.71188144e-01,  4.64266990e-02, -2.29978526e-01,\n",
       "        4.94477572e-02, -6.23769582e-02, -6.34376985e-02,  2.35455956e-01,\n",
       "        2.08348993e-01, -4.41320833e-01, -1.23750283e-02, -3.18566222e-02,\n",
       "        3.45880746e-02,  5.83329222e-02,  2.54735235e-01, -1.90211524e-01,\n",
       "       -1.93650781e-01,  1.29209054e-01,  5.19451631e-03, -5.34032036e-02,\n",
       "        1.78913978e-01, -7.25125875e-02, -1.45326510e-02,  8.81224991e-02,\n",
       "        1.35810071e-01,  4.47299883e-01,  1.96629061e-01,  2.07592334e-01,\n",
       "       -5.48978996e-01,  5.36452459e-02, -1.68190246e-01, -3.36783086e-02,\n",
       "       -1.48675480e-01, -3.00492545e-02,  3.65004087e-02, -1.71874511e-01,\n",
       "       -2.80914281e-01,  1.13563575e-01, -1.25064969e-01,  1.14270772e-01,\n",
       "       -1.19180271e-01, -5.76544569e-03,  1.30995690e-02, -1.51518110e-01,\n",
       "        1.12373076e-01,  3.65178748e-01, -2.85848456e-01, -1.33099508e-01,\n",
       "       -1.76341343e-01,  5.01934972e-02, -2.42500931e-01,  4.79232775e-01,\n",
       "       -1.36935703e-01, -1.71194120e-01, -5.38019076e-01,  2.00491650e-01,\n",
       "        9.28955440e-02,  1.41789926e-02,  1.63700012e-01, -4.55041154e-02,\n",
       "        4.19711923e-01,  5.42057649e-02, -6.90130839e-02,  1.58897747e-02,\n",
       "        5.84328287e-02,  5.91319427e-04, -5.54829946e-02, -2.20812736e-01,\n",
       "        1.99712179e-01, -2.82179510e-01,  7.61484240e-02, -7.19556854e-02,\n",
       "        3.20004890e-01,  7.22424016e-02, -3.04031431e-02, -1.32180606e-01,\n",
       "        8.47857016e-02,  2.51445176e-01,  1.02003046e-01,  6.76992412e-02,\n",
       "        2.28475411e-02,  4.57290223e-03, -1.76407193e-03,  1.27536867e-02,\n",
       "        2.25572264e-03, -1.26015662e-02,  1.76379559e-02])"
      ]
     },
     "execution_count": 36,
     "metadata": {},
     "output_type": "execute_result"
    }
   ],
   "source": [
    "lr.coef_"
   ]
  },
  {
   "cell_type": "code",
   "execution_count": 37,
   "metadata": {},
   "outputs": [
    {
     "data": {
      "text/plain": [
       "0.6290116928001216"
      ]
     },
     "execution_count": 37,
     "metadata": {},
     "output_type": "execute_result"
    }
   ],
   "source": [
    "lr.intercept_"
   ]
  },
  {
   "cell_type": "code",
   "execution_count": 38,
   "metadata": {},
   "outputs": [],
   "source": [
    "coefs_arr = np.array(sorted(list(zip(df_prep.columns[:-1], lr.coef_)), key=lambda x: -x[1]))"
   ]
  },
  {
   "cell_type": "code",
   "execution_count": 39,
   "metadata": {},
   "outputs": [],
   "source": [
    "#zip - склеивает 2 массива по вертикали"
   ]
  },
  {
   "cell_type": "code",
   "execution_count": 40,
   "metadata": {},
   "outputs": [
    {
     "data": {
      "text/plain": [
       "array([['PersPerOccupHous', '0.4792327750126245'],\n",
       "       ['MalePctDivorce', '0.44729988323432923'],\n",
       "       ['PctHousOwnOcc', '0.4197119234567753'],\n",
       "       ['PctRecImmig8', '0.36517874776909776'],\n",
       "       ['MedRent', '0.3200048898652302'],\n",
       "       ['NumUnderPov', '0.25473523526304676'],\n",
       "       ['NumStreet', '0.251445175681439'],\n",
       "       ['medFamInc', '0.23545595582644768'],\n",
       "       ['perCapInc', '0.20834899317736938'],\n",
       "       ['FemalePctDiv', '0.20759233364172572'],\n",
       "       ['racepctblack', '0.2038970876925012'],\n",
       "       ['PctPersDenseHous', '0.2004916496386952'],\n",
       "       ['OwnOccHiQuart', '0.1997121790820546'],\n",
       "       ['MalePctNevMarr', '0.19662906094336863'],\n",
       "       ['PctEmploy', '0.1789139782813587'],\n",
       "       ['HousVacant', '0.16370001164378056'],\n",
       "       ['PctOccupMgmtProf', '0.13581007061127126'],\n",
       "       ['PctNotHSGrad', '0.12920905357959284'],\n",
       "       ['PctImmigRecent', '0.11427077179523441'],\n",
       "       ['PctIlleg', '0.11356357459343178'],\n",
       "       ['PctRecImmig5', '0.112373076164717'],\n",
       "       ['PctForeignBorn', '0.10200304612309834'],\n",
       "       ['PctHousLess3BR', '0.09289554400601135'],\n",
       "       ['PctOccupManu', '0.08812249912849249'],\n",
       "       ['NumInShelters', '0.08478570159068391'],\n",
       "       ['RentMedian', '0.0761484239822733'],\n",
       "       ['MedRentPctHousInc', '0.0722424016220232'],\n",
       "       ['agePct65up', '0.07209668560946296'],\n",
       "       ['PctBornSameState', '0.06769924124003752'],\n",
       "       ['population', '0.06216289044986718'],\n",
       "       ['PctHousNoPhone', '0.05843282874855256'],\n",
       "       ['HispPerCap', '0.058332922177527044'],\n",
       "       ['PctVacantBoarded', '0.054205764882354485'],\n",
       "       ['PersPerFam', '0.05364524592789846'],\n",
       "       ['PctLargHouseFam', '0.05019349717817166'],\n",
       "       ['pctWSocSec', '0.049447757152928595'],\n",
       "       ['agePct12t21', '0.04753817964142044'],\n",
       "       ['pctWFarmSelf', '0.04642669899107288'],\n",
       "       ['pctUrban', '0.0459015714839726'],\n",
       "       ['PctWorkMomYoungKids', '0.03650040874763406'],\n",
       "       ['AsianPerCap', '0.03458807457951632'],\n",
       "       ['PctSameHouse85', '0.02284754107083705'],\n",
       "       ['LemasPctOfficDrugUn', '0.01763795592911098'],\n",
       "       ['MedYrHousBuilt', '0.01588977474568603'],\n",
       "       ['MedNumBR', '0.01417899256227887'],\n",
       "       ['PctImmigRec10', '0.013099568967292571'],\n",
       "       ['LandArea', '0.012753686667910723'],\n",
       "       ['PctBSorMore', '0.005194516305004893'],\n",
       "       ['PctSameCity85', '0.004572902227733849'],\n",
       "       ['householdsize', '0.00339704111557515'],\n",
       "       ['PopDens', '0.002255722637938856'],\n",
       "       ['PctWOFullPlumb', '0.0005913194274805786'],\n",
       "       ['agePct16t24', '0.00025421589447344184'],\n",
       "       ['PctSameState85', '-0.0017640719285979545'],\n",
       "       ['PctImmigRec8', '-0.005765445692303431'],\n",
       "       ['blackPerCap', '-0.012375028286575523'],\n",
       "       ['PctUsePubTrans', '-0.01260156619322464'],\n",
       "       ['racePctHisp', '-0.013037296967118'],\n",
       "       ['PctEmplProfServ', '-0.01453265100622085'],\n",
       "       ['PctTeen2Par', '-0.030049254505708875'],\n",
       "       ['MedOwnCostPctInc', '-0.030403143100357792'],\n",
       "       ['indianPerCap', '-0.03185662217244238'],\n",
       "       ['PctKids2Par', '-0.03367830856306435'],\n",
       "       ['racePctAsian', '-0.04222069033646095'],\n",
       "       ['PctHousOccup', '-0.045504115390825335'],\n",
       "       ['medIncome', '-0.04802804588967093'],\n",
       "       ['PctUnemployed', '-0.05340320359314171'],\n",
       "       ['OwnOccLowQuart', '-0.05548299464788788'],\n",
       "       ['pctWPubAsst', '-0.06237695824120225'],\n",
       "       ['pctWRetire', '-0.0634376984710102'],\n",
       "       ['racePctWhite', '-0.06605204020462714'],\n",
       "       ['PctVacMore6Mos', '-0.06901308394699784'],\n",
       "       ['RentHighQ', '-0.07195568536739227'],\n",
       "       ['PctEmplManu', '-0.07251258752554751'],\n",
       "       ['PctImmigRec5', '-0.11918027141205739'],\n",
       "       ['NumImmig', '-0.12506496887457302'],\n",
       "       ['MedOwnCostPctIncNoMtg', '-0.13218060553842553'],\n",
       "       ['PctSpeakEnglOnly', '-0.1330995081504004'],\n",
       "       ['PersPerOwnOccHous', '-0.13693570320789664'],\n",
       "       ['PctYoungKids2Par', '-0.14867547991180147'],\n",
       "       ['PctRecentImmig', '-0.15151810971874255'],\n",
       "       ['PctFam2Par', '-0.16819024615939154'],\n",
       "       ['pctWWage', '-0.17118814436677043'],\n",
       "       ['PersPerRentOccHous', '-0.17119411973102294'],\n",
       "       ['PctWorkMom', '-0.17187451053091185'],\n",
       "       ['PctNotSpeakEnglWell', '-0.1763413430160676'],\n",
       "       ['PctPopUnderPov', '-0.1902115240591149'],\n",
       "       ['PctLess9thGrade', '-0.19365078089814267'],\n",
       "       ['numbUrban', '-0.21545348802078418'],\n",
       "       ['OwnOccMedVal', '-0.2208127360305228'],\n",
       "       ['pctWInvInc', '-0.22997852643509742'],\n",
       "       ['agePct12t29', '-0.2378621628590688'],\n",
       "       ['PctLargHouseOccup', '-0.24250093133466746'],\n",
       "       ['NumIlleg', '-0.2809142810568137'],\n",
       "       ['RentLowQ', '-0.282179510356279'],\n",
       "       ['PctRecImmig10', '-0.2858484563322557'],\n",
       "       ['whitePerCap', '-0.4413208327273947'],\n",
       "       ['PctPersOwnOccup', '-0.5380190763950591'],\n",
       "       ['TotalPctDiv', '-0.5489789960257946']], dtype='<U22')"
      ]
     },
     "execution_count": 40,
     "metadata": {},
     "output_type": "execute_result"
    }
   ],
   "source": [
    "coefs_arr"
   ]
  },
  {
   "cell_type": "code",
   "execution_count": 41,
   "metadata": {},
   "outputs": [
    {
     "data": {
      "image/png": "[encoded data removed]",
      "text/plain": [
       "<Figure size 720x1800 with 1 Axes>"
      ]
     },
     "metadata": {
      "needs_background": "light"
     },
     "output_type": "display_data"
    }
   ],
   "source": [
    "fig = plt.figure(figsize=[10,25])\n",
    "plt.barh(coefs_arr[:, 0], coefs_arr[:, 1].astype(float))\n",
    "plt.show()"
   ]
  },
  {
   "cell_type": "code",
   "execution_count": 42,
   "metadata": {},
   "outputs": [
    {
     "data": {
      "text/plain": [
       "array([0.06, 0.46, 0.02, 0.88, 0.2 , 0.2 , 0.36, 0.41, 0.22, 0.34, 0.07,\n",
       "       1.  , 0.47, 0.6 , 0.12, 0.54, 0.37, 0.34, 0.51, 0.47, 0.42, 0.4 ,\n",
       "       0.95, 0.21, 0.42, 0.5 , 0.03, 0.17, 0.14, 0.2 , 0.38, 0.29, 0.57,\n",
       "       0.23, 0.32, 0.27, 0.49, 0.57, 0.28, 0.61, 0.62, 0.46, 0.65, 0.68,\n",
       "       0.72, 0.55, 0.52, 0.57, 0.01, 0.14, 0.02, 0.25, 0.34, 0.36, 0.44,\n",
       "       0.11, 0.13, 0.13, 0.15, 0.84, 0.12, 0.19, 0.19, 0.49, 0.51, 0.45,\n",
       "       0.6 , 0.17, 0.45, 0.5 , 0.06, 0.74, 0.59, 0.12, 0.2 , 0.83, 0.16,\n",
       "       0.18, 0.36, 0.4 , 0.41, 0.45, 0.49, 0.58, 0.5 , 0.64, 0.66, 0.19,\n",
       "       0.08, 0.03, 0.19, 0.56, 0.27, 0.16, 0.65, 0.09, 0.12, 0.05, 0.  ])"
      ]
     },
     "execution_count": 42,
     "metadata": {},
     "output_type": "execute_result"
    }
   ],
   "source": [
    "X_test[0]"
   ]
  },
  {
   "cell_type": "code",
   "execution_count": 43,
   "metadata": {},
   "outputs": [
    {
     "data": {
      "text/plain": [
       "array([0.23358796])"
      ]
     },
     "execution_count": 43,
     "metadata": {},
     "output_type": "execute_result"
    }
   ],
   "source": [
    "lr.predict([X_test[0]])"
   ]
  },
  {
   "cell_type": "code",
   "execution_count": 44,
   "metadata": {},
   "outputs": [
    {
     "data": {
      "text/plain": [
       "0.22"
      ]
     },
     "execution_count": 44,
     "metadata": {},
     "output_type": "execute_result"
    }
   ],
   "source": [
    "y_test[0]"
   ]
  },
  {
   "cell_type": "markdown",
   "metadata": {},
   "source": [
    "### Считаем метрику, чтобы понять, есть ли переобучение\n",
    "\n",
    "Если разница до 10%, то считаем, что переобучения нет"
   ]
  },
  {
   "cell_type": "code",
   "execution_count": 45,
   "metadata": {},
   "outputs": [],
   "source": [
    "from sklearn import metrics"
   ]
  },
  {
   "cell_type": "code",
   "execution_count": 46,
   "metadata": {},
   "outputs": [],
   "source": [
    "predicts_test = lr.predict(X_test)\n",
    "predicts_train = lr.predict(X_train)"
   ]
  },
  {
   "cell_type": "code",
   "execution_count": 47,
   "metadata": {},
   "outputs": [
    {
     "data": {
      "text/plain": [
       "0.0970250716954318"
      ]
     },
     "execution_count": 47,
     "metadata": {},
     "output_type": "execute_result"
    }
   ],
   "source": [
    "metrics.mean_absolute_error(y_test, predicts_test)"
   ]
  },
  {
   "cell_type": "code",
   "execution_count": 48,
   "metadata": {},
   "outputs": [
    {
     "data": {
      "text/plain": [
       "0.09252593902381363"
      ]
     },
     "execution_count": 48,
     "metadata": {},
     "output_type": "execute_result"
    }
   ],
   "source": [
    "metrics.mean_absolute_error(y_train, predicts_train)"
   ]
  },
  {
   "cell_type": "markdown",
   "metadata": {},
   "source": [
    "0.09 - то есть на столько преступлений на 100 000 мы ошибаемся. "
   ]
  },
  {
   "cell_type": "markdown",
   "metadata": {},
   "source": [
    "random state - параметр означает тип разбиения. Мы его делаем фиксированным,\n",
    "чтобы для следующего обучения данные взялись те же самые"
   ]
  },
  {
   "cell_type": "code",
   "execution_count": 49,
   "metadata": {},
   "outputs": [
    {
     "data": {
      "text/plain": [
       "0.017692614569897368"
      ]
     },
     "execution_count": 49,
     "metadata": {},
     "output_type": "execute_result"
    }
   ],
   "source": [
    "metrics.mean_squared_error(y_test, predicts_test) # это число уже не имеет физической интерпретации"
   ]
  },
  {
   "cell_type": "markdown",
   "metadata": {},
   "source": [
    "### Метрика RMSE"
   ]
  },
  {
   "cell_type": "code",
   "execution_count": 52,
   "metadata": {},
   "outputs": [
    {
     "data": {
      "text/plain": [
       "0.13301358791453363"
      ]
     },
     "execution_count": 52,
     "metadata": {},
     "output_type": "execute_result"
    }
   ],
   "source": [
    "np.sqrt(metrics.mean_squared_error(y_test, predicts_test)) # показывает, на сколько в среднем мы отклоняемся. \n",
    "# Это 0,13 преступлений.\n",
    "# смысл в том, что чем больше ошибка, тем больший вклад она вносит.\n",
    "# если эта метрика сильно отличается от МАЕ, то где-то мы ошибаемся очень сильно.\n",
    "# если не сильно, то все ок."
   ]
  },
  {
   "cell_type": "markdown",
   "metadata": {},
   "source": [
    "### Регуляризация"
   ]
  },
  {
   "cell_type": "code",
   "execution_count": 54,
   "metadata": {},
   "outputs": [
    {
     "name": "stdout",
     "output_type": "stream",
     "text": [
      "test 0.09414193833124201\n",
      "train 0.09465804900831708\n"
     ]
    }
   ],
   "source": [
    "ridge2 = linear_model.Ridge(alpha=10.0)\n",
    "ridge2.fit(X_train, y_train)\n",
    "\n",
    "print('test', metrics.mean_absolute_error(y_test, ridge2.predict(X_test)))\n",
    "print('train', metrics.mean_absolute_error(y_train, ridge2.predict(X_train)))"
   ]
  },
  {
   "cell_type": "markdown",
   "metadata": {},
   "source": [
    "ошибки test  и train  почти совпали, и это очень хорошо! "
   ]
  },
  {
   "cell_type": "code",
   "execution_count": null,
   "metadata": {},
   "outputs": [],
   "source": []
  }
 ],
 "metadata": {
  "kernelspec": {
   "display_name": "Python 3",
   "language": "python",
   "name": "python3"
  },
  "language_info": {
   "codemirror_mode": {
    "name": "ipython",
    "version": 3
   },
   "file_extension": ".py",
   "mimetype": "text/x-python",
   "name": "python",
   "nbconvert_exporter": "python",
   "pygments_lexer": "ipython3",
   "version": "3.7.0"
  }
 },
 "nbformat": 4,
 "nbformat_minor": 2
}
