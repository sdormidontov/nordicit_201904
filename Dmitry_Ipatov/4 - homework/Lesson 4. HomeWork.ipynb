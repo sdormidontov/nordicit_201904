{
 "cells": [
  {
   "cell_type": "markdown",
   "metadata": {},
   "source": [
    "### Задача 1 (повторяем еще раз)\n",
    "\n",
    "Для каждого студента вывести строку:\n",
    "\"Привет!\n",
    "Меня зовут name surname.\n",
    "Мне age лет\n",
    "Мой средний балл Score.\n",
    "Я доступен по номеру num\"\n",
    "\n",
    "Используем форматирование через {} и функцию **format**!"
   ]
  },
  {
   "cell_type": "code",
   "execution_count": 191,
   "metadata": {},
   "outputs": [
    {
     "name": "stdout",
     "output_type": "stream",
     "text": [
      "Привет! Меня зовут Василий Иванов. Мне 23 лет Мой средний балл 60.7. Я доступен по номеру +79999999999\n",
      "Привет! Меня зовут Василий Иванов. Мне 20 лет Мой средний балл 67.0. Я доступен по номеру +79999998888\n",
      "Привет! Меня зовут Анна Петрова. Мне 27 лет Мой средний балл 90.2. Я доступен по номеру +79999997777\n"
     ]
    }
   ],
   "source": [
    "group_dict = {\n",
    "    '+79999999999':{\n",
    "        'name':'Василий',\n",
    "        'surname':'Иванов',\n",
    "        'age':23,\n",
    "        'Score': 60.7\n",
    "    },\n",
    "    '+79999998888':{\n",
    "        'name':'Василий',\n",
    "        'surname':'Иванов',\n",
    "        'age':20,\n",
    "        'Score': 67.0\n",
    "    },\n",
    "    '+79999997777':{\n",
    "        'name':'Анна',\n",
    "        'surname':'Петрова',\n",
    "        'age':27,\n",
    "        'Score': 90.2\n",
    "    },\n",
    "}\n",
    "\n",
    "for k, v in group_dict.items():\n",
    "    print ('Привет! Меня зовут {name} {surname}. Мне {age} лет Мой средний балл {Score}.'.format(**v),'Я доступен по номеру',k)\n",
    "    "
   ]
  },
  {
   "cell_type": "markdown",
   "metadata": {},
   "source": [
    "## Задача 2\n",
    "\n",
    "Вам дан текст"
   ]
  },
  {
   "cell_type": "code",
   "execution_count": 96,
   "metadata": {},
   "outputs": [],
   "source": [
    "text = \"\"\"A fair number of brave souls who upgraded their SI clock oscillator have\n",
    "shared their experiences for this poll. Please send a brief message detailing\n",
    "your experiences with the procedure. Top speed attained, CPU rated speed,\n",
    "add on cards and adapters, heat sinks, hour of usage per day, floppy disk\n",
    "functionality with 800 and 1.4 m floppies are especially requested.\"\"\""
   ]
  },
  {
   "cell_type": "markdown",
   "metadata": {},
   "source": [
    "Ваша задача: \n",
    "1. Разбить его на список слов с помощью функции re.findall так, чтобы в список вошли только слова, состоящие из 3 и более символов.\n",
    "2. Объединить получившийся список воедино через символ пробел между словами. (подсказка - join)"
   ]
  },
  {
   "cell_type": "code",
   "execution_count": 97,
   "metadata": {},
   "outputs": [
    {
     "name": "stdout",
     "output_type": "stream",
     "text": [
      "fair number brave souls who upgraded their clock oscillator have shared their experiences for this poll Please send brief message detailing your experiences with the procedure Top speed attained CPU rated speed add cards and adapters heat sinks hour usage per day floppy disk functionality with 800 and floppies are especially requested\n"
     ]
    }
   ],
   "source": [
    "# lst_1 = []\n",
    "# for i in text.split():\n",
    "#     if len(i)>3:\n",
    "#         if i[-1] == '.' or i[-1] == ',':\n",
    "#             i = i[:-1]\n",
    "#         lst_1.append(i)\n",
    "    \n",
    "# str_1 = ' '.join(lst_1)\n",
    "# print (str_1)  \n",
    "\n",
    "\n",
    "import re\n",
    "st = r\"[\\w]{3,}\"\n",
    "lst_1 = re.findall(st, text)\n",
    "str_1 = ' '.join(lst_1)\n",
    "print (str_1)\n"
   ]
  },
  {
   "cell_type": "markdown",
   "metadata": {},
   "source": [
    "## Задача 3\n",
    "\n",
    "Подсчитать, какое количество раз встречается каждое слово из текста выше.\n",
    "\n",
    "Для этого:\n",
    "1. Так же разбиваем текст на слова, как в задаче 2\n",
    "2. Используем dict для хранения данных вида { \"слово\" : кол-во раз }\n",
    "\n",
    "Отдельно вывести слова, которые встречаются более 1 раза"
   ]
  },
  {
   "cell_type": "code",
   "execution_count": 98,
   "metadata": {},
   "outputs": [
    {
     "name": "stdout",
     "output_type": "stream",
     "text": [
      "their\n",
      "experiences\n",
      "with\n",
      "speed\n",
      "and\n"
     ]
    }
   ],
   "source": [
    "# dct = {}\n",
    "# for i in lst_1:\n",
    "#     wordcount = lst_1.count(i)\n",
    "#     dct.update({i, wordcount})  я не понимаю, почему это не работает((((((\n",
    "# TypeError: cannot convert dictionary update sequence element #0 to a sequence\n",
    "\n",
    "    \n",
    "gen = ((i, lst_1.count(i)) for i in lst_1)\n",
    "dct = dict(gen)\n",
    "#print (dct)\n",
    "for k,v in dct.items():\n",
    "    if v > 1:\n",
    "         print (k)\n",
    "    \n",
    "\n"
   ]
  },
  {
   "cell_type": "markdown",
   "metadata": {},
   "source": [
    "## Задача 4\n",
    "\n",
    "Дан набор html-тегов с вложенностями"
   ]
  },
  {
   "cell_type": "code",
   "execution_count": 92,
   "metadata": {},
   "outputs": [],
   "source": [
    "html_tags = \"<title>Заголовок</title><page><article>Текст статьи</article><footer>Нижняя часть</footer>\""
   ]
  },
  {
   "cell_type": "markdown",
   "metadata": {},
   "source": [
    "Вам необходимо извлечь из данной строки список, состоящий из самих слов внутри тегов вида:"
   ]
  },
  {
   "cell_type": "code",
   "execution_count": 93,
   "metadata": {},
   "outputs": [
    {
     "data": {
      "text/plain": [
       "['Заголовок', 'Текст статьи', 'Нижняя часть']"
      ]
     },
     "execution_count": 93,
     "metadata": {},
     "output_type": "execute_result"
    }
   ],
   "source": [
    "['Заголовок', 'Текст статьи', 'Нижняя часть']"
   ]
  },
  {
   "cell_type": "markdown",
   "metadata": {},
   "source": [
    "Очень приветствуется использование регулярок. Но если совсем не получается через них, сделайте хотя бы как-то."
   ]
  },
  {
   "cell_type": "code",
   "execution_count": 94,
   "metadata": {},
   "outputs": [
    {
     "name": "stdout",
     "output_type": "stream",
     "text": [
      "['Заголовок', 'Текст статьи', 'Нижняя часть']\n"
     ]
    }
   ],
   "source": [
    "#pattern = r\">\\w+\\s*\\w+\"\n",
    "#pattern = r\"[А-Яа-я]+\\s*[А-Яа-я]+\"\n",
    "\n",
    "import re\n",
    "\n",
    "#html_tags = \"<title>Заго__лоRRRвок2_</title><page><article>Текст статьи</article><footer>Нижняя часть</footer>\"\n",
    "\n",
    "pattern = r\">([\\w\\s]+)<\"\n",
    "\n",
    "\n",
    "match = re.findall(pattern, html_tags)\n",
    "print (match)"
   ]
  },
  {
   "cell_type": "code",
   "execution_count": null,
   "metadata": {},
   "outputs": [],
   "source": []
  }
 ],
 "metadata": {
  "kernelspec": {
   "display_name": "Python 3",
   "language": "python",
   "name": "python3"
  },
  "language_info": {
   "codemirror_mode": {
    "name": "ipython",
    "version": 3
   },
   "file_extension": ".py",
   "mimetype": "text/x-python",
   "name": "python",
   "nbconvert_exporter": "python",
   "pygments_lexer": "ipython3",
   "version": "3.6.5"
  }
 },
 "nbformat": 4,
 "nbformat_minor": 2
}
