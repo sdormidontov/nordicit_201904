{
 "cells": [
  {
   "cell_type": "markdown",
   "metadata": {},
   "source": [
    "MAE - средняя абсолютная ошибка - она используется чаще как оценочная метрика, \n",
    "так как с ней удобно работать человеку (более понятная - то есть видим число , на которое мы реально отклоняемся. Получили 2,25 убытка - значит вот такая наша ошибка)\n",
    "Ее часто используют для продуктового анализа\n",
    "Но в расчетах модели ее не удобно использовать, так как это негладкая функция, поэтому не везде дифференцируемая.\n",
    "\n",
    "MSE - используется в расчетах, так как ее можно дифференцировать (гладкая функция). Но неудобно человеку (так как среднеквадратичную ошибку сложно представить человеку)\n",
    "\n"
   ]
  },
  {
   "cell_type": "markdown",
   "metadata": {},
   "source": [
    "умножение матрицы на столбец\n",
    "\n",
    "\n",
    "10х0 + 20х1 + 30х2 <=600\n",
    "7х0 + 15х1 + 20х2 <=300\n",
    "5х0 + 10х1 + 15х2 <=150\n",
    "\n"
   ]
  },
  {
   "cell_type": "markdown",
   "metadata": {},
   "source": [
    "type - тип ограничения\n",
    "ineq - это знак >=\n",
    "\n"
   ]
  },
  {
   "cell_type": "code",
   "execution_count": 5,
   "metadata": {},
   "outputs": [],
   "source": [
    "import numpy as np\n",
    "from scipy import optimize\n",
    "from scipy import stats"
   ]
  },
  {
   "cell_type": "code",
   "execution_count": 11,
   "metadata": {},
   "outputs": [],
   "source": [
    "def value(x):\n",
    "    return - 10*x[0] - 20*x[1] - 30*x[2]"
   ]
  },
  {
   "cell_type": "code",
   "execution_count": 12,
   "metadata": {},
   "outputs": [],
   "source": [
    "# сложное ограничение\n",
    "ineq_cons = {'type' : 'ineq',\n",
    "            'fun': lambda x: np.array([600 - 10 * x[0] - 20 * x[1] - 30 * x[2],\n",
    "                                       300 - 7  * x[0] - 15 * x[1] - 20 * x[2],\n",
    "                                       150 - 5  * x[0] - 10 * x[1] - 15 * x[2]])\n",
    "            }"
   ]
  },
  {
   "cell_type": "code",
   "execution_count": 13,
   "metadata": {},
   "outputs": [],
   "source": [
    "# простое ограничение\n",
    "bnds = optimize.Bounds([0, 0, 0], [np.inf, np.inf, np.inf]) # 3 параметра , поэтому 3 ограничения"
   ]
  },
  {
   "cell_type": "code",
   "execution_count": 14,
   "metadata": {},
   "outputs": [
    {
     "name": "stdout",
     "output_type": "stream",
     "text": [
      "     fun: -299.9999999998902\n",
      "     jac: array([-10., -20., -30.])\n",
      " message: 'Optimization terminated successfully.'\n",
      "    nfev: 10\n",
      "     nit: 2\n",
      "    njev: 2\n",
      "  status: 0\n",
      " success: True\n",
      "       x: array([2.14285714, 4.28571429, 6.42857143])\n"
     ]
    }
   ],
   "source": [
    "x0 = np.array([0, 0, 0])\n",
    "res = optimize.minimize(value, x0, method='SLSQP', constraints=ineq_cons, bounds=bnds)\n",
    "print(res)"
   ]
  },
  {
   "cell_type": "markdown",
   "metadata": {},
   "source": [
    "fun: -299. -- это максимальное значение нашей целевой функциию. \n",
    "Это значит, что мы заработаем 300000 при нашем распределении ресурсов\n",
    "    \n",
    "x: array([2.14285714, 4.28571429, 6.42857143])\n",
    "это оптимальные подобранные значения\n",
    "\n",
    "надо округлять в меньшую сторону"
   ]
  },
  {
   "cell_type": "code",
   "execution_count": 15,
   "metadata": {},
   "outputs": [
    {
     "data": {
      "text/plain": [
       "280"
      ]
     },
     "execution_count": 15,
     "metadata": {},
     "output_type": "execute_result"
    }
   ],
   "source": [
    "2 * 10 + 4 * 20 + 6 * 30 "
   ]
  },
  {
   "cell_type": "markdown",
   "metadata": {},
   "source": [
    "!!!!!\n",
    "всегда нужно определять цель оптимизации\n",
    "\n",
    "x y problem  - когда стоит задача х, но описывается y проблема. "
   ]
  },
  {
   "cell_type": "markdown",
   "metadata": {},
   "source": [
    "## Линейная регрессия "
   ]
  },
  {
   "cell_type": "markdown",
   "metadata": {},
   "source": []
  },
  {
   "cell_type": "markdown",
   "metadata": {},
   "source": [
    "a1x1 + a2x2 + ... anxn = y\n",
    "\n",
    "Регрессия ВСЕГДА оптимизирует среднеквадратичную ошибку. \n",
    "\n",
    "Минус:\n",
    "она работает ТОЛЬКО с линейной зависимостью.\n",
    "например не может построить синусоиду.\n",
    "\n",
    "Плюс:\n",
    "практически никогда не переобучается. \n",
    "то есть если важно обобщить, а не точно классифицировать, то линейная модель очень хорошо работает.\n",
    "\n",
    "Линейная модель - это очень хороший старт.\n",
    "Можно вначале всегда начать с линейной регрессии, а потом переходить к другим алгоритмам\n",
    "\n",
    "Размен между моделированием реальной природы и обобщением - это как раз задача выбора, которую надо решить аналитику\n"
   ]
  },
  {
   "cell_type": "code",
   "execution_count": 27,
   "metadata": {},
   "outputs": [],
   "source": [
    "import matplotlib.pyplot as plt\n",
    "%matplotlib inline"
   ]
  },
  {
   "cell_type": "code",
   "execution_count": 28,
   "metadata": {},
   "outputs": [],
   "source": [
    "def generate_wave_set(n_support=1000, n_train=25, std=0.3):\n",
    "    data = {}\n",
    "    # выберем некоторое количество точек из промежутка от 0 до 2*pi\n",
    "    data['support'] = np.linspace(0, 2*np.pi, num=n_support)\n",
    "    # для каждой посчитаем значение sin(x) + 1\n",
    "    # это будет ground truth\n",
    "    data['values'] = np.sin(data['support']) + 1\n",
    "    # из support посемплируем некоторое количество точек с возвратом, это будут признаки\n",
    "    data['x_train'] = np.sort(np.random.choice(data['support'], size=n_train, replace=True))\n",
    "    # опять посчитаем sin(x) + 1 и добавим шум, получим целевую переменную\n",
    "    data['y_train'] = np.sin(data['x_train']) + 1 + np.random.normal(0, std, size=data['x_train'].shape[0])\n",
    "    return data\n",
    "\n",
    "data = generate_wave_set(1000, 250)\n",
    "\n"
   ]
  },
  {
   "cell_type": "code",
   "execution_count": 29,
   "metadata": {},
   "outputs": [
    {
     "name": "stdout",
     "output_type": "stream",
     "text": [
      "Shape of X is (250,)\n",
      "Head of X is [0.         0.         0.0503158  0.06289475 0.06289475 0.06289475\n",
      " 0.0754737  0.08176317 0.08176317 0.11321055]\n"
     ]
    }
   ],
   "source": [
    "print('Shape of X is', data['x_train'].shape)\n",
    "print('Head of X is', data['x_train'][:10])\n",
    "\n"
   ]
  },
  {
   "cell_type": "code",
   "execution_count": 31,
   "metadata": {},
   "outputs": [
    {
     "data": {
      "image/png": "[encoded data removed]",
      "text/plain": [
       "<Figure size 1080x720 with 1 Axes>"
      ]
     },
     "metadata": {
      "needs_background": "light"
     },
     "output_type": "display_data"
    }
   ],
   "source": [
    "margin = 0.3\n",
    "fig = plt.figure(figsize=[15, 10])\n",
    "plt.plot(data['support'], data['values'], 'b--', alpha=0.5, label='manifold')\n",
    "plt.scatter(data['x_train'], data['y_train'], 40, 'g', 'o', alpha=0.8, label='data')\n",
    "#plt.xlim(data['x_train'].min() - margin, data['x_train'].max() + margin)\n",
    "#plt.ylim(data['y_train'].min() - margin, data['y_train'].max() + margin)\n",
    "plt.legend(loc='upper right', prop={'size': 20})\n",
    "plt.title('True manifold and noised data')\n",
    "plt.xlabel('x')\n",
    "plt.ylabel('y')\n",
    "plt.show()"
   ]
  },
  {
   "cell_type": "markdown",
   "metadata": {},
   "source": [
    "## Полиномиальная регрессия "
   ]
  },
  {
   "cell_type": "markdown",
   "metadata": {},
   "source": [
    "может моделировать нелинейную зависимость\n",
    "\n",
    "чем сложнее функция, тем лучше предсказание, но тем выше вероятность переобучения"
   ]
  },
  {
   "cell_type": "code",
   "execution_count": 33,
   "metadata": {},
   "outputs": [
    {
     "data": {
      "text/plain": [
       "array([0.        , 0.        , 0.0503158 , 0.06289475, 0.06289475,\n",
       "       0.06289475, 0.0754737 , 0.08176317, 0.08176317, 0.11321055,\n",
       "       0.11950002, 0.1257895 , 0.13207897, 0.15094739, 0.16352634,\n",
       "       0.17610529, 0.20755267, 0.25157899, 0.25786847, 0.29560531,\n",
       "       0.31447374, 0.38994744, 0.41510534, 0.41510534, 0.44655271,\n",
       "       0.45913166, 0.49057903, 0.50315798, 0.52202641, 0.53460536,\n",
       "       0.56605273, 0.61007905, 0.61007905, 0.622658  , 0.66039485,\n",
       "       0.6981317 , 0.71700013, 0.77989487, 0.77989487, 0.80505277,\n",
       "       0.91197384, 0.99373702, 1.03776334, 1.06921071, 1.10065809,\n",
       "       1.10694756, 1.16984231, 1.20128968, 1.29563181, 1.29563181,\n",
       "       1.30192128, 1.31450023, 1.3207897 , 1.35223708, 1.3711055 ,\n",
       "       1.37739498, 1.43400025, 1.5220529 , 1.5220529 , 1.53463185,\n",
       "       1.5472108 , 1.56607922, 1.59123712, 1.59752659, 1.62897397,\n",
       "       1.66042134, 1.66042134, 1.71702662, 1.74218451, 1.74847399,\n",
       "       1.76734241, 1.76734241, 1.79878979, 1.80507926, 1.81765821,\n",
       "       1.81765821, 1.82394769, 1.87426349, 1.88055296, 1.89313191,\n",
       "       1.89942138, 1.90571086, 1.91828981, 1.93715823, 1.94973718,\n",
       "       1.97489508, 2.00634246, 2.01263193, 2.02521088, 2.0440793 ,\n",
       "       2.05036878, 2.07552668, 2.08810563, 2.0943951 , 2.10068458,\n",
       "       2.10697405, 2.16357932, 2.20760565, 2.22647407, 2.27678987,\n",
       "       2.32081619, 2.33339514, 2.34597409, 2.34597409, 2.36484252,\n",
       "       2.37113199, 2.47176359, 2.52836886, 2.56610571, 2.61013203,\n",
       "       2.61013203, 2.69189521, 2.70447416, 2.75478995, 2.76107943,\n",
       "       2.83026365, 2.85542155, 2.93089525, 2.9434742 , 3.00636895,\n",
       "       3.02523737, 3.06297422, 3.10071107, 3.15731634, 3.16360582,\n",
       "       3.22650056, 3.35229006, 3.35857953, 3.37115848, 3.37744796,\n",
       "       3.39631638, 3.44663218, 3.4655006 , 3.4655006 , 3.5158164 ,\n",
       "       3.5158164 , 3.53468483, 3.54726378, 3.55355325, 3.58500063,\n",
       "       3.70450065, 3.74852697, 3.75481644, 3.77368487, 3.81142172,\n",
       "       3.81142172, 3.83029014, 3.83029014, 3.85544804, 3.86802699,\n",
       "       3.88689542, 3.89947436, 3.89947436, 3.92463226, 3.92463226,\n",
       "       3.92463226, 3.94350069, 3.98123754, 3.98123754, 4.00639544,\n",
       "       4.03784281, 4.04413228, 4.08186913, 4.09444808, 4.14476388,\n",
       "       4.16992178, 4.18250073, 4.18250073, 4.20136915, 4.22652705,\n",
       "       4.23281653, 4.239106  , 4.239106  , 4.239106  , 4.32086918,\n",
       "       4.38376392, 4.39634287, 4.40892182, 4.42779025, 4.44665867,\n",
       "       4.44665867, 4.49697447, 4.50326394, 4.57244817, 4.57873764,\n",
       "       4.60389554, 4.60389554, 4.61018502, 4.61647449, 4.61647449,\n",
       "       4.71081661, 4.83031663, 4.84289558, 4.84918506, 4.89321138,\n",
       "       4.94352718, 4.9623956 , 4.96868508, 4.97497455, 5.00642193,\n",
       "       5.05044825, 5.0881851 , 5.11963247, 5.12592195, 5.15107985,\n",
       "       5.18252722, 5.21397459, 5.22026407, 5.22026407, 5.24542197,\n",
       "       5.29573777, 5.33347462, 5.36492199, 5.38379041, 5.41523779,\n",
       "       5.42152726, 5.42781674, 5.46555359, 5.48442201, 5.50329043,\n",
       "       5.54731676, 5.55989571, 5.55989571, 5.57247466, 5.57247466,\n",
       "       5.62907993, 5.64794835, 5.71713258, 5.736001  , 5.74857995,\n",
       "       5.76744838, 5.77373785, 5.7863168 , 5.79260627, 5.79889575,\n",
       "       5.82405365, 5.83034312, 5.8366326 , 5.8617905 , 5.93726419,\n",
       "       5.99386947, 6.03789579, 6.08821159, 6.13223791, 6.16997476,\n",
       "       6.18255371, 6.20142214, 6.23286951, 6.25802741, 6.27060636])"
      ]
     },
     "execution_count": 33,
     "metadata": {},
     "output_type": "execute_result"
    }
   ],
   "source": [
    "data['x_train']"
   ]
  },
  {
   "cell_type": "code",
   "execution_count": 35,
   "metadata": {},
   "outputs": [
    {
     "data": {
      "text/plain": [
       "array([[0.        ],\n",
       "       [0.        ],\n",
       "       [0.0503158 ],\n",
       "       [0.06289475],\n",
       "       [0.06289475],\n",
       "       [0.06289475],\n",
       "       [0.0754737 ],\n",
       "       [0.08176317],\n",
       "       [0.08176317],\n",
       "       [0.11321055],\n",
       "       [0.11950002],\n",
       "       [0.1257895 ],\n",
       "       [0.13207897],\n",
       "       [0.15094739],\n",
       "       [0.16352634],\n",
       "       [0.17610529],\n",
       "       [0.20755267],\n",
       "       [0.25157899],\n",
       "       [0.25786847],\n",
       "       [0.29560531],\n",
       "       [0.31447374],\n",
       "       [0.38994744],\n",
       "       [0.41510534],\n",
       "       [0.41510534],\n",
       "       [0.44655271],\n",
       "       [0.45913166],\n",
       "       [0.49057903],\n",
       "       [0.50315798],\n",
       "       [0.52202641],\n",
       "       [0.53460536],\n",
       "       [0.56605273],\n",
       "       [0.61007905],\n",
       "       [0.61007905],\n",
       "       [0.622658  ],\n",
       "       [0.66039485],\n",
       "       [0.6981317 ],\n",
       "       [0.71700013],\n",
       "       [0.77989487],\n",
       "       [0.77989487],\n",
       "       [0.80505277],\n",
       "       [0.91197384],\n",
       "       [0.99373702],\n",
       "       [1.03776334],\n",
       "       [1.06921071],\n",
       "       [1.10065809],\n",
       "       [1.10694756],\n",
       "       [1.16984231],\n",
       "       [1.20128968],\n",
       "       [1.29563181],\n",
       "       [1.29563181],\n",
       "       [1.30192128],\n",
       "       [1.31450023],\n",
       "       [1.3207897 ],\n",
       "       [1.35223708],\n",
       "       [1.3711055 ],\n",
       "       [1.37739498],\n",
       "       [1.43400025],\n",
       "       [1.5220529 ],\n",
       "       [1.5220529 ],\n",
       "       [1.53463185],\n",
       "       [1.5472108 ],\n",
       "       [1.56607922],\n",
       "       [1.59123712],\n",
       "       [1.59752659],\n",
       "       [1.62897397],\n",
       "       [1.66042134],\n",
       "       [1.66042134],\n",
       "       [1.71702662],\n",
       "       [1.74218451],\n",
       "       [1.74847399],\n",
       "       [1.76734241],\n",
       "       [1.76734241],\n",
       "       [1.79878979],\n",
       "       [1.80507926],\n",
       "       [1.81765821],\n",
       "       [1.81765821],\n",
       "       [1.82394769],\n",
       "       [1.87426349],\n",
       "       [1.88055296],\n",
       "       [1.89313191],\n",
       "       [1.89942138],\n",
       "       [1.90571086],\n",
       "       [1.91828981],\n",
       "       [1.93715823],\n",
       "       [1.94973718],\n",
       "       [1.97489508],\n",
       "       [2.00634246],\n",
       "       [2.01263193],\n",
       "       [2.02521088],\n",
       "       [2.0440793 ],\n",
       "       [2.05036878],\n",
       "       [2.07552668],\n",
       "       [2.08810563],\n",
       "       [2.0943951 ],\n",
       "       [2.10068458],\n",
       "       [2.10697405],\n",
       "       [2.16357932],\n",
       "       [2.20760565],\n",
       "       [2.22647407],\n",
       "       [2.27678987],\n",
       "       [2.32081619],\n",
       "       [2.33339514],\n",
       "       [2.34597409],\n",
       "       [2.34597409],\n",
       "       [2.36484252],\n",
       "       [2.37113199],\n",
       "       [2.47176359],\n",
       "       [2.52836886],\n",
       "       [2.56610571],\n",
       "       [2.61013203],\n",
       "       [2.61013203],\n",
       "       [2.69189521],\n",
       "       [2.70447416],\n",
       "       [2.75478995],\n",
       "       [2.76107943],\n",
       "       [2.83026365],\n",
       "       [2.85542155],\n",
       "       [2.93089525],\n",
       "       [2.9434742 ],\n",
       "       [3.00636895],\n",
       "       [3.02523737],\n",
       "       [3.06297422],\n",
       "       [3.10071107],\n",
       "       [3.15731634],\n",
       "       [3.16360582],\n",
       "       [3.22650056],\n",
       "       [3.35229006],\n",
       "       [3.35857953],\n",
       "       [3.37115848],\n",
       "       [3.37744796],\n",
       "       [3.39631638],\n",
       "       [3.44663218],\n",
       "       [3.4655006 ],\n",
       "       [3.4655006 ],\n",
       "       [3.5158164 ],\n",
       "       [3.5158164 ],\n",
       "       [3.53468483],\n",
       "       [3.54726378],\n",
       "       [3.55355325],\n",
       "       [3.58500063],\n",
       "       [3.70450065],\n",
       "       [3.74852697],\n",
       "       [3.75481644],\n",
       "       [3.77368487],\n",
       "       [3.81142172],\n",
       "       [3.81142172],\n",
       "       [3.83029014],\n",
       "       [3.83029014],\n",
       "       [3.85544804],\n",
       "       [3.86802699],\n",
       "       [3.88689542],\n",
       "       [3.89947436],\n",
       "       [3.89947436],\n",
       "       [3.92463226],\n",
       "       [3.92463226],\n",
       "       [3.92463226],\n",
       "       [3.94350069],\n",
       "       [3.98123754],\n",
       "       [3.98123754],\n",
       "       [4.00639544],\n",
       "       [4.03784281],\n",
       "       [4.04413228],\n",
       "       [4.08186913],\n",
       "       [4.09444808],\n",
       "       [4.14476388],\n",
       "       [4.16992178],\n",
       "       [4.18250073],\n",
       "       [4.18250073],\n",
       "       [4.20136915],\n",
       "       [4.22652705],\n",
       "       [4.23281653],\n",
       "       [4.239106  ],\n",
       "       [4.239106  ],\n",
       "       [4.239106  ],\n",
       "       [4.32086918],\n",
       "       [4.38376392],\n",
       "       [4.39634287],\n",
       "       [4.40892182],\n",
       "       [4.42779025],\n",
       "       [4.44665867],\n",
       "       [4.44665867],\n",
       "       [4.49697447],\n",
       "       [4.50326394],\n",
       "       [4.57244817],\n",
       "       [4.57873764],\n",
       "       [4.60389554],\n",
       "       [4.60389554],\n",
       "       [4.61018502],\n",
       "       [4.61647449],\n",
       "       [4.61647449],\n",
       "       [4.71081661],\n",
       "       [4.83031663],\n",
       "       [4.84289558],\n",
       "       [4.84918506],\n",
       "       [4.89321138],\n",
       "       [4.94352718],\n",
       "       [4.9623956 ],\n",
       "       [4.96868508],\n",
       "       [4.97497455],\n",
       "       [5.00642193],\n",
       "       [5.05044825],\n",
       "       [5.0881851 ],\n",
       "       [5.11963247],\n",
       "       [5.12592195],\n",
       "       [5.15107985],\n",
       "       [5.18252722],\n",
       "       [5.21397459],\n",
       "       [5.22026407],\n",
       "       [5.22026407],\n",
       "       [5.24542197],\n",
       "       [5.29573777],\n",
       "       [5.33347462],\n",
       "       [5.36492199],\n",
       "       [5.38379041],\n",
       "       [5.41523779],\n",
       "       [5.42152726],\n",
       "       [5.42781674],\n",
       "       [5.46555359],\n",
       "       [5.48442201],\n",
       "       [5.50329043],\n",
       "       [5.54731676],\n",
       "       [5.55989571],\n",
       "       [5.55989571],\n",
       "       [5.57247466],\n",
       "       [5.57247466],\n",
       "       [5.62907993],\n",
       "       [5.64794835],\n",
       "       [5.71713258],\n",
       "       [5.736001  ],\n",
       "       [5.74857995],\n",
       "       [5.76744838],\n",
       "       [5.77373785],\n",
       "       [5.7863168 ],\n",
       "       [5.79260627],\n",
       "       [5.79889575],\n",
       "       [5.82405365],\n",
       "       [5.83034312],\n",
       "       [5.8366326 ],\n",
       "       [5.8617905 ],\n",
       "       [5.93726419],\n",
       "       [5.99386947],\n",
       "       [6.03789579],\n",
       "       [6.08821159],\n",
       "       [6.13223791],\n",
       "       [6.16997476],\n",
       "       [6.18255371],\n",
       "       [6.20142214],\n",
       "       [6.23286951],\n",
       "       [6.25802741],\n",
       "       [6.27060636]])"
      ]
     },
     "execution_count": 35,
     "metadata": {},
     "output_type": "execute_result"
    }
   ],
   "source": [
    "data['x_train'].reshape(-1, 1)"
   ]
  },
  {
   "cell_type": "code",
   "execution_count": null,
   "metadata": {},
   "outputs": [],
   "source": []
  }
 ],
 "metadata": {
  "kernelspec": {
   "display_name": "Python 3",
   "language": "python",
   "name": "python3"
  },
  "language_info": {
   "codemirror_mode": {
    "name": "ipython",
    "version": 3
   },
   "file_extension": ".py",
   "mimetype": "text/x-python",
   "name": "python",
   "nbconvert_exporter": "python",
   "pygments_lexer": "ipython3",
   "version": "3.7.0"
  }
 },
 "nbformat": 4,
 "nbformat_minor": 2
}
